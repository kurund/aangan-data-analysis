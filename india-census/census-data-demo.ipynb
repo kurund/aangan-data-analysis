{
 "cells": [
  {
   "cell_type": "code",
   "execution_count": 149,
   "metadata": {},
   "outputs": [],
   "source": [
    "import pandas as pd\n",
    "import numpy as np\n",
    "import os\n",
    "import matplotlib\n",
    "import matplotlib.pyplot as plt\n",
    "from matplotlib.gridspec import GridSpec\n",
    "from matplotlib.ticker import FuncFormatter\n",
    "from IPython.display import display, display_pretty, Javascript, HTML\n",
    "from pandas_highcharts.core import serialize\n",
    "from pandas_highcharts.display import display_charts"
   ]
  },
  {
   "cell_type": "markdown",
   "metadata": {},
   "source": [
    "<h1> Combined Percentage Of  Livelihood and Literate In Different States In India </h1>"
   ]
  },
  {
   "cell_type": "code",
   "execution_count": 162,
   "metadata": {},
   "outputs": [
    {
     "data": {
      "text/html": [
       "<div id=\"chart_idVzhReFma\"</div>\n",
       "    <script type=\"text/javascript\">new Highcharts.Chart({\"chart\":{\"renderTo\":\"chart_idVzhReFma\",\"width\":1000,\"height\":700,\"type\":\"column\"},\"legend\":{\"enabled\":true},\"series\":[{\"name\":\"Dilapidated\",\"yAxis\":0,\"data\":[[\"ANDHRA PRADESH\",3.2073529412],[\"ARUNACHAL PRADESH\",3.1875],[\"ASSAM\",9.4061728395],[\"BIHAR\",7.3570175439],[\"CHANDIGARH\",3.2666666667],[\"CHHATTISGARH\",3.5203703704],[\"GOA\",1.5833333333],[\"GUJARAT\",1.5743589744],[\"HARYANA\",4.3666666667],[\"HIMACHAL PRADESH\",1.5235294118],[\"JHARKHAND\",4.4444444444],[\"KARNATAKA\",4.1355555556],[\"KERALA\",5.280952381],[\"LAKSHADWEEP\",1.0],[\"MADHYA PRADESH\",3.8313333333],[\"MAHARASHTRA\",4.6796116505],[\"MANIPUR\",5.0888888889],[\"MEGHALAYA\",5.1857142857],[\"MIZORAM\",3.575],[\"NAGALAND\",1.8060606061],[\"NCT OF DELHI\",2.836],[\"PUNJAB\",6.5716666667],[\"RAJASTHAN\",3.5232323232],[\"SIKKIM\",4.7666666667],[\"TAMIL NADU\",1.9452631579],[\"TRIPURA\",5.9083333333],[\"UTTAR PRADESH\",5.9713615023],[\"UTTARAKHAND\",2.8461538462],[\"WEST BENGAL\",10.9732142857]]},{\"name\":\"Good\",\"yAxis\":0,\"data\":[[\"ANDHRA PRADESH\",70.9588235294],[\"ARUNACHAL PRADESH\",52.06875],[\"ASSAM\",38.7580246914],[\"BIHAR\",39.5719298246],[\"CHANDIGARH\",63.2],[\"CHHATTISGARH\",49.0203703704],[\"GOA\",75.85],[\"GUJARAT\",66.85],[\"HARYANA\",54.9063492063],[\"HIMACHAL PRADESH\",73.5735294118],[\"JHARKHAND\",45.5388888889],[\"KARNATAKA\",58.4688888889],[\"KERALA\",65.7428571429],[\"LAKSHADWEEP\",73.75],[\"MADHYA PRADESH\",54.6986666667],[\"MAHARASHTRA\",61.8252427184],[\"MANIPUR\",48.7037037037],[\"MEGHALAYA\",50.5],[\"MIZORAM\",57.1458333333],[\"NAGALAND\",51.3848484848],[\"NCT OF DELHI\",64.616],[\"PUNJAB\",51.4966666667],[\"RAJASTHAN\",53.5222222222],[\"SIKKIM\",60.4583333333],[\"TAMIL NADU\",69.3168421053],[\"TRIPURA\",53.6666666667],[\"UTTAR PRADESH\",45.8103286385],[\"UTTARAKHAND\",72.0461538462],[\"WEST BENGAL\",42.6982142857]]},{\"name\":\"Literate\",\"yAxis\":0,\"data\":[[\"ANDHRA PRADESH\",59.1419075543],[\"ARUNACHAL PRADESH\",54.3403067843],[\"ASSAM\",61.6861302925],[\"BIHAR\",50.3949737223],[\"CHANDIGARH\",76.31228386],[\"CHHATTISGARH\",56.3641909806],[\"GOA\",79.7481454955],[\"GUJARAT\",66.5059750374],[\"HARYANA\",65.4314381703],[\"HIMACHAL PRADESH\",72.5857773553],[\"JHARKHAND\",54.0147395689],[\"KARNATAKA\",65.1996539513],[\"KERALA\",84.1359485881],[\"LAKSHADWEEP\",81.5116405317],[\"MADHYA PRADESH\",57.560217237],[\"MAHARASHTRA\",71.411058436],[\"MANIPUR\",66.3243029824],[\"MEGHALAYA\",58.8102741724],[\"MIZORAM\",75.040354483],[\"NAGALAND\",66.5243560017],[\"NCT OF DELHI\",76.597509343],[\"PUNJAB\",66.4494699812],[\"RAJASTHAN\",54.5201102097],[\"SIKKIM\",71.6030686669],[\"TAMIL NADU\",71.2311019313],[\"TRIPURA\",75.1856005315],[\"UTTAR PRADESH\",57.0880747606],[\"UTTARAKHAND\",68.9897272608],[\"WEST BENGAL\",66.1716852815]]},{\"name\":\"Livable\",\"yAxis\":0,\"data\":[[\"ANDHRA PRADESH\",25.8367647059],[\"ARUNACHAL PRADESH\",44.7375],[\"ASSAM\",51.8259259259],[\"BIHAR\",53.0692982456],[\"CHANDIGARH\",33.5666666667],[\"CHHATTISGARH\",47.4537037037],[\"GOA\",22.5833333333],[\"GUJARAT\",31.5756410256],[\"HARYANA\",40.7349206349],[\"HIMACHAL PRADESH\",24.9029411765],[\"JHARKHAND\",50.0152777778],[\"KARNATAKA\",37.3988888889],[\"KERALA\",28.9761904762],[\"LAKSHADWEEP\",25.25],[\"MADHYA PRADESH\",41.4686666667],[\"MAHARASHTRA\",33.4883495146],[\"MANIPUR\",46.2],[\"MEGHALAYA\",44.3285714286],[\"MIZORAM\",39.2625],[\"NAGALAND\",46.8090909091],[\"NCT OF DELHI\",32.536],[\"PUNJAB\",41.9283333333],[\"RAJASTHAN\",42.9525252525],[\"SIKKIM\",34.7666666667],[\"TAMIL NADU\",28.7357894737],[\"TRIPURA\",40.3916666667],[\"UTTAR PRADESH\",48.2248826291],[\"UTTARAKHAND\",25.1025641026],[\"WEST BENGAL\",46.3303571429]]}],\"title\":{\"text\":\"Population\"},\"xAxis\":{\"title\":{\"text\":\"State Name\"},\"categories\":[\"ANDHRA PRADESH\",\"ARUNACHAL PRADESH\",\"ASSAM\",\"BIHAR\",\"CHANDIGARH\",\"CHHATTISGARH\",\"GOA\",\"GUJARAT\",\"HARYANA\",\"HIMACHAL PRADESH\",\"JHARKHAND\",\"KARNATAKA\",\"KERALA\",\"LAKSHADWEEP\",\"MADHYA PRADESH\",\"MAHARASHTRA\",\"MANIPUR\",\"MEGHALAYA\",\"MIZORAM\",\"NAGALAND\",\"NCT OF DELHI\",\"PUNJAB\",\"RAJASTHAN\",\"SIKKIM\",\"TAMIL NADU\",\"TRIPURA\",\"UTTAR PRADESH\",\"UTTARAKHAND\",\"WEST BENGAL\"]},\"yAxis\":[{}]});</script>"
      ],
      "text/plain": [
       "<IPython.core.display.HTML object>"
      ]
     },
     "metadata": {},
     "output_type": "display_data"
    }
   ],
   "source": [
    "file1_path = \"data/india_census_housing-hlpca-full.csv\"\n",
    "file2_path = \"data/india-districts-census-2011.csv\"\n",
    "pd.set_option('display.float_format', lambda x: '%.3f' % x)\n",
    "dataFirst = pd.read_csv(file1_path, encoding='utf-8')\n",
    "dataSecond = pd.read_csv(file2_path, encoding='utf-8')\n",
    "dataSecond['Literate Per'] = (dataSecond['Literate'].div(dataSecond['Population'])).multiply(100)\n",
    "results = pd.merge(dataFirst[['State Name','Contition_T_Good','Contition_T_Livable','Contition_T_Dilapidated']],dataSecond[['State Name','Literate Per']],on='State Name')\n",
    "dfl = results.groupby(['State Name'])[['Contition_T_Good','Contition_T_Livable','Contition_T_Dilapidated','Literate Per']].sum().div(results.groupby(['State Name'])[['Contition_T_Good','Contition_T_Livable','Contition_T_Dilapidated','Literate Per']].count()).rename(columns={'Contition_T_Good':'Good','Contition_T_Livable':'Livable','Contition_T_Dilapidated':'Dilapidated','Literate Per':'Literate'})\n",
    "display_charts(dfl , kind=\"bar\", title=\"Population\",figsize = (1000, 700))"
   ]
  },
  {
   "cell_type": "markdown",
   "metadata": {},
   "source": [
    "<h1> State Wise Population In 2001 </h1>"
   ]
  },
  {
   "cell_type": "code",
   "execution_count": 151,
   "metadata": {},
   "outputs": [
    {
     "data": {
      "text/html": [
       "<div id=\"chart_idXRYtWxkA\"</div>\n",
       "    <script type=\"text/javascript\">new Highcharts.Chart({\"chart\":{\"renderTo\":\"chart_idXRYtWxkA\",\"width\":1000,\"height\":700,\"type\":\"column\"},\"legend\":{\"enabled\":true},\"series\":[{\"name\":\"Female\",\"yAxis\":0,\"data\":[[\"ANDAMAN AND NICOBAR ISLANDS\",177710],[\"ANDHRA PRADESH\",42138631],[\"ARUNACHAL PRADESH\",669815],[\"ASSAM\",15266133],[\"BIHAR\",49821295],[\"CHANDIGARH\",474787],[\"CHHATTISGARH\",12712303],[\"DADRA AND NAGAR HAVELI\",149949],[\"DAMAN AND DIU\",92946],[\"GOA\",719405],[\"GUJARAT\",28948432],[\"HARYANA\",11856728],[\"HIMACHAL PRADESH\",3382729],[\"JAMMU AND KASHMIR\",5900640],[\"JHARKHAND\",16057819],[\"KARNATAKA\",30128640],[\"KERALA\",17378649],[\"LAKSHADWEEP\",31350],[\"MADHYA PRADESH\",35014503],[\"MAHARASHTRA\",54131277],[\"MANIPUR\",1417208],[\"MEGHALAYA\",1475057],[\"MIZORAM\",541867],[\"NAGALAND\",953853],[\"NCT OF DELHI\",7800615],[\"ORISSA\",20762082],[\"PONDICHERRY\",635442],[\"PUNJAB\",13103873],[\"RAJASTHAN\",32997440],[\"SIKKIM\",287507],[\"TAMIL NADU\",36009055],[\"TRIPURA\",1799541],[\"UTTAR PRADESH\",95331831],[\"UTTARAKHAND\",4948519],[\"WEST BENGAL\",44467088]]},{\"name\":\"Male\",\"yAxis\":0,\"data\":[[\"ANDAMAN AND NICOBAR ISLANDS\",202871],[\"ANDHRA PRADESH\",42442146],[\"ARUNACHAL PRADESH\",713912],[\"ASSAM\",15939443],[\"BIHAR\",54278157],[\"CHANDIGARH\",580663],[\"CHHATTISGARH\",12832895],[\"DADRA AND NAGAR HAVELI\",193760],[\"DAMAN AND DIU\",150301],[\"GOA\",739140],[\"GUJARAT\",31491260],[\"HARYANA\",13494734],[\"HIMACHAL PRADESH\",3481873],[\"JAMMU AND KASHMIR\",6640662],[\"JHARKHAND\",16930315],[\"KARNATAKA\",30966657],[\"KERALA\",16027412],[\"LAKSHADWEEP\",33123],[\"MADHYA PRADESH\",37612306],[\"MAHARASHTRA\",58243056],[\"MANIPUR\",1438586],[\"MEGHALAYA\",1491832],[\"MIZORAM\",555339],[\"NAGALAND\",1024649],[\"NCT OF DELHI\",8987326],[\"ORISSA\",21212136],[\"PONDICHERRY\",612511],[\"PUNJAB\",14639465],[\"RAJASTHAN\",35550997],[\"SIKKIM\",323070],[\"TAMIL NADU\",36137975],[\"TRIPURA\",1874376],[\"UTTAR PRADESH\",104480510],[\"UTTARAKHAND\",5137773],[\"WEST BENGAL\",46809027]]},{\"name\":\"Total\",\"yAxis\":0,\"data\":[[\"ANDAMAN AND NICOBAR ISLANDS\",380581],[\"ANDHRA PRADESH\",84580777],[\"ARUNACHAL PRADESH\",1383727],[\"ASSAM\",31205576],[\"BIHAR\",104099452],[\"CHANDIGARH\",1055450],[\"CHHATTISGARH\",25545198],[\"DADRA AND NAGAR HAVELI\",343709],[\"DAMAN AND DIU\",243247],[\"GOA\",1458545],[\"GUJARAT\",60439692],[\"HARYANA\",25351462],[\"HIMACHAL PRADESH\",6864602],[\"JAMMU AND KASHMIR\",12541302],[\"JHARKHAND\",32988134],[\"KARNATAKA\",61095297],[\"KERALA\",33406061],[\"LAKSHADWEEP\",64473],[\"MADHYA PRADESH\",72626809],[\"MAHARASHTRA\",112374333],[\"MANIPUR\",2855794],[\"MEGHALAYA\",2966889],[\"MIZORAM\",1097206],[\"NAGALAND\",1978502],[\"NCT OF DELHI\",16787941],[\"ORISSA\",41974218],[\"PONDICHERRY\",1247953],[\"PUNJAB\",27743338],[\"RAJASTHAN\",68548437],[\"SIKKIM\",610577],[\"TAMIL NADU\",72147030],[\"TRIPURA\",3673917],[\"UTTAR PRADESH\",199812341],[\"UTTARAKHAND\",10086292],[\"WEST BENGAL\",91276115]]}],\"title\":{\"text\":\"Caste Distribution In India\"},\"xAxis\":{\"title\":{\"text\":\"State Name\"},\"categories\":[\"ANDAMAN AND NICOBAR ISLANDS\",\"ANDHRA PRADESH\",\"ARUNACHAL PRADESH\",\"ASSAM\",\"BIHAR\",\"CHANDIGARH\",\"CHHATTISGARH\",\"DADRA AND NAGAR HAVELI\",\"DAMAN AND DIU\",\"GOA\",\"GUJARAT\",\"HARYANA\",\"HIMACHAL PRADESH\",\"JAMMU AND KASHMIR\",\"JHARKHAND\",\"KARNATAKA\",\"KERALA\",\"LAKSHADWEEP\",\"MADHYA PRADESH\",\"MAHARASHTRA\",\"MANIPUR\",\"MEGHALAYA\",\"MIZORAM\",\"NAGALAND\",\"NCT OF DELHI\",\"ORISSA\",\"PONDICHERRY\",\"PUNJAB\",\"RAJASTHAN\",\"SIKKIM\",\"TAMIL NADU\",\"TRIPURA\",\"UTTAR PRADESH\",\"UTTARAKHAND\",\"WEST BENGAL\"]},\"yAxis\":[{}]});</script>"
      ],
      "text/plain": [
       "<IPython.core.display.HTML object>"
      ]
     },
     "metadata": {},
     "output_type": "display_data"
    }
   ],
   "source": [
    "dfp = dataSecond.groupby(['State Name'])[['Male','Female','Population']].sum().rename(columns={'Population':'Total'})\n",
    "display_charts(dfp , kind=\"bar\", title=\"Caste Distribution In India\",figsize = (1000, 700))"
   ]
  },
  {
   "cell_type": "markdown",
   "metadata": {},
   "source": [
    "<h1> Literacy Graph </h1>"
   ]
  },
  {
   "cell_type": "markdown",
   "metadata": {},
   "source": [
    "<h1> Distribution of caste in India </h1>"
   ]
  },
  {
   "cell_type": "code",
   "execution_count": 124,
   "metadata": {},
   "outputs": [
    {
     "data": {
      "text/html": [
       "<iframe id=\"igraph\" scrolling=\"no\" style=\"border:none;\" seamless=\"seamless\" src=\"https://plot.ly/~shahinraza/5.embed\" height=\"525px\" width=\"100%\"></iframe>"
      ],
      "text/plain": [
       "<plotly.tools.PlotlyDisplay object>"
      ]
     },
     "execution_count": 124,
     "metadata": {},
     "output_type": "execute_result"
    }
   ],
   "source": [
    "import plotly.plotly as py\n",
    "import plotly\n",
    "import cufflinks as cf\n",
    "plotly.tools.set_credentials_file(username='shahinraza', api_key='VevQAbHwr6exuORAv3uF')\n",
    "import plotly.graph_objs as go\n",
    "df = dataSecond.groupby(['State Name'])[['SC','Male_SC','Female_SC','ST','Male_ST','Female_ST']].sum().rename(columns={'Male_SC':'SC Male','Female_SC':'SC Female','Male_ST':'ST Male','Female_ST':'ST Female'})\n",
    "cf.set_config_file(offline=False, world_readable=True, theme='ggplot')\n",
    "df.iplot(kind='bar', filename='grouped-bar-chart')"
   ]
  },
  {
   "cell_type": "code",
   "execution_count": 126,
   "metadata": {},
   "outputs": [
    {
     "data": {
      "text/html": [
       "<iframe id=\"igraph\" scrolling=\"no\" style=\"border:none;\" seamless=\"seamless\" src=\"https://plot.ly/~shahinraza/7.embed\" height=\"525px\" width=\"100%\"></iframe>"
      ],
      "text/plain": [
       "<plotly.tools.PlotlyDisplay object>"
      ]
     },
     "execution_count": 126,
     "metadata": {},
     "output_type": "execute_result"
    }
   ],
   "source": [
    "df = dataSecond.groupby(['State Name'])[['SC','Male_SC','Female_SC','ST','Male_ST','Female_ST']].sum().rename(columns={'Male_SC':'SC Male','Female_SC':'SC Female','Male_ST':'ST Male','Female_ST':'ST Female'})\n",
    "cf.set_config_file(offline=False, world_readable=True, theme='ggplot')\n",
    "df.iplot(kind='bar', barmode='stack', filename='stacked-bar-chart')"
   ]
  },
  {
   "cell_type": "code",
   "execution_count": 161,
   "metadata": {},
   "outputs": [
    {
     "data": {
      "text/html": [
       "<div id=\"chart_idRLvuDoCb\"</div>\n",
       "    <script type=\"text/javascript\">new Highcharts.Chart({\"chart\":{\"renderTo\":\"chart_idRLvuDoCb\",\"width\":1000,\"height\":700,\"type\":\"column\"},\"legend\":{\"enabled\":true},\"series\":[{\"name\":\"SC\",\"yAxis\":0,\"data\":[[\"ANDAMAN AND NICOBAR ISLANDS\",0],[\"ANDHRA PRADESH\",13878078],[\"ARUNACHAL PRADESH\",0],[\"ASSAM\",2231321],[\"BIHAR\",16567325],[\"CHANDIGARH\",199086],[\"CHHATTISGARH\",3274269],[\"DADRA AND NAGAR HAVELI\",6186],[\"DAMAN AND DIU\",6124],[\"GOA\",25449],[\"GUJARAT\",4074447],[\"HARYANA\",5113615],[\"HIMACHAL PRADESH\",1729252],[\"JAMMU AND KASHMIR\",924991],[\"JHARKHAND\",3985644],[\"KARNATAKA\",10474992],[\"KERALA\",3039573],[\"LAKSHADWEEP\",0],[\"MADHYA PRADESH\",11342320],[\"MAHARASHTRA\",13275898],[\"MANIPUR\",97328],[\"MEGHALAYA\",17355],[\"MIZORAM\",1218],[\"NAGALAND\",0],[\"NCT OF DELHI\",2812309],[\"ORISSA\",7188463],[\"PONDICHERRY\",196325],[\"PUNJAB\",8860179],[\"RAJASTHAN\",12221593],[\"SIKKIM\",28275],[\"TAMIL NADU\",14438445],[\"TRIPURA\",654918],[\"UTTAR PRADESH\",41357608],[\"UTTARAKHAND\",1892516],[\"WEST BENGAL\",21463270]]},{\"name\":\"SC Female\",\"yAxis\":0,\"data\":[[\"ANDAMAN AND NICOBAR ISLANDS\",0],[\"ANDHRA PRADESH\",6965031],[\"ARUNACHAL PRADESH\",0],[\"ASSAM\",1086007],[\"BIHAR\",7961072],[\"CHANDIGARH\",92730],[\"CHHATTISGARH\",1632531],[\"DADRA AND NAGAR HAVELI\",2847],[\"DAMAN AND DIU\",2973],[\"GOA\",12822],[\"GUJARAT\",1964116],[\"HARYANA\",2403959],[\"HIMACHAL PRADESH\",852952],[\"JAMMU AND KASHMIR\",438759],[\"JHARKHAND\",1942186],[\"KARNATAKA\",5210447],[\"KERALA\",1561765],[\"LAKSHADWEEP\",0],[\"MADHYA PRADESH\",5433682],[\"MAHARASHTRA\",6508139],[\"MANIPUR\",48465],[\"MEGHALAYA\",8198],[\"MIZORAM\",411],[\"NAGALAND\",0],[\"NCT OF DELHI\",1323509],[\"ORISSA\",3570655],[\"PONDICHERRY\",100813],[\"PUNJAB\",4220304],[\"RAJASTHAN\",5866029],[\"SIKKIM\",13821],[\"TAMIL NADU\",7233758],[\"TRIPURA\",320548],[\"UTTAR PRADESH\",19680633],[\"UTTARAKHAND\",923930],[\"WEST BENGAL\",10459966]]},{\"name\":\"SC Male\",\"yAxis\":0,\"data\":[[\"ANDAMAN AND NICOBAR ISLANDS\",0],[\"ANDHRA PRADESH\",6913047],[\"ARUNACHAL PRADESH\",0],[\"ASSAM\",1145314],[\"BIHAR\",8606253],[\"CHANDIGARH\",106356],[\"CHHATTISGARH\",1641738],[\"DADRA AND NAGAR HAVELI\",3339],[\"DAMAN AND DIU\",3151],[\"GOA\",12627],[\"GUJARAT\",2110331],[\"HARYANA\",2709656],[\"HIMACHAL PRADESH\",876300],[\"JAMMU AND KASHMIR\",486232],[\"JHARKHAND\",2043458],[\"KARNATAKA\",5264545],[\"KERALA\",1477808],[\"LAKSHADWEEP\",0],[\"MADHYA PRADESH\",5908638],[\"MAHARASHTRA\",6767759],[\"MANIPUR\",48863],[\"MEGHALAYA\",9157],[\"MIZORAM\",807],[\"NAGALAND\",0],[\"NCT OF DELHI\",1488800],[\"ORISSA\",3617808],[\"PONDICHERRY\",95512],[\"PUNJAB\",4639875],[\"RAJASTHAN\",6355564],[\"SIKKIM\",14454],[\"TAMIL NADU\",7204687],[\"TRIPURA\",334370],[\"UTTAR PRADESH\",21676975],[\"UTTARAKHAND\",968586],[\"WEST BENGAL\",11003304]]},{\"name\":\"ST\",\"yAxis\":0,\"data\":[[\"ANDAMAN AND NICOBAR ISLANDS\",28530],[\"ANDHRA PRADESH\",5918073],[\"ARUNACHAL PRADESH\",951821],[\"ASSAM\",3884371],[\"BIHAR\",1336573],[\"CHANDIGARH\",0],[\"CHHATTISGARH\",7822902],[\"DADRA AND NAGAR HAVELI\",178564],[\"DAMAN AND DIU\",15363],[\"GOA\",149275],[\"GUJARAT\",8917174],[\"HARYANA\",0],[\"HIMACHAL PRADESH\",392126],[\"JAMMU AND KASHMIR\",1493299],[\"JHARKHAND\",8645042],[\"KARNATAKA\",4248987],[\"KERALA\",484839],[\"LAKSHADWEEP\",61120],[\"MADHYA PRADESH\",15316784],[\"MAHARASHTRA\",10510213],[\"MANIPUR\",1167422],[\"MEGHALAYA\",2555861],[\"MIZORAM\",1036115],[\"NAGALAND\",1710973],[\"NCT OF DELHI\",0],[\"ORISSA\",9590756],[\"PONDICHERRY\",0],[\"PUNJAB\",0],[\"RAJASTHAN\",9238534],[\"SIKKIM\",206360],[\"TAMIL NADU\",794697],[\"TRIPURA\",1166813],[\"UTTAR PRADESH\",1134273],[\"UTTARAKHAND\",291903],[\"WEST BENGAL\",5296953]]},{\"name\":\"ST Female\",\"yAxis\":0,\"data\":[[\"ANDAMAN AND NICOBAR ISLANDS\",13799],[\"ANDHRA PRADESH\",2948711],[\"ARUNACHAL PRADESH\",483431],[\"ASSAM\",1927366],[\"BIHAR\",654057],[\"CHANDIGARH\",0],[\"CHHATTISGARH\",3949711],[\"DADRA AND NAGAR HAVELI\",89720],[\"DAMAN AND DIU\",7592],[\"GOA\",76327],[\"GUJARAT\",4415785],[\"HARYANA\",0],[\"HIMACHAL PRADESH\",196008],[\"JAMMU AND KASHMIR\",717042],[\"JHARKHAND\",4329635],[\"KARNATAKA\",2114233],[\"KERALA\",246636],[\"LAKSHADWEEP\",30605],[\"MADHYA PRADESH\",7597380],[\"MAHARASHTRA\",5195188],[\"MANIPUR\",579143],[\"MEGHALAYA\",1286133],[\"MIZORAM\",519821],[\"NAGALAND\",844946],[\"NCT OF DELHI\",0],[\"ORISSA\",4863024],[\"PONDICHERRY\",0],[\"PUNJAB\",0],[\"RAJASTHAN\",4495591],[\"SIKKIM\",101099],[\"TAMIL NADU\",393629],[\"TRIPURA\",578486],[\"UTTAR PRADESH\",553190],[\"UTTARAKHAND\",143234],[\"WEST BENGAL\",2646979]]},{\"name\":\"ST Male\",\"yAxis\":0,\"data\":[[\"ANDAMAN AND NICOBAR ISLANDS\",14731],[\"ANDHRA PRADESH\",2969362],[\"ARUNACHAL PRADESH\",468390],[\"ASSAM\",1957005],[\"BIHAR\",682516],[\"CHANDIGARH\",0],[\"CHHATTISGARH\",3873191],[\"DADRA AND NAGAR HAVELI\",88844],[\"DAMAN AND DIU\",7771],[\"GOA\",72948],[\"GUJARAT\",4501389],[\"HARYANA\",0],[\"HIMACHAL PRADESH\",196118],[\"JAMMU AND KASHMIR\",776257],[\"JHARKHAND\",4315407],[\"KARNATAKA\",2134754],[\"KERALA\",238203],[\"LAKSHADWEEP\",30515],[\"MADHYA PRADESH\",7719404],[\"MAHARASHTRA\",5315025],[\"MANIPUR\",588279],[\"MEGHALAYA\",1269728],[\"MIZORAM\",516294],[\"NAGALAND\",866027],[\"NCT OF DELHI\",0],[\"ORISSA\",4727732],[\"PONDICHERRY\",0],[\"PUNJAB\",0],[\"RAJASTHAN\",4742943],[\"SIKKIM\",105261],[\"TAMIL NADU\",401068],[\"TRIPURA\",588327],[\"UTTAR PRADESH\",581083],[\"UTTARAKHAND\",148669],[\"WEST BENGAL\",2649974]]}],\"title\":{\"text\":\"Caste Distribution In India\"},\"xAxis\":{\"title\":{\"text\":\"State Name\"},\"categories\":[\"ANDAMAN AND NICOBAR ISLANDS\",\"ANDHRA PRADESH\",\"ARUNACHAL PRADESH\",\"ASSAM\",\"BIHAR\",\"CHANDIGARH\",\"CHHATTISGARH\",\"DADRA AND NAGAR HAVELI\",\"DAMAN AND DIU\",\"GOA\",\"GUJARAT\",\"HARYANA\",\"HIMACHAL PRADESH\",\"JAMMU AND KASHMIR\",\"JHARKHAND\",\"KARNATAKA\",\"KERALA\",\"LAKSHADWEEP\",\"MADHYA PRADESH\",\"MAHARASHTRA\",\"MANIPUR\",\"MEGHALAYA\",\"MIZORAM\",\"NAGALAND\",\"NCT OF DELHI\",\"ORISSA\",\"PONDICHERRY\",\"PUNJAB\",\"RAJASTHAN\",\"SIKKIM\",\"TAMIL NADU\",\"TRIPURA\",\"UTTAR PRADESH\",\"UTTARAKHAND\",\"WEST BENGAL\"]},\"yAxis\":[{}]});</script>"
      ],
      "text/plain": [
       "<IPython.core.display.HTML object>"
      ]
     },
     "metadata": {},
     "output_type": "display_data"
    }
   ],
   "source": [
    "df = dataSecond.groupby(['State Name'])[['SC','Male_SC','Female_SC','ST','Male_ST','Female_ST']].sum().rename(columns={'Male_SC':'SC Male','Female_SC':'SC Female','Male_ST':'ST Male','Female_ST':'ST Female'})\n",
    "display_charts(df,kind=\"bar\", title=\"Caste Distribution In India\",figsize = (1000, 700))"
   ]
  },
  {
   "cell_type": "code",
   "execution_count": 163,
   "metadata": {},
   "outputs": [
    {
     "data": {
      "text/html": [
       "<div id=\"chart_idZAXhDVDi\"</div>\n",
       "    <script type=\"text/javascript\">new Highcharts.Chart({\"chart\":{\"renderTo\":\"chart_idZAXhDVDi\",\"type\":\"pie\"},\"legend\":{\"enabled\":true},\"series\":[{\"name\":\"Literate\",\"yAxis\":0,\"data\":[[\"ANDAMAN AND NICOBAR ISLANDS\",294281],[\"ANDHRA PRADESH\",50556760],[\"ARUNACHAL PRADESH\",766005],[\"ASSAM\",19177977],[\"BIHAR\",52504553],[\"CHANDIGARH\",805438],[\"CHHATTISGARH\",15379922],[\"DADRA AND NAGAR HAVELI\",223230],[\"DAMAN AND DIU\",188406],[\"GOA\",1165487],[\"GUJARAT\",41093358],[\"HARYANA\",16598988],[\"HIMACHAL PRADESH\",5039736],[\"JAMMU AND KASHMIR\",7067233],[\"JHARKHAND\",18328069],[\"KARNATAKA\",40647322],[\"KERALA\",28135824],[\"LAKSHADWEEP\",52553],[\"MADHYA PRADESH\",42851169],[\"MAHARASHTRA\",81554290],[\"MANIPUR\",1908476],[\"MEGHALAYA\",1785005],[\"MIZORAM\",848175],[\"NAGALAND\",1342434],[\"NCT OF DELHI\",12737767],[\"ORISSA\",26742595],[\"PONDICHERRY\",957309],[\"PUNJAB\",18707137],[\"RAJASTHAN\",38275282],[\"SIKKIM\",444952],[\"TAMIL NADU\",51837507],[\"TRIPURA\",2804783],[\"UTTAR PRADESH\",114397555],[\"UTTARAKHAND\",6880953],[\"WEST BENGAL\",61538281]]}],\"title\":{\"text\":\"Literacy In India\"},\"tooltip\":{\"pointFormat\":\"{series.name}: <b>{point.percentage:.1f}%<\\/b>\"},\"xAxis\":{\"title\":{\"text\":\"State Name\"},\"categories\":[\"ANDAMAN AND NICOBAR ISLANDS\",\"ANDHRA PRADESH\",\"ARUNACHAL PRADESH\",\"ASSAM\",\"BIHAR\",\"CHANDIGARH\",\"CHHATTISGARH\",\"DADRA AND NAGAR HAVELI\",\"DAMAN AND DIU\",\"GOA\",\"GUJARAT\",\"HARYANA\",\"HIMACHAL PRADESH\",\"JAMMU AND KASHMIR\",\"JHARKHAND\",\"KARNATAKA\",\"KERALA\",\"LAKSHADWEEP\",\"MADHYA PRADESH\",\"MAHARASHTRA\",\"MANIPUR\",\"MEGHALAYA\",\"MIZORAM\",\"NAGALAND\",\"NCT OF DELHI\",\"ORISSA\",\"PONDICHERRY\",\"PUNJAB\",\"RAJASTHAN\",\"SIKKIM\",\"TAMIL NADU\",\"TRIPURA\",\"UTTAR PRADESH\",\"UTTARAKHAND\",\"WEST BENGAL\"]},\"yAxis\":[{}]});</script>"
      ],
      "text/plain": [
       "<IPython.core.display.HTML object>"
      ]
     },
     "metadata": {},
     "output_type": "display_data"
    }
   ],
   "source": [
    "df2 = dataSecond.groupby(['State Name'])[['Literate']].sum()\n",
    "display_charts(df2, kind='pie', title='Literacy In India', tooltip={'pointFormat': '{series.name}: <b>{point.percentage:.1f}%</b>'})"
   ]
  },
  {
   "cell_type": "markdown",
   "metadata": {},
   "source": [
    "<h1> Distribution Of Religions In India </h1>"
   ]
  },
  {
   "cell_type": "code",
   "execution_count": 183,
   "metadata": {},
   "outputs": [
    {
     "data": {
      "text/html": [
       "<div id=\"chart_idfTpQRvRT\"</div>\n",
       "    <script type=\"text/javascript\">new Highcharts.Chart({\"chart\":{\"renderTo\":\"chart_idfTpQRvRT\",\"type\":\"pie\"},\"legend\":{\"enabled\":true},\"series\":[{\"name\":0,\"yAxis\":0,\"data\":[[\"Hindus\",966257353],[\"Muslims\",172245158],[\"Christians\",27819588],[\"Sikhs\",20833116],[\"Buddhists\",8442972],[\"Jains\",4451753],[\"Others_Religions\",7937734]]}],\"title\":{\"text\":\"Religions Distribution In India\"},\"tooltip\":{\"pointFormat\":\"{series.name}: <b>{point.percentage:.1f}%<\\/b>\"},\"xAxis\":{\"categories\":[\"Hindus\",\"Muslims\",\"Christians\",\"Sikhs\",\"Buddhists\",\"Jains\",\"Others_Religions\"]},\"yAxis\":[{}]});</script>"
      ],
      "text/plain": [
       "<IPython.core.display.HTML object>"
      ]
     },
     "metadata": {},
     "output_type": "display_data"
    }
   ],
   "source": [
    "dfr = dataSecond[['Hindus','Muslims','Christians','Sikhs','Buddhists','Jains','Others_Religions']].sum()\n",
    "res = pd.DataFrame(dfr[['Hindus','Muslims','Christians','Sikhs','Buddhists','Jains','Others_Religions']])\n",
    "display_charts(res, kind='pie', title='Religions Distribution In India', tooltip={'pointFormat': '{series.name}: <b>{point.percentage:.1f}%</b>'})"
   ]
  },
  {
   "cell_type": "code",
   "execution_count": null,
   "metadata": {},
   "outputs": [],
   "source": []
  }
 ],
 "metadata": {
  "kernelspec": {
   "display_name": "Python 3",
   "language": "python",
   "name": "python3"
  },
  "language_info": {
   "codemirror_mode": {
    "name": "ipython",
    "version": 3
   },
   "file_extension": ".py",
   "mimetype": "text/x-python",
   "name": "python",
   "nbconvert_exporter": "python",
   "pygments_lexer": "ipython3",
   "version": "3.6.3"
  }
 },
 "nbformat": 4,
 "nbformat_minor": 2
}
