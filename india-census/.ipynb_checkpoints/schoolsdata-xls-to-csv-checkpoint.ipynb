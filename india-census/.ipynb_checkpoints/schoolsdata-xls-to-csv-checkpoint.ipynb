{
 "cells": [
  {
   "cell_type": "code",
   "execution_count": 61,
   "metadata": {},
   "outputs": [],
   "source": [
    "import pandas as pd\n",
    "import numpy as np\n",
    "from functools import reduce\n",
    "#from IPython.display import display\n",
    "#pd.options.display.max_columns = None\n",
    "#pd.options.display.max_rows = None\n",
    "\n",
    "schoolxls2005    = pd.ExcelFile('data/school/elementary_data_2005-06.xls')\n",
    "schoolxls2006    = pd.ExcelFile('data/school/elementary_data_2006-07.xls')\n",
    "schoolxls2007    = pd.ExcelFile('data/school/elementary_data_2007-08.xls')\n",
    "schoolxls2008    = pd.ExcelFile('data/school/elementary_data_2008-09.xls')\n",
    "schoolxls2009    = pd.ExcelFile('data/school/elementary_data_2009-10.xls')\n",
    "schoolxls2010    = pd.ExcelFile('data/school/elementary_data_2010-11.xls')\n",
    "schoolxls2011    = pd.ExcelFile('data/school/elementary_data_2011-12.xlsx')\n",
    "schoolxls2012    = pd.ExcelFile('data/school/elementary_data_2012-13.xlsx')\n",
    "schoolxls2013    = pd.ExcelFile('data/school/elementary_data_2013-14.xlsx')\n",
    "schoolxls2015    = pd.ExcelFile('data/school/elementary_data_2015-16.xlsx')\n",
    "\n",
    "schoolsheet2005  = pd.read_excel(schoolxls2005, 'School')\n",
    "enrolsheet2005   = pd.read_excel(schoolxls2005, 'Enrolment')\n",
    "teachersheet2005 = pd.read_excel(schoolxls2005, 'Teachers')\n",
    "\n",
    "schoolsheet2006  = pd.read_excel(schoolxls2006, 'School')\n",
    "enrolsheet2006   = pd.read_excel(schoolxls2006, 'Enrolment')\n",
    "teachersheet2006 = pd.read_excel(schoolxls2006, 'TEACHERS')\n",
    "\n",
    "schoolsheet2007  = pd.read_excel(schoolxls2007, 'School')\n",
    "enrolsheet2007   = pd.read_excel(schoolxls2007, 'Enrolment')\n",
    "teachersheet2007 = pd.read_excel(schoolxls2007, 'Teacher')\n",
    "\n",
    "schoolsheet2008  = pd.read_excel(schoolxls2008, 'School')\n",
    "enrolsheet2008   = pd.read_excel(schoolxls2008, 'Enrolment')\n",
    "teachersheet2008 = pd.read_excel(schoolxls2008, 'Teacher')\n",
    "\n",
    "schoolsheet2009  = pd.read_excel(schoolxls2009, 'School')\n",
    "enrolsheet2009   = pd.read_excel(schoolxls2009, 'Enrolment')\n",
    "teachersheet2009 = pd.read_excel(schoolxls2009, 'Teacher')\n",
    "\n",
    "schoolsheet2010  = pd.read_excel(schoolxls2010, 'School')\n",
    "enrolsheet2010   = pd.read_excel(schoolxls2010, 'Enrolment')\n",
    "teachersheet2010 = pd.read_excel(schoolxls2010, 'Teacher')\n",
    "\n",
    "\n",
    "schoolsheet2011  = pd.read_excel(schoolxls2011, 'School')\n",
    "enrolsheet2011   = pd.read_excel(schoolxls2011, 'Enrolment')\n",
    "teachersheet2011 = pd.read_excel(schoolxls2011, 'Teacher')\n",
    "\n",
    "schoolsheet2012  = pd.read_excel(schoolxls2012, 'School')\n",
    "enrolsheet2012   = pd.read_excel(schoolxls2012, 'Enrolment')\n",
    "teachersheet2012 = pd.read_excel(schoolxls2012, 'Teacher')\n",
    "\n",
    "schoolsheet2013  = pd.read_excel(schoolxls2013, 'School')\n",
    "enrolsheet2013   = pd.read_excel(schoolxls2013, 'Enrolment')\n",
    "teachersheet2013 = pd.read_excel(schoolxls2013, 'Teacher')\n",
    "\n",
    "schoolteachersheet2015  = pd.read_excel(schoolxls2015, '2015-16_1')\n",
    "enrolsheet2015          = pd.read_excel(schoolxls2015, '2015-16_2')\n",
    "\n",
    "# Methods to manipulate the xls sheet\n",
    "def getSchoolSheet(sheet,rowdrop,year):\n",
    "    \n",
    "    sheet = sheet.reset_index()\n",
    "    sheet.drop(sheet.index[:rowdrop], inplace=True)\n",
    "    sheet.columns = sheet.iloc[0].astype(str) + ' (' + sheet.iloc[1].astype(str) + ')'\n",
    "    sheet.columns = sheet.columns.astype(str)\n",
    "    sheet.columns = [x.upper() for x in sheet.columns]\n",
    "    sheet= sheet.rename(index=str, columns={'STATE NAME (STATENAME)': 'STATE NAME','DISTRICT NAME (DISTNAME)':'DISTRICT NAME'}).reset_index()\n",
    "    sheet.drop(sheet.index[:2], inplace=True)\n",
    "    #sheet.insert(3,'YEAR',year)\n",
    "    sheet.insert(6,'YEAR',year)\n",
    "    sheet['STATE NAME'] = sheet['STATE NAME'].str.strip()\n",
    "    sheet['STATE NAME'] = sheet['STATE NAME'].str.upper()\n",
    "    sheet['DISTRICT NAME'] = sheet['DISTRICT NAME'].str.strip()\n",
    "    sheet['DISTRICT NAME'] = sheet['DISTRICT NAME'].str.upper()\n",
    "    sheet   = sheet.drop(['DISTRICT CODE (DISTCD)'], axis=1)\n",
    "    return sheet"
   ]
  },
  {
   "cell_type": "markdown",
   "metadata": {},
   "source": [
    "# School data 2015"
   ]
  },
  {
   "cell_type": "code",
   "execution_count": 177,
   "metadata": {},
   "outputs": [],
   "source": [
    "schoolteacher2015   = getSchoolSheet(schoolteachersheet2015,16,'2015')\n",
    "enrol2015           = getSchoolSheet(enrolsheet2015,16,'2015')\n",
    "\n",
    "\n",
    "schoolsheet2015  = [schoolteacher2015,enrol2015]\n",
    "schooldata2015   = reduce(lambda left,right: pd.merge(left,right, on=['STATE NAME','DISTRICT NAME','YEAR']),schoolsheet2015)\n",
    "schooldata2015   = schooldata2015.drop(['index_x'], axis=1)\n",
    "schooldata2015   = schooldata2015.drop(['ACADEMIC YEAR (AC_YEAR)_x'], axis=1)\n",
    "schooldata2015   = schooldata2015.drop(['STATE CODE (STATCD)'], axis=1)\n",
    "schooldata2015\n",
    "#schooldata2015.to_csv('data/elementary_2015_16.csv', index=False)"
   ]
  },
  {
   "cell_type": "markdown",
   "metadata": {},
   "source": [
    "# School data 2013"
   ]
  },
  {
   "cell_type": "code",
   "execution_count": 7,
   "metadata": {},
   "outputs": [],
   "source": [
    "schools2013   = getSchoolSheet(schoolsheet2013,18,'2013')\n",
    "enrol2013     = getSchoolSheet(enrolsheet2013,12,'2013')\n",
    "teachers2013  = getSchoolSheet(teachersheet2013,18,'2013')\n",
    "\n",
    "schoolsheet2013  = [schools2013,enrol2013,teachers2013]\n",
    "schooldata2013   = reduce(lambda left,right: pd.merge(left,right, on=['STATE NAME','DISTRICT NAME','YEAR']),schoolsheet2013)\n",
    "schooldata2013   = schooldata2013.drop(['index_x'], axis=1)\n",
    "schooldata2013   = schooldata2013.drop(['ACADEMIC YEAR (AC_YEAR)_x'], axis=1)\n",
    "schooldata2013.head()\n",
    "#schooldata2013.to_csv('data/elementary_2013_14.csv', index=False)"
   ]
  },
  {
   "cell_type": "markdown",
   "metadata": {},
   "source": [
    "# School data 2012"
   ]
  },
  {
   "cell_type": "code",
   "execution_count": 62,
   "metadata": {},
   "outputs": [],
   "source": [
    "schools2012    = getSchoolSheet(schoolsheet2012,21,'2012')\n",
    "enrol2012      = getSchoolSheet(enrolsheet2012,15,'2012')\n",
    "teachers2012   = getSchoolSheet(teachersheet2012,18,'2012')\n",
    "\n",
    "schoolsheet2012  = [schools2012,enrol2012,teachers2012]\n",
    "schooldata2012   = reduce(lambda left,right: pd.merge(left,right, on=['STATE NAME','DISTRICT NAME','YEAR']),schoolsheet2012)\n",
    "schooldata2012   = schooldata2012.drop(['index_x'], axis=1)\n",
    "schooldata2012   = schooldata2012.drop(['STATE CODE (STATECD)_x'], axis=1)\n",
    "schooldata2012   = schooldata2012.drop(['ACADEMIC YEAR (AC_YEAR)_x'], axis=1)\n",
    "schooldata2012.head()\n",
    "\n",
    "#schooldata2012.to_csv('data/elementary_2012_13.csv', index=False)"
   ]
  },
  {
   "cell_type": "markdown",
   "metadata": {},
   "source": [
    "# School data 2011"
   ]
  },
  {
   "cell_type": "code",
   "execution_count": 109,
   "metadata": {},
   "outputs": [],
   "source": [
    "schools2011    = getSchoolSheet(schoolsheet2011,18,'2011')\n",
    "enrol2011      = getSchoolSheet(enrolsheet2011,12,'2011')\n",
    "teachers2011   = getSchoolSheet(teachersheet2011,18,'2011')\n",
    "\n",
    "schoolsheet2011  = [schools2011,enrol2011,teachers2011]\n",
    "schooldata2011   = reduce(lambda left,right: pd.merge(left,right, on=['STATE NAME','DISTRICT NAME','YEAR']),schoolsheet2011)\n",
    "schooldata2011   = schooldata2011.drop(['index_x'], axis=1)\n",
    "schooldata2011\n",
    "\n",
    "#schooldata2011.to_csv('data/elementary_2011_12.csv', index=False)"
   ]
  },
  {
   "cell_type": "markdown",
   "metadata": {},
   "source": [
    "# School data 2010"
   ]
  },
  {
   "cell_type": "code",
   "execution_count": 61,
   "metadata": {},
   "outputs": [],
   "source": [
    "schools2010    = getSchoolSheet(schoolsheet2010,21,'2010')\n",
    "enrol2010      = getSchoolSheet(enrolsheet2010,12,'2010')\n",
    "teachers2010   = getSchoolSheet(teachersheet2010,18,'2010')\n",
    "\n",
    "schoolsheet2010  = [schools2010,enrol2010,teachers2010]\n",
    "schooldata2010   = reduce(lambda left,right: pd.merge(left,right, on=['STATE NAME','DISTRICT NAME','YEAR']),schoolsheet2010)\n",
    "schooldata2010   = schooldata2010.drop(['index_x'], axis=1)\n",
    "schooldata2010\n",
    "#schooldata2010.to_csv('data/elementary_2010_11.csv', index=False)"
   ]
  },
  {
   "cell_type": "markdown",
   "metadata": {},
   "source": [
    "# School data 2009"
   ]
  },
  {
   "cell_type": "code",
   "execution_count": 17,
   "metadata": {},
   "outputs": [],
   "source": [
    "schools2009    = getSchoolSheet(schoolsheet2009,18,'2009')\n",
    "enrol2009      = getSchoolSheet(enrolsheet2009,12,'2009')\n",
    "teachers2009   = getSchoolSheet(teachersheet2009,18,'2009')\n",
    "\n",
    "schoolsheet2009  = [schools2009,enrol2009,teachers2009]\n",
    "schooldata2009   = reduce(lambda left,right: pd.merge(left,right, on=['STATE NAME','DISTRICT NAME','YEAR']),schoolsheet2009)\n",
    "schooldata2009\n",
    "\n",
    "#schooldata2009.to_csv('data/elementary_2009_10.csv', index=False)"
   ]
  },
  {
   "cell_type": "markdown",
   "metadata": {},
   "source": [
    "# School data 2008"
   ]
  },
  {
   "cell_type": "code",
   "execution_count": 7,
   "metadata": {},
   "outputs": [],
   "source": [
    "schools2008    = getSchoolSheet(schoolsheet2008,19,'2008')\n",
    "enrol2008      = getSchoolSheet(enrolsheet2008,12,'2008')\n",
    "teachers2008   = getSchoolSheet(teachersheet2008,18,'2008')\n",
    "\n",
    "schoolsheet2008  = [schools2008,enrol2008,teachers2008]\n",
    "schooldata2008   = reduce(lambda left,right: pd.merge(left,right, on=['STATE NAME','DISTRICT NAME','YEAR']),schoolsheet2008)\n",
    "schooldata2008\n",
    "\n",
    "#schooldata2008.to_csv('data/elementary_2008_09.csv', index=False)"
   ]
  },
  {
   "cell_type": "markdown",
   "metadata": {},
   "source": [
    "# school data 2007 "
   ]
  },
  {
   "cell_type": "code",
   "execution_count": 5,
   "metadata": {},
   "outputs": [],
   "source": [
    "schools2007    = getSchoolSheet(schoolsheet2007,14,'2007')\n",
    "enrol2007      = getSchoolSheet(enrolsheet2007,14,'2007')\n",
    "teachers2007   = getSchoolSheet(teachersheet2007,18,'2007')\n",
    "\n",
    "\n",
    "schoolsheet2007  = [schools2007,enrol2007,teachers2007]\n",
    "schooldata2007   = reduce(lambda left,right: pd.merge(left,right, on=['STATE NAME','DISTRICT NAME','YEAR']),schoolsheet2007)\n",
    "schooldata2007\n",
    "\n",
    "#schooldata2007.to_csv('data/elementary_2007_08.csv', index=False)"
   ]
  },
  {
   "cell_type": "markdown",
   "metadata": {},
   "source": [
    "# school data 2006 "
   ]
  },
  {
   "cell_type": "code",
   "execution_count": 17,
   "metadata": {},
   "outputs": [],
   "source": [
    "schools2006    = getSchoolSheet(schoolsheet2006,14,'2006')\n",
    "enrol2006      = getSchoolSheet(enrolsheet2006,14,'2006')\n",
    "teachers2006   = getSchoolSheet(teachersheet2006,14,'2006')\n",
    "\n",
    "schoolsheet2006  = [schools2006,enrol2006,teachers2006]\n",
    "schooldata2006   = reduce(lambda left,right: pd.merge(left,right, on=['STATE NAME','DISTRICT NAME','YEAR']),schoolsheet2006)\n",
    "schooldata2006\n",
    "\n",
    "#schooldata2006.to_csv('data/elementary_2006_07.csv', index=False)"
   ]
  },
  {
   "cell_type": "markdown",
   "metadata": {},
   "source": [
    "# school data 2005 "
   ]
  },
  {
   "cell_type": "code",
   "execution_count": 4,
   "metadata": {},
   "outputs": [],
   "source": [
    "schools2005    = getSchoolSheet(schoolsheet2005,14,'2005')\n",
    "enrol2005      = getSchoolSheet(enrolsheet2005,14,'2005')\n",
    "teachers2005   = getSchoolSheet(teachersheet2005,14,'2005')\n",
    "\n",
    "schoolsheet2005  = [schools2005,enrol2005,teachers2005]\n",
    "schooldata2005   = reduce(lambda left,right: pd.merge(left,right, on=['STATE NAME','DISTRICT NAME','YEAR']),schoolsheet2005)\n",
    "schooldata2005\n",
    "\n",
    "#schooldata2005.to_csv('data/elementary_2005_06.csv', index=False)"
   ]
  },
  {
   "cell_type": "code",
   "execution_count": null,
   "metadata": {},
   "outputs": [],
   "source": []
  }
 ],
 "metadata": {
  "kernelspec": {
   "display_name": "Python 3",
   "language": "python",
   "name": "python3"
  },
  "language_info": {
   "codemirror_mode": {
    "name": "ipython",
    "version": 3
   },
   "file_extension": ".py",
   "mimetype": "text/x-python",
   "name": "python",
   "nbconvert_exporter": "python",
   "pygments_lexer": "ipython3",
   "version": "3.5.1+"
  }
 },
 "nbformat": 4,
 "nbformat_minor": 2
}
