{
 "cells": [
  {
   "cell_type": "code",
   "execution_count": 1,
   "metadata": {},
   "outputs": [
    {
     "data": {
      "text/html": [
       "<iframe style=\"border:0;outline:none;overflow:hidden\" srcdoc=\"&lt;!DOCTYPE html&gt; &lt;html lang=&quot;en&quot;&gt; &lt;head&gt; &lt;meta charset=&quot;utf-8&quot; /&gt; &lt;link href=&quot;https://www.highcharts.com/highslide/highslide.css&quot; rel=&quot;stylesheet&quot; /&gt; &lt;script type=&quot;text/javascript&quot; src=&quot;https://ajax.googleapis.com/ajax/libs/jquery/1.9.1/jquery.min.js&quot;&gt;&lt;/script&gt; &lt;script type=&quot;text/javascript&quot; src=&quot;https://code.highcharts.com/highcharts.js&quot;&gt;&lt;/script&gt; &lt;script type=&quot;text/javascript&quot; src=&quot;https://code.highcharts.com/highcharts-more.js&quot;&gt;&lt;/script&gt; &lt;script type=&quot;text/javascript&quot; src=&quot;https://code.highcharts.com/modules/heatmap.js&quot;&gt;&lt;/script&gt; &lt;script type=&quot;text/javascript&quot; src=&quot;https://code.highcharts.com/modules/exporting.js&quot;&gt;&lt;/script&gt; &lt;/head&gt; &lt;body style=&quot;margin:0;padding:0&quot;&gt; &lt;div id=&quot;container&quot; style=&quot;&quot;&gt;Loading....&lt;/div&gt; &lt;script&gt; $(function(){ Highcharts.setOptions({&quot;global&quot;: {}, &quot;lang&quot;: {}}); var option = {&quot;chart&quot;: {&quot;renderTo&quot;: &quot;container&quot;}, &quot;colors&quot;: {}, &quot;credits&quot;: {&quot;enabled&quot;: false}, &quot;drilldown&quot;: {}, &quot;exporting&quot;: {}, &quot;labels&quot;: {}, &quot;legend&quot;: {}, &quot;loading&quot;: {}, &quot;navigation&quot;: {}, &quot;pane&quot;: {}, &quot;plotOptions&quot;: {}, &quot;series&quot;: {}, &quot;subtitle&quot;: {}, &quot;title&quot;: {&quot;text&quot;: &quot;A New Highchart&quot;}, &quot;tooltip&quot;: {}, &quot;xAxis&quot;: {}, &quot;yAxis&quot;: {}}; var chart = new Highcharts.Chart(option); var data = [{&quot;data&quot;: [[0, 15], [10, -50], [20, -56.5], [30, -46.5], [40, -22.1], [50, -2.5], [60, -27.7], [70, -55.7], [80, -76.5]], &quot;type&quot;: &quot;spline&quot;, &quot;marker&quot;: {&quot;enabled&quot;: false}, &quot;name&quot;: &quot;Temperature&quot;}]; var dataLen = data.length; for (var ix = 0; ix &lt; dataLen; ix++) { chart.addSeries(data[ix]); } }); &lt;/script&gt; &lt;/body&gt; &lt;/html&gt;\" height=520 width=820></iframe>"
      ],
      "text/plain": [
       "<highcharts.highcharts.highcharts.Highchart at 0x7f5a170e0e80>"
      ]
     },
     "execution_count": 1,
     "metadata": {},
     "output_type": "execute_result"
    }
   ],
   "source": [
    "from highcharts import Highchart,Highmap\n",
    "from highcharts.highmaps.highmap_helper  import jsonp_loader, js_map_loader, geojson_handler\n",
    "charts = Highchart()\n",
    "data =  [[0, 15], [10, -50], [20, -56.5], [30, -46.5], [40, -22.1], \n",
    "[50, -2.5], [60, -27.7], [70, -55.7], [80, -76.5]]\n",
    "charts.add_data_set(data, 'spline', 'Temperature', marker={'enabled': False})\n",
    "charts"
   ]
  },
  {
   "cell_type": "code",
   "execution_count": 2,
   "metadata": {},
   "outputs": [
    {
     "data": {
      "text/html": [
       "<iframe style=\"border:0;outline:none;overflow:hidden\" srcdoc=\"&lt;!DOCTYPE html&gt; &lt;html lang=&quot;en&quot;&gt; &lt;head&gt; &lt;meta charset=&quot;utf-8&quot; /&gt; &lt;link href=&quot;https://www.highcharts.com/highslide/highslide.css&quot; rel=&quot;stylesheet&quot; /&gt; &lt;script type=&quot;text/javascript&quot; src=&quot;https://ajax.googleapis.com/ajax/libs/jquery/1.9.1/jquery.min.js&quot;&gt;&lt;/script&gt; &lt;script type=&quot;text/javascript&quot; src=&quot;https://code.highcharts.com/maps/highmaps.js&quot;&gt;&lt;/script&gt; &lt;script type=&quot;text/javascript&quot; src=&quot;https://code.highcharts.com/highcharts.js&quot;&gt;&lt;/script&gt; &lt;script type=&quot;text/javascript&quot; src=&quot;https://code.highcharts.com/maps/modules/map.js&quot;&gt;&lt;/script&gt; &lt;script type=&quot;text/javascript&quot; src=&quot;https://code.highcharts.com/maps/modules/data.js&quot;&gt;&lt;/script&gt; &lt;script type=&quot;text/javascript&quot; src=&quot;https://code.highcharts.com/maps/modules/exporting.js&quot;&gt;&lt;/script&gt; &lt;script type=&quot;text/javascript&quot; src=&quot;http://code.highcharts.com/mapdata/countries/in/custom/in-all-disputed.js&quot;&gt;&lt;/script&gt; &lt;/head&gt; &lt;body style=&quot;margin:0;padding:0&quot;&gt; \t &lt;div id=&quot;container&quot; style=&quot;width:650px;height:500px;&quot;&gt;Loading....&lt;/div&gt; &lt;script&gt; $(function(){ var geojson = Highcharts.geojson(Highcharts.maps[&quot;countries/in/custom/in-all-disputed&quot;]); \tHighcharts.setOptions({&quot;global&quot;: {}, &quot;lang&quot;: {}}); var option = {&quot;chart&quot;: {&quot;renderTo&quot;: &quot;container&quot;, &quot;width&quot;: 650, &quot;height&quot;: 500}, &quot;colors&quot;: {}, &quot;credits&quot;: {&quot;enabled&quot;: false}, &quot;drilldown&quot;: {}, &quot;exporting&quot;: {}, &quot;labels&quot;: {}, &quot;legend&quot;: {}, &quot;loading&quot;: {}, &quot;mapNavigation&quot;: {&quot;enabled&quot;: true, &quot;buttonOptions&quot;: {&quot;verticalAlign&quot;: &quot;bottom&quot;}}, &quot;navigation&quot;: {}, &quot;plotOptions&quot;: {}, &quot;series&quot;: {}, &quot;subtitle&quot;: {}, &quot;title&quot;: {&quot;text&quot;: &quot;GeoJSON in Highmaps&quot;}, &quot;tooltip&quot;: {}, &quot;xAxis&quot;: {}, &quot;yAxis&quot;: {}, &quot;colorAxis&quot;: {}}; var data = [{&quot;data&quot;: [[&quot;in-an&quot;, 0], [&quot;in-wb&quot;, 1], [&quot;in-ld&quot;, 2], [&quot;in-5390&quot;, 3], [&quot;in-py&quot;, 4], [&quot;in-3464&quot;, 5], [&quot;in-mz&quot;, 6], [&quot;in-as&quot;, 7], [&quot;in-pb&quot;, 8], [&quot;in-ga&quot;, 9], [&quot;in-2984&quot;, 10], [&quot;in-jk&quot;, 11], [&quot;in-hr&quot;, 12], [&quot;in-nl&quot;, 13], [&quot;in-mn&quot;, 14], [&quot;in-tr&quot;, 15], [&quot;in-mp&quot;, 16], [&quot;in-ct&quot;, 17], [&quot;in-ar&quot;, 18], [&quot;in-ml&quot;, 19], [&quot;in-kl&quot;, 20], [&quot;in-tn&quot;, 21], [&quot;in-ap&quot;, 22], [&quot;in-ka&quot;, 23], [&quot;in-mh&quot;, 24], [&quot;in-or&quot;, 25], [&quot;in-dn&quot;, 26], [&quot;in-dl&quot;, 27], [&quot;in-hp&quot;, 28], [&quot;in-rj&quot;, 29], [&quot;in-up&quot;, 30], [&quot;in-ut&quot;, 31], [&quot;in-jh&quot;, 32], [&quot;in-ch&quot;, 33], [&quot;in-br&quot;, 34], [&quot;in-sk&quot;, 35]], &quot;type&quot;: &quot;map&quot;, &quot;dataLabels&quot;: {&quot;enabled&quot;: true, &quot;format&quot;: &quot;{point.name}&quot;}, &quot;name&quot;: &quot;Random data&quot;, &quot;states&quot;: {&quot;hover&quot;: {&quot;color&quot;: &quot;#BADA55&quot;}}, &quot;mapData&quot;: geojson}]; \t option.series = data; var chart = new Highcharts.Map(option); \t}); &lt;/script&gt; &lt;/body&gt; &lt;/html&gt;\" height=500 width=650></iframe>"
      ],
      "text/plain": [
       "<highcharts.highmaps.highmaps.Highmap at 0x7f59fef33a90>"
      ]
     },
     "execution_count": 2,
     "metadata": {},
     "output_type": "execute_result"
    }
   ],
   "source": [
    "chart = Highmap(width = 650, height = 500)\n",
    "map_url = 'http://code.highcharts.com/mapdata/countries/in/custom/in-all-disputed.js'\n",
    "geojson = js_map_loader(map_url)\n",
    "states  = geojson_handler(geojson, 'map')\n",
    "#mapdata = geojson_handler(geojson)\n",
    "\n",
    "options = { # construct option dict\n",
    "                                   \n",
    "    'chart' :{ 'renderTo' : 'container'\n",
    "    },\n",
    "                           \n",
    "    'title' : {\n",
    "        'text' : 'GeoJSON in Highmaps'\n",
    "    },\n",
    "\n",
    "    'mapNavigation': {\n",
    "        'enabled': True,\n",
    "        'buttonOptions': {\n",
    "            'verticalAlign': 'bottom'\n",
    "        }\n",
    "    },\n",
    "\n",
    "    'colorAxis': {\n",
    "    },\n",
    "} \n",
    "data = [\n",
    "    ['in-an', 0],\n",
    "    ['in-wb', 1],\n",
    "    ['in-ld', 2],\n",
    "    ['in-5390', 3],\n",
    "    ['in-py', 4],\n",
    "    ['in-3464', 5],\n",
    "    ['in-mz', 6],\n",
    "    ['in-as', 7],\n",
    "    ['in-pb', 8],\n",
    "    ['in-ga', 9],\n",
    "    ['in-2984', 10],\n",
    "    ['in-jk', 11],\n",
    "    ['in-hr', 12],\n",
    "    ['in-nl', 13],\n",
    "    ['in-mn', 14],\n",
    "    ['in-tr', 15],\n",
    "    ['in-mp', 16],\n",
    "    ['in-ct', 17],\n",
    "    ['in-ar', 18],\n",
    "    ['in-ml', 19],\n",
    "    ['in-kl', 20],\n",
    "    ['in-tn', 21],\n",
    "    ['in-ap', 22],\n",
    "    ['in-ka', 23],\n",
    "    ['in-mh', 24],\n",
    "    ['in-or', 25],\n",
    "    ['in-dn', 26],\n",
    "    ['in-dl', 27],\n",
    "    ['in-hp', 28],\n",
    "    ['in-rj', 29],\n",
    "    ['in-up', 30],\n",
    "    ['in-ut', 31],\n",
    "    ['in-jh', 32],\n",
    "    ['in-ch', 33],\n",
    "    ['in-br', 34],\n",
    "    ['in-sk', 35]\n",
    "]\n",
    "#chart.set_map_source('http://code.highcharts.com/mapdata/countries/in/custom/in-all-disputed.js', jsonp_map = False)\n",
    "data_dict = {}\n",
    "data_list= []\n",
    "for k,v in data:\n",
    "    data_dict = {'code':k,'value':v}\n",
    "    data_list.append(data_dict)\n",
    "\n",
    "chart.set_dict_options(options)\n",
    "chart.add_data_set(data, 'map', 'Random data', # set dataset\n",
    "                states={\n",
    "                    'hover': {\n",
    "                        'color': '#BADA55'\n",
    "                    }\n",
    "                },\n",
    "                dataLabels={\n",
    "                    'enabled': True,\n",
    "                    'format': '{point.name}'\n",
    "                })\n",
    "chart.set_map_source('http://code.highcharts.com/mapdata/countries/in/custom/in-all-disputed.js', jsonp_map = False)\n",
    "#chart.set_map_source('http://code.highcharts.com/mapdata/countries/in/custom/in-all-disputed.js', False)\n",
    "#chart.set_map_source(states,True)\n",
    "#chart.htmlcontent\n",
    "chart"
   ]
  },
  {
   "cell_type": "code",
   "execution_count": null,
   "metadata": {},
   "outputs": [],
   "source": []
  },
  {
   "cell_type": "code",
   "execution_count": null,
   "metadata": {},
   "outputs": [],
   "source": []
  }
 ],
 "metadata": {
  "kernelspec": {
   "display_name": "Python 3",
   "language": "python",
   "name": "python3"
  },
  "language_info": {
   "codemirror_mode": {
    "name": "ipython",
    "version": 3
   },
   "file_extension": ".py",
   "mimetype": "text/x-python",
   "name": "python",
   "nbconvert_exporter": "python",
   "pygments_lexer": "ipython3",
   "version": "3.6.5"
  }
 },
 "nbformat": 4,
 "nbformat_minor": 2
}
