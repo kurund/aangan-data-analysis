{
 "cells": [
  {
   "cell_type": "code",
   "execution_count": 1,
   "metadata": {},
   "outputs": [
    {
     "data": {
      "text/html": [
       "\n",
       "<script src=\"//code.highcharts.com/stock/highstock.js\"></script>\n",
       "<script src=\"//code.highcharts.com/highcharts-more.js\"></script>\n",
       "<script src=\"//code.highcharts.com/modules/exporting.js\"></script>\n"
      ],
      "text/plain": [
       "<IPython.core.display.HTML object>"
      ]
     },
     "metadata": {},
     "output_type": "display_data"
    }
   ],
   "source": [
    "import pandas as pd\n",
    "import numpy as np\n",
    "from pandas_highcharts.core import serialize\n",
    "from pandas_highcharts.display import display_charts\n",
    "from IPython.display import display,HTML\n",
    "pd.options.display.max_columns = None\n",
    "from datascience import Table\n",
    "from functools import reduce\n",
    "\n",
    "# Reading csv data\n",
    "dataMissChildren = Table.read_table('data/missing_traced_children.csv')\n",
    "dataCrime        = Table.read_table('data/crimes.csv')\n",
    "dataCyberCrm     = Table.read_table('data/cyber_crime.csv')\n",
    "dataChldCrm      = Table.read_table('data/crime_against_children.csv')\n",
    "dataTrafficing   = Table.read_table('data/trafficing.csv')\n",
    "dataRapeVictm    = Table.read_table('data/rape_victims.csv')\n",
    "dataKidnapping   = Table.read_table('data/kidnapping.csv')\n",
    "dataJuvenileCrm  = Table.read_table('data/juvenile_crime.csv')\n",
    "dataMurderVictm  = Table.read_table('data/murder_victims.csv')"
   ]
  },
  {
   "cell_type": "markdown",
   "metadata": {},
   "source": [
    "# State wise crime rates in India"
   ]
  },
  {
   "cell_type": "code",
   "execution_count": 6,
   "metadata": {},
   "outputs": [
    {
     "data": {
      "text/html": [
       "<div id=\"chart_idKyACuWLK\"</div>\n",
       "    <script type=\"text/javascript\">new Highcharts.Chart({\"chart\":{\"renderTo\":\"chart_idKyACuWLK\",\"width\":1000,\"height\":700,\"type\":\"column\"},\"legend\":{\"enabled\":true},\"series\":[{\"name\":\"CRIME RATE\",\"yAxis\":0,\"data\":[[\"ANDAMAN AND NICOBAR ISLANDS\",144.8],[\"ANDHRA PRADESH\",206.4],[\"ARUNACHAL PRADESH\",192.3],[\"ASSAM\",313.9],[\"BIHAR\",157.4],[\"CHANDIGARH\",166.4],[\"CHHATTISGARH\",211.7],[\"DADRA AND NAGAR HAVELI\",57.4],[\"DAMAN AND DIU\",81.1],[\"DELHI\",974.9],[\"GOA\",135.6],[\"GUJARAT\",233.2],[\"HARYANA\",320.6],[\"HIMACHAL PRADESH\",188.1],[\"JAMMU AND KASHMIR\",196.6],[\"JHARKHAND\",120.4],[\"KARNATAKA\",237.2],[\"KERALA\",727.6],[\"LAKSHADWEEP\",43.9],[\"MADHYA PRADESH\",337.9],[\"MAHARASHTRA\",217.1],[\"MANIPUR\",121.9],[\"MEGHALAYA\",120.9],[\"MIZORAM\",227.3],[\"NAGALAND\",57.6],[\"ODISHA\",191.3],[\"PONDICHERRY\",242.8],[\"PUNJAB\",137.0],[\"RAJASTHAN\",246.2],[\"SIKKIM\",124.7],[\"TAMIL NADU\",258.8],[\"TELANGANA\",295.7],[\"TRIPURA\",102.4],[\"UTTAR PRADESH\",128.7],[\"UTTARAKHAND\",101.8],[\"WEST BENGAL\",188.2]]}],\"title\":{\"text\":\"State wise crime rates in India\"},\"xAxis\":{\"title\":{\"text\":\"STATE NAME\"},\"categories\":[\"ANDAMAN AND NICOBAR ISLANDS\",\"ANDHRA PRADESH\",\"ARUNACHAL PRADESH\",\"ASSAM\",\"BIHAR\",\"CHANDIGARH\",\"CHHATTISGARH\",\"DADRA AND NAGAR HAVELI\",\"DAMAN AND DIU\",\"DELHI\",\"GOA\",\"GUJARAT\",\"HARYANA\",\"HIMACHAL PRADESH\",\"JAMMU AND KASHMIR\",\"JHARKHAND\",\"KARNATAKA\",\"KERALA\",\"LAKSHADWEEP\",\"MADHYA PRADESH\",\"MAHARASHTRA\",\"MANIPUR\",\"MEGHALAYA\",\"MIZORAM\",\"NAGALAND\",\"ODISHA\",\"PONDICHERRY\",\"PUNJAB\",\"RAJASTHAN\",\"SIKKIM\",\"TAMIL NADU\",\"TELANGANA\",\"TRIPURA\",\"UTTAR PRADESH\",\"UTTARAKHAND\",\"WEST BENGAL\"]},\"yAxis\":[{}]});</script>"
      ],
      "text/plain": [
       "<IPython.core.display.HTML object>"
      ]
     },
     "metadata": {},
     "output_type": "display_data"
    }
   ],
   "source": [
    "SWCRIdf = dataCrime.to_df()\n",
    "SWCRIdfg = SWCRIdf.groupby(['STATE NAME'])[['CRIME RATE']].sum()\n",
    "display_charts(SWCRIdfg , kind=\"bar\", title=\"State wise crime rates in India\",figsize = (1000, 700))"
   ]
  },
  {
   "cell_type": "markdown",
   "metadata": {},
   "source": [
    "# State wise crimes per share in India"
   ]
  },
  {
   "cell_type": "code",
   "execution_count": 12,
   "metadata": {},
   "outputs": [
    {
     "data": {
      "text/html": [
       "<div id=\"chart_idKEUzmIlV\"</div>\n",
       "    <script type=\"text/javascript\">new Highcharts.Chart({\"chart\":{\"renderTo\":\"chart_idKEUzmIlV\",\"type\":\"pie\"},\"legend\":{\"enabled\":true},\"series\":[{\"name\":\"CRIME PER\",\"yAxis\":0,\"data\":[[\"ANDAMAN AND NICOBAR ISLANDS\",0.0],[\"ANDHRA PRADESH\",3.6],[\"ARUNACHAL PRADESH\",0.1],[\"ASSAM\",3.4],[\"BIHAR\",5.5],[\"CHANDIGARH\",0.1],[\"CHHATTISGARH\",1.8],[\"DADRA AND NAGAR HAVELI\",0.0],[\"DAMAN AND DIU\",0.0],[\"DELHI\",7.0],[\"GOA\",0.1],[\"GUJARAT\",4.9],[\"HARYANA\",3.0],[\"HIMACHAL PRADESH\",0.4],[\"JAMMU AND KASHMIR\",0.8],[\"JHARKHAND\",1.4],[\"KARNATAKA\",5.0],[\"KERALA\",8.7],[\"LAKSHADWEEP\",0.0],[\"MADHYA PRADESH\",8.9],[\"MAHARASHTRA\",8.8],[\"MANIPUR\",0.1],[\"MEGHALAYA\",0.1],[\"MIZORAM\",0.1],[\"NAGALAND\",0.0],[\"ODISHA\",2.7],[\"PONDICHERRY\",0.1],[\"PUNJAB\",1.3],[\"RAJASTHAN\",6.1],[\"SIKKIM\",0.0],[\"TAMIL NADU\",6.0],[\"TELANGANA\",3.7],[\"TRIPURA\",0.1],[\"UTTAR PRADESH\",9.5],[\"UTTARAKHAND\",0.4],[\"WEST BENGAL\",5.9]]}],\"title\":{\"text\":\"State wise crime per share in India\"},\"tooltip\":{\"pointFormat\":\"{series.name}: <b>{point.percentage:.1f}%<\\/b>\"},\"xAxis\":{\"title\":{\"text\":\"STATE NAME\"},\"categories\":[\"ANDAMAN AND NICOBAR ISLANDS\",\"ANDHRA PRADESH\",\"ARUNACHAL PRADESH\",\"ASSAM\",\"BIHAR\",\"CHANDIGARH\",\"CHHATTISGARH\",\"DADRA AND NAGAR HAVELI\",\"DAMAN AND DIU\",\"DELHI\",\"GOA\",\"GUJARAT\",\"HARYANA\",\"HIMACHAL PRADESH\",\"JAMMU AND KASHMIR\",\"JHARKHAND\",\"KARNATAKA\",\"KERALA\",\"LAKSHADWEEP\",\"MADHYA PRADESH\",\"MAHARASHTRA\",\"MANIPUR\",\"MEGHALAYA\",\"MIZORAM\",\"NAGALAND\",\"ODISHA\",\"PONDICHERRY\",\"PUNJAB\",\"RAJASTHAN\",\"SIKKIM\",\"TAMIL NADU\",\"TELANGANA\",\"TRIPURA\",\"UTTAR PRADESH\",\"UTTARAKHAND\",\"WEST BENGAL\"]},\"yAxis\":[{}]});</script>"
      ],
      "text/plain": [
       "<IPython.core.display.HTML object>"
      ]
     },
     "metadata": {},
     "output_type": "display_data"
    }
   ],
   "source": [
    "SWPSC = dataCrime.select(1,5)\n",
    "SWPSCt = SWPSC.relabeled(1,'CRIME PER')\n",
    "SWPSCdf = SWPSCt.to_df()\n",
    "SWPSCdfg = SWPSCdf.groupby(['STATE NAME'])[['CRIME PER']].sum()\n",
    "display_charts(SWPSCdfg, kind='pie', title='State wise crime per share in India', tooltip={'pointFormat': '{series.name}: <b>{point.percentage:.1f}%</b>'})"
   ]
  },
  {
   "cell_type": "markdown",
   "metadata": {},
   "source": [
    "# State wise percentage share of cyber crimes in India"
   ]
  },
  {
   "cell_type": "code",
   "execution_count": 23,
   "metadata": {},
   "outputs": [
    {
     "data": {
      "text/html": [
       "<div id=\"chart_idfccqzpoi\"</div>\n",
       "    <script type=\"text/javascript\">new Highcharts.Chart({\"chart\":{\"renderTo\":\"chart_idfccqzpoi\",\"type\":\"pie\"},\"legend\":{\"enabled\":true},\"series\":[{\"name\":\"Cyber Crime\",\"yAxis\":0,\"data\":[[\"ANDAMAN AND NICOBAR ISLANDS\",0.0],[\"ANDHRA PRADESH\",5.0],[\"ARUNACHAL PRADESH\",0.0],[\"ASSAM\",5.7],[\"BIHAR\",2.5],[\"CHANDIGARH\",0.2],[\"CHHATTISGARH\",0.7],[\"DADRA AND NAGAR HAVELI\",0.0],[\"DAMAN AND DIU\",0.0],[\"DELHI\",0.8],[\"GOA\",0.3],[\"GUJARAT\",2.9],[\"HARYANA\",3.3],[\"HIMACHAL PRADESH\",0.3],[\"JAMMU AND KASHMIR\",0.2],[\"JHARKHAND\",2.1],[\"KARNATAKA\",8.9],[\"KERALA\",2.3],[\"LAKSHADWEEP\",0.0],[\"MADHYA PRADESH\",2.1],[\"MAHARASHTRA\",19.3],[\"MANIPUR\",0.1],[\"MEGHALAYA\",0.3],[\"MIZORAM\",0.0],[\"NAGALAND\",0.0],[\"ODISHA\",2.6],[\"PONDICHERRY\",0.0],[\"PUNJAB\",0.8],[\"RAJASTHAN\",7.6],[\"SIKKIM\",0.0],[\"TAMIL NADU\",1.2],[\"TELANGANA\",4.8],[\"TRIPURA\",0.1],[\"UTTAR PRADESH\",21.4],[\"UTTARAKHAND\",0.5],[\"WEST BENGAL\",3.9]]}],\"title\":{\"text\":\"Cyber crimes in different states of India\"},\"tooltip\":{\"pointFormat\":\"{series.name}: <b>{point.percentage:.1f}%<\\/b>\"},\"xAxis\":{\"title\":{\"text\":\"STATE NAME\"},\"categories\":[\"ANDAMAN AND NICOBAR ISLANDS\",\"ANDHRA PRADESH\",\"ARUNACHAL PRADESH\",\"ASSAM\",\"BIHAR\",\"CHANDIGARH\",\"CHHATTISGARH\",\"DADRA AND NAGAR HAVELI\",\"DAMAN AND DIU\",\"DELHI\",\"GOA\",\"GUJARAT\",\"HARYANA\",\"HIMACHAL PRADESH\",\"JAMMU AND KASHMIR\",\"JHARKHAND\",\"KARNATAKA\",\"KERALA\",\"LAKSHADWEEP\",\"MADHYA PRADESH\",\"MAHARASHTRA\",\"MANIPUR\",\"MEGHALAYA\",\"MIZORAM\",\"NAGALAND\",\"ODISHA\",\"PONDICHERRY\",\"PUNJAB\",\"RAJASTHAN\",\"SIKKIM\",\"TAMIL NADU\",\"TELANGANA\",\"TRIPURA\",\"UTTAR PRADESH\",\"UTTARAKHAND\",\"WEST BENGAL\"]},\"yAxis\":[{}]});</script>"
      ],
      "text/plain": [
       "<IPython.core.display.HTML object>"
      ]
     },
     "metadata": {},
     "output_type": "display_data"
    }
   ],
   "source": [
    "SWPSCC = dataCyberCrm.select(1,5)\n",
    "SWPSCCt = SWPSCC.relabeled(1,'Cyber Crime')\n",
    "SWPSCCdf = SWPSCCt.to_df()\n",
    "SWPSCCdfg = SWPSCCdf.groupby(['STATE NAME'])[['Cyber Crime']].sum()\n",
    "display_charts(SWPSCCdfg, kind='pie', title='Cyber crimes in different states of India', tooltip={'pointFormat': '{series.name}: <b>{point.percentage:.1f}%</b>'})"
   ]
  },
  {
   "cell_type": "markdown",
   "metadata": {},
   "source": [
    "# State wise per of crimes against children"
   ]
  },
  {
   "cell_type": "code",
   "execution_count": 22,
   "metadata": {},
   "outputs": [
    {
     "data": {
      "text/html": [
       "<div id=\"chart_idIplaUUqP\"</div>\n",
       "    <script type=\"text/javascript\">new Highcharts.Chart({\"chart\":{\"renderTo\":\"chart_idIplaUUqP\",\"type\":\"pie\"},\"legend\":{\"enabled\":true},\"series\":[{\"name\":\"Cyber Crime\",\"yAxis\":0,\"data\":[[\"ANDAMAN AND NICOBAR ISLANDS\",0.0],[\"ANDHRA PRADESH\",5.0],[\"ARUNACHAL PRADESH\",0.0],[\"ASSAM\",5.7],[\"BIHAR\",2.5],[\"CHANDIGARH\",0.2],[\"CHHATTISGARH\",0.7],[\"DADRA AND NAGAR HAVELI\",0.0],[\"DAMAN AND DIU\",0.0],[\"DELHI\",0.8],[\"GOA\",0.3],[\"GUJARAT\",2.9],[\"HARYANA\",3.3],[\"HIMACHAL PRADESH\",0.3],[\"JAMMU AND KASHMIR\",0.2],[\"JHARKHAND\",2.1],[\"KARNATAKA\",8.9],[\"KERALA\",2.3],[\"LAKSHADWEEP\",0.0],[\"MADHYA PRADESH\",2.1],[\"MAHARASHTRA\",19.3],[\"MANIPUR\",0.1],[\"MEGHALAYA\",0.3],[\"MIZORAM\",0.0],[\"NAGALAND\",0.0],[\"ODISHA\",2.6],[\"PONDICHERRY\",0.0],[\"PUNJAB\",0.8],[\"RAJASTHAN\",7.6],[\"SIKKIM\",0.0],[\"TAMIL NADU\",1.2],[\"TELANGANA\",4.8],[\"TRIPURA\",0.1],[\"UTTAR PRADESH\",21.4],[\"UTTARAKHAND\",0.5],[\"WEST BENGAL\",3.9]]}],\"title\":{\"text\":\"Cyber crimes in different states of India\"},\"tooltip\":{\"pointFormat\":\"{series.name}: <b>{point.percentage:.1f}%<\\/b>\"},\"xAxis\":{\"title\":{\"text\":\"STATE NAME\"},\"categories\":[\"ANDAMAN AND NICOBAR ISLANDS\",\"ANDHRA PRADESH\",\"ARUNACHAL PRADESH\",\"ASSAM\",\"BIHAR\",\"CHANDIGARH\",\"CHHATTISGARH\",\"DADRA AND NAGAR HAVELI\",\"DAMAN AND DIU\",\"DELHI\",\"GOA\",\"GUJARAT\",\"HARYANA\",\"HIMACHAL PRADESH\",\"JAMMU AND KASHMIR\",\"JHARKHAND\",\"KARNATAKA\",\"KERALA\",\"LAKSHADWEEP\",\"MADHYA PRADESH\",\"MAHARASHTRA\",\"MANIPUR\",\"MEGHALAYA\",\"MIZORAM\",\"NAGALAND\",\"ODISHA\",\"PONDICHERRY\",\"PUNJAB\",\"RAJASTHAN\",\"SIKKIM\",\"TAMIL NADU\",\"TELANGANA\",\"TRIPURA\",\"UTTAR PRADESH\",\"UTTARAKHAND\",\"WEST BENGAL\"]},\"yAxis\":[{}]});</script>"
      ],
      "text/plain": [
       "<IPython.core.display.HTML object>"
      ]
     },
     "metadata": {},
     "output_type": "display_data"
    }
   ],
   "source": [
    "SWPCAC = dataChldCrm.select(1,5)\n",
    "SWPCACt = SWPCAC.relabeled(1,'Crime against child')\n",
    "SWPCACdf = SWPCACt.to_df()\n",
    "SWPCACdfg = SWPCACdf.groupby(['STATE NAME'])[['Crime against child']].sum()\n",
    "display_charts(SWPSCCdfg, kind='pie', title='Cyber crimes in different states of India', tooltip={'pointFormat': '{series.name}: <b>{point.percentage:.1f}%</b>'})"
   ]
  },
  {
   "cell_type": "markdown",
   "metadata": {},
   "source": [
    "# State wise missing and recovered child in india"
   ]
  },
  {
   "cell_type": "code",
   "execution_count": 29,
   "metadata": {},
   "outputs": [
    {
     "data": {
      "text/html": [
       "<div id=\"chart_idaMdgghgq\"</div>\n",
       "    <script type=\"text/javascript\">new Highcharts.Chart({\"chart\":{\"renderTo\":\"chart_idaMdgghgq\",\"width\":1100,\"height\":700,\"type\":\"column\"},\"legend\":{\"enabled\":true},\"series\":[{\"name\":\"Missing Female\",\"yAxis\":0,\"data\":[[\"ANDAMAN AND NICOBAR ISLANDS\",36],[\"ANDHRA PRADESH\",1365],[\"ARUNACHAL PRADESH\",29],[\"ASSAM\",857],[\"BIHAR\",3730],[\"CHANDIGARH\",127],[\"CHHATTISGARH\",1643],[\"DADRA AND NAGAR HAVELI\",0],[\"DAMAN AND DIU\",10],[\"DELHI\",3982],[\"GOA\",17],[\"GUJARAT\",944],[\"HARYANA\",973],[\"HIMACHAL PRADESH\",93],[\"JAMMU AND KASHMIR\",138],[\"JHARKHAND\",260],[\"KARNATAKA\",889],[\"KERALA\",768],[\"LAKSHADWEEP\",0],[\"MADHYA PRADESH\",6037],[\"MAHARASHTRA\",2532],[\"MANIPUR\",49],[\"MEGHALAYA\",68],[\"MIZORAM\",0],[\"NAGALAND\",47],[\"ODISHA\",1363],[\"PONDICHERRY\",35],[\"PUNJAB\",414],[\"RAJASTHAN\",1338],[\"SIKKIM\",77],[\"TAMIL NADU\",3162],[\"TELANGANA\",2277],[\"TRIPURA\",132],[\"UTTAR PRADESH\",1465],[\"UTTARAKHAND\",224],[\"WEST BENGAL\",5986]]},{\"name\":\"Missing Male\",\"yAxis\":0,\"data\":[[\"ANDAMAN AND NICOBAR ISLANDS\",11],[\"ANDHRA PRADESH\",790],[\"ARUNACHAL PRADESH\",9],[\"ASSAM\",524],[\"BIHAR\",1087],[\"CHANDIGARH\",74],[\"CHHATTISGARH\",619],[\"DADRA AND NAGAR HAVELI\",2],[\"DAMAN AND DIU\",19],[\"DELHI\",2939],[\"GOA\",9],[\"GUJARAT\",371],[\"HARYANA\",795],[\"HIMACHAL PRADESH\",77],[\"JAMMU AND KASHMIR\",166],[\"JHARKHAND\",219],[\"KARNATAKA\",1054],[\"KERALA\",756],[\"LAKSHADWEEP\",0],[\"MADHYA PRADESH\",2466],[\"MAHARASHTRA\",1856],[\"MANIPUR\",97],[\"MEGHALAYA\",56],[\"MIZORAM\",0],[\"NAGALAND\",24],[\"ODISHA\",538],[\"PONDICHERRY\",18],[\"PUNJAB\",183],[\"RAJASTHAN\",642],[\"SIKKIM\",32],[\"TAMIL NADU\",1470],[\"TELANGANA\",1402],[\"TRIPURA\",37],[\"UTTAR PRADESH\",1438],[\"UTTARAKHAND\",211],[\"WEST BENGAL\",2349]]},{\"name\":\"Traced Female\",\"yAxis\":0,\"data\":[[\"ANDAMAN AND NICOBAR ISLANDS\",37],[\"ANDHRA PRADESH\",1214],[\"ARUNACHAL PRADESH\",24],[\"ASSAM\",708],[\"BIHAR\",2324],[\"CHANDIGARH\",91],[\"CHHATTISGARH\",1483],[\"DADRA AND NAGAR HAVELI\",0],[\"DAMAN AND DIU\",8],[\"DELHI\",3235],[\"GOA\",15],[\"GUJARAT\",839],[\"HARYANA\",877],[\"HIMACHAL PRADESH\",104],[\"JAMMU AND KASHMIR\",190],[\"JHARKHAND\",189],[\"KARNATAKA\",1328],[\"KERALA\",773],[\"LAKSHADWEEP\",0],[\"MADHYA PRADESH\",5692],[\"MAHARASHTRA\",2658],[\"MANIPUR\",69],[\"MEGHALAYA\",86],[\"MIZORAM\",0],[\"NAGALAND\",39],[\"ODISHA\",379],[\"PONDICHERRY\",30],[\"PUNJAB\",346],[\"RAJASTHAN\",2093],[\"SIKKIM\",76],[\"TAMIL NADU\",3202],[\"TELANGANA\",2340],[\"TRIPURA\",125],[\"UTTAR PRADESH\",846],[\"UTTARAKHAND\",312],[\"WEST BENGAL\",3848]]},{\"name\":\"Traced Male\",\"yAxis\":0,\"data\":[[\"ANDAMAN AND NICOBAR ISLANDS\",11],[\"ANDHRA PRADESH\",698],[\"ARUNACHAL PRADESH\",9],[\"ASSAM\",361],[\"BIHAR\",702],[\"CHANDIGARH\",61],[\"CHHATTISGARH\",568],[\"DADRA AND NAGAR HAVELI\",2],[\"DAMAN AND DIU\",19],[\"DELHI\",2628],[\"GOA\",10],[\"GUJARAT\",408],[\"HARYANA\",818],[\"HIMACHAL PRADESH\",70],[\"JAMMU AND KASHMIR\",164],[\"JHARKHAND\",140],[\"KARNATAKA\",1405],[\"KERALA\",747],[\"LAKSHADWEEP\",0],[\"MADHYA PRADESH\",2505],[\"MAHARASHTRA\",1699],[\"MANIPUR\",103],[\"MEGHALAYA\",69],[\"MIZORAM\",0],[\"NAGALAND\",24],[\"ODISHA\",210],[\"PONDICHERRY\",19],[\"PUNJAB\",164],[\"RAJASTHAN\",1123],[\"SIKKIM\",34],[\"TAMIL NADU\",1458],[\"TELANGANA\",1257],[\"TRIPURA\",46],[\"UTTAR PRADESH\",1015],[\"UTTARAKHAND\",277],[\"WEST BENGAL\",1540]]}],\"title\":{\"text\":\"Child missing and recovery\"},\"xAxis\":{\"title\":{\"text\":\"STATE NAME\"},\"categories\":[\"ANDAMAN AND NICOBAR ISLANDS\",\"ANDHRA PRADESH\",\"ARUNACHAL PRADESH\",\"ASSAM\",\"BIHAR\",\"CHANDIGARH\",\"CHHATTISGARH\",\"DADRA AND NAGAR HAVELI\",\"DAMAN AND DIU\",\"DELHI\",\"GOA\",\"GUJARAT\",\"HARYANA\",\"HIMACHAL PRADESH\",\"JAMMU AND KASHMIR\",\"JHARKHAND\",\"KARNATAKA\",\"KERALA\",\"LAKSHADWEEP\",\"MADHYA PRADESH\",\"MAHARASHTRA\",\"MANIPUR\",\"MEGHALAYA\",\"MIZORAM\",\"NAGALAND\",\"ODISHA\",\"PONDICHERRY\",\"PUNJAB\",\"RAJASTHAN\",\"SIKKIM\",\"TAMIL NADU\",\"TELANGANA\",\"TRIPURA\",\"UTTAR PRADESH\",\"UTTARAKHAND\",\"WEST BENGAL\"]},\"yAxis\":[{}]});</script>"
      ],
      "text/plain": [
       "<IPython.core.display.HTML object>"
      ]
     },
     "metadata": {},
     "output_type": "display_data"
    }
   ],
   "source": [
    "SWMRCI = dataMissChildren.select(1,2,3,5,6)\n",
    "SWMRCIt = SWMRCI.relabeled(1,'Missing Female').relabeled(2,'Missing Male').relabeled(3,'Traced Female').relabeled(4,'Traced Male')\n",
    "SWMRCIdf = SWMRCIt.to_df()\n",
    "SWMRCIdfg = SWMRCIdf.groupby(['STATE NAME'])[['Missing Female','Traced Female','Missing Male','Traced Male']].sum()\n",
    "display_charts(SWMRCIdfg , kind=\"bar\", title=\"Child missing and recovery\",figsize = (1100, 700))"
   ]
  },
  {
   "cell_type": "markdown",
   "metadata": {},
   "source": [
    "# Missing child recovery percentage for different states of India"
   ]
  },
  {
   "cell_type": "code",
   "execution_count": 34,
   "metadata": {},
   "outputs": [
    {
     "data": {
      "text/html": [
       "<div id=\"chart_idkjahhHKX\"</div>\n",
       "    <script type=\"text/javascript\">new Highcharts.Chart({\"chart\":{\"renderTo\":\"chart_idkjahhHKX\",\"width\":1000,\"height\":700,\"type\":\"column\"},\"legend\":{\"enabled\":true},\"series\":[{\"name\":\"Recovery Female\",\"yAxis\":0,\"data\":[[\"ANDAMAN AND NICOBAR ISLANDS\",92.5],[\"ANDHRA PRADESH\",60.2],[\"ARUNACHAL PRADESH\",51.1],[\"ASSAM\",48.0],[\"BIHAR\",53.7],[\"CHANDIGARH\",39.4],[\"CHHATTISGARH\",68.3],[\"DADRA AND NAGAR HAVELI\",0.0],[\"DAMAN AND DIU\",44.4],[\"DELHI\",37.9],[\"GOA\",51.7],[\"GUJARAT\",62.5],[\"HARYANA\",49.1],[\"HIMACHAL PRADESH\",65.8],[\"JAMMU AND KASHMIR\",39.5],[\"JHARKHAND\",36.7],[\"KARNATAKA\",68.1],[\"KERALA\",88.7],[\"LAKSHADWEEP\",0.0],[\"MADHYA PRADESH\",66.0],[\"MAHARASHTRA\",45.6],[\"MANIPUR\",93.2],[\"MEGHALAYA\",86.0],[\"MIZORAM\",0.0],[\"NAGALAND\",79.6],[\"ODISHA\",9.0],[\"PONDICHERRY\",81.1],[\"PUNJAB\",49.5],[\"RAJASTHAN\",80.6],[\"SIKKIM\",81.7],[\"TAMIL NADU\",84.9],[\"TELANGANA\",80.1],[\"TRIPURA\",86.8],[\"UTTAR PRADESH\",33.5],[\"UTTARAKHAND\",72.2],[\"WEST BENGAL\",31.3]]},{\"name\":\"Recovery Male\",\"yAxis\":0,\"data\":[[\"ANDAMAN AND NICOBAR ISLANDS\",84.6],[\"ANDHRA PRADESH\",53.3],[\"ARUNACHAL PRADESH\",64.3],[\"ASSAM\",38.4],[\"BIHAR\",44.7],[\"CHANDIGARH\",29.9],[\"CHHATTISGARH\",59.5],[\"DADRA AND NAGAR HAVELI\",100.0],[\"DAMAN AND DIU\",90.5],[\"DELHI\",42.9],[\"GOA\",35.7],[\"GUJARAT\",61.4],[\"HARYANA\",45.7],[\"HIMACHAL PRADESH\",57.4],[\"JAMMU AND KASHMIR\",27.8],[\"JHARKHAND\",28.4],[\"KARNATAKA\",61.8],[\"KERALA\",86.5],[\"LAKSHADWEEP\",0.0],[\"MADHYA PRADESH\",72.7],[\"MAHARASHTRA\",40.9],[\"MANIPUR\",92.0],[\"MEGHALAYA\",82.1],[\"MIZORAM\",0.0],[\"NAGALAND\",85.7],[\"ODISHA\",13.3],[\"PONDICHERRY\",90.5],[\"PUNJAB\",27.7],[\"RAJASTHAN\",69.9],[\"SIKKIM\",59.6],[\"TAMIL NADU\",71.8],[\"TELANGANA\",70.7],[\"TRIPURA\",86.8],[\"UTTAR PRADESH\",38.4],[\"UTTARAKHAND\",64.9],[\"WEST BENGAL\",33.5]]},{\"name\":\"Recovery Total\",\"yAxis\":0,\"data\":[[\"ANDAMAN AND NICOBAR ISLANDS\",90.6],[\"ANDHRA PRADESH\",57.5],[\"ARUNACHAL PRADESH\",54.1],[\"ASSAM\",44.3],[\"BIHAR\",51.3],[\"CHANDIGARH\",34.9],[\"CHHATTISGARH\",65.6],[\"DADRA AND NAGAR HAVELI\",25.0],[\"DAMAN AND DIU\",69.2],[\"DELHI\",40.0],[\"GOA\",43.9],[\"GUJARAT\",62.1],[\"HARYANA\",47.4],[\"HIMACHAL PRADESH\",62.1],[\"JAMMU AND KASHMIR\",33.1],[\"JHARKHAND\",32.6],[\"KARNATAKA\",64.7],[\"KERALA\",87.6],[\"LAKSHADWEEP\",0.0],[\"MADHYA PRADESH\",67.9],[\"MAHARASHTRA\",43.6],[\"MANIPUR\",92.5],[\"MEGHALAYA\",84.2],[\"MIZORAM\",0.0],[\"NAGALAND\",81.8],[\"ODISHA\",10.2],[\"PONDICHERRY\",84.5],[\"PUNJAB\",39.5],[\"RAJASTHAN\",76.5],[\"SIKKIM\",73.3],[\"TAMIL NADU\",80.3],[\"TELANGANA\",76.5],[\"TRIPURA\",86.8],[\"UTTAR PRADESH\",36.0],[\"UTTARAKHAND\",68.6],[\"WEST BENGAL\",31.9]]}],\"title\":{\"text\":\"Missing child recovery per\"},\"xAxis\":{\"title\":{\"text\":\"STATE NAME\"},\"categories\":[\"ANDAMAN AND NICOBAR ISLANDS\",\"ANDHRA PRADESH\",\"ARUNACHAL PRADESH\",\"ASSAM\",\"BIHAR\",\"CHANDIGARH\",\"CHHATTISGARH\",\"DADRA AND NAGAR HAVELI\",\"DAMAN AND DIU\",\"DELHI\",\"GOA\",\"GUJARAT\",\"HARYANA\",\"HIMACHAL PRADESH\",\"JAMMU AND KASHMIR\",\"JHARKHAND\",\"KARNATAKA\",\"KERALA\",\"LAKSHADWEEP\",\"MADHYA PRADESH\",\"MAHARASHTRA\",\"MANIPUR\",\"MEGHALAYA\",\"MIZORAM\",\"NAGALAND\",\"ODISHA\",\"PONDICHERRY\",\"PUNJAB\",\"RAJASTHAN\",\"SIKKIM\",\"TAMIL NADU\",\"TELANGANA\",\"TRIPURA\",\"UTTAR PRADESH\",\"UTTARAKHAND\",\"WEST BENGAL\"]},\"yAxis\":[{}]});</script>"
      ],
      "text/plain": [
       "<IPython.core.display.HTML object>"
      ]
     },
     "metadata": {},
     "output_type": "display_data"
    }
   ],
   "source": [
    "MCRPDSI    = dataMissChildren.select(1,8,9,10)\n",
    "MCRPDSIt   = MCRPDSI.relabeled(1,'Recovery Female').relabeled(2,'Recovery Male').relabeled(3,'Recovery Total')\n",
    "MCRPDSIdf  = MCRPDSIt.to_df()\n",
    "MCRPDSIdfg = MCRPDSIdf.groupby(['STATE NAME'])[['Recovery Female','Recovery Male','Recovery Total']].sum()\n",
    "display_charts(MCRPDSIdfg , kind=\"bar\", title=\"Missing child recovery per\",figsize = (1000, 700))"
   ]
  },
  {
   "cell_type": "markdown",
   "metadata": {},
   "source": [
    "#  State wise victims trafficed of different ages/sex"
   ]
  },
  {
   "cell_type": "code",
   "execution_count": 37,
   "metadata": {},
   "outputs": [
    {
     "data": {
      "text/html": [
       "<div id=\"chart_idDoLylHLC\"</div>\n",
       "    <script type=\"text/javascript\">new Highcharts.Chart({\"chart\":{\"renderTo\":\"chart_idDoLylHLC\",\"width\":1000,\"height\":700,\"type\":\"bar\"},\"legend\":{\"enabled\":true},\"series\":[{\"name\":\"Above 18 Yrs - Female\",\"yAxis\":0,\"data\":[[\"ANDAMAN AND NICOBAR ISLANDS\",5],[\"ANDHRA PRADESH\",311],[\"ARUNACHAL PRADESH\",1],[\"ASSAM\",67],[\"BIHAR\",32],[\"CHANDIGARH\",0],[\"CHHATTISGARH\",54],[\"DADRA AND NAGAR HAVELI\",0],[\"DAMAN AND DIU\",9],[\"DELHI\",47],[\"GOA\",84],[\"GUJARAT\",112],[\"HARYANA\",89],[\"HIMACHAL PRADESH\",113],[\"JAMMU AND KASHMIR\",0],[\"JHARKHAND\",58],[\"KARNATAKA\",567],[\"KERALA\",111],[\"LAKSHADWEEP\",0],[\"MADHYA PRADESH\",19],[\"MAHARASHTRA\",972],[\"MANIPUR\",9],[\"MEGHALAYA\",7],[\"MIZORAM\",0],[\"NAGALAND\",0],[\"ODISHA\",133],[\"PONDICHERRY\",0],[\"PUNJAB\",1],[\"RAJASTHAN\",279],[\"SIKKIM\",0],[\"TAMIL NADU\",869],[\"TELANGANA\",361],[\"TRIPURA\",1],[\"UTTAR PRADESH\",28],[\"UTTARAKHAND\",18],[\"WEST BENGAL\",882]]},{\"name\":\"Above 18 Yrs - Male\",\"yAxis\":0,\"data\":[[\"ANDAMAN AND NICOBAR ISLANDS\",0],[\"ANDHRA PRADESH\",0],[\"ARUNACHAL PRADESH\",0],[\"ASSAM\",52],[\"BIHAR\",8],[\"CHANDIGARH\",0],[\"CHHATTISGARH\",77],[\"DADRA AND NAGAR HAVELI\",0],[\"DAMAN AND DIU\",0],[\"DELHI\",27],[\"GOA\",0],[\"GUJARAT\",31],[\"HARYANA\",47],[\"HIMACHAL PRADESH\",0],[\"JAMMU AND KASHMIR\",0],[\"JHARKHAND\",7],[\"KARNATAKA\",113],[\"KERALA\",39],[\"LAKSHADWEEP\",0],[\"MADHYA PRADESH\",4],[\"MAHARASHTRA\",1],[\"MANIPUR\",3],[\"MEGHALAYA\",0],[\"MIZORAM\",0],[\"NAGALAND\",0],[\"ODISHA\",173],[\"PONDICHERRY\",0],[\"PUNJAB\",1],[\"RAJASTHAN\",56],[\"SIKKIM\",0],[\"TAMIL NADU\",263],[\"TELANGANA\",22],[\"TRIPURA\",3],[\"UTTAR PRADESH\",8],[\"UTTARAKHAND\",2],[\"WEST BENGAL\",169]]},{\"name\":\"Below 18 Yrs - Female\",\"yAxis\":0,\"data\":[[\"ANDAMAN AND NICOBAR ISLANDS\",0],[\"ANDHRA PRADESH\",44],[\"ARUNACHAL PRADESH\",2],[\"ASSAM\",96],[\"BIHAR\",13],[\"CHANDIGARH\",1],[\"CHHATTISGARH\",78],[\"DADRA AND NAGAR HAVELI\",0],[\"DAMAN AND DIU\",1],[\"DELHI\",46],[\"GOA\",2],[\"GUJARAT\",348],[\"HARYANA\",8],[\"HIMACHAL PRADESH\",2],[\"JAMMU AND KASHMIR\",0],[\"JHARKHAND\",72],[\"KARNATAKA\",219],[\"KERALA\",65],[\"LAKSHADWEEP\",0],[\"MADHYA PRADESH\",35],[\"MAHARASHTRA\",94],[\"MANIPUR\",7],[\"MEGHALAYA\",1],[\"MIZORAM\",2],[\"NAGALAND\",0],[\"ODISHA\",108],[\"PONDICHERRY\",0],[\"PUNJAB\",1],[\"RAJASTHAN\",696],[\"SIKKIM\",1],[\"TAMIL NADU\",195],[\"TELANGANA\",7],[\"TRIPURA\",4],[\"UTTAR PRADESH\",74],[\"UTTARAKHAND\",2],[\"WEST BENGAL\",2687]]},{\"name\":\"Below 18 Yrs - Male\",\"yAxis\":0,\"data\":[[\"ANDAMAN AND NICOBAR ISLANDS\",0],[\"ANDHRA PRADESH\",0],[\"ARUNACHAL PRADESH\",0],[\"ASSAM\",34],[\"BIHAR\",183],[\"CHANDIGARH\",0],[\"CHHATTISGARH\",60],[\"DADRA AND NAGAR HAVELI\",0],[\"DAMAN AND DIU\",0],[\"DELHI\",144],[\"GOA\",0],[\"GUJARAT\",137],[\"HARYANA\",5],[\"HIMACHAL PRADESH\",2],[\"JAMMU AND KASHMIR\",0],[\"JHARKHAND\",18],[\"KARNATAKA\",113],[\"KERALA\",18],[\"LAKSHADWEEP\",0],[\"MADHYA PRADESH\",62],[\"MAHARASHTRA\",78],[\"MANIPUR\",2],[\"MEGHALAYA\",0],[\"MIZORAM\",0],[\"NAGALAND\",0],[\"ODISHA\",98],[\"PONDICHERRY\",0],[\"PUNJAB\",47],[\"RAJASTHAN\",1823],[\"SIKKIM\",0],[\"TAMIL NADU\",122],[\"TELANGANA\",0],[\"TRIPURA\",2],[\"UTTAR PRADESH\",748],[\"UTTARAKHAND\",1],[\"WEST BENGAL\",426]]}],\"title\":{\"text\":\"State wise victims trafficed\"},\"xAxis\":{\"title\":{\"text\":\"STATE NAME\"},\"categories\":[\"ANDAMAN AND NICOBAR ISLANDS\",\"ANDHRA PRADESH\",\"ARUNACHAL PRADESH\",\"ASSAM\",\"BIHAR\",\"CHANDIGARH\",\"CHHATTISGARH\",\"DADRA AND NAGAR HAVELI\",\"DAMAN AND DIU\",\"DELHI\",\"GOA\",\"GUJARAT\",\"HARYANA\",\"HIMACHAL PRADESH\",\"JAMMU AND KASHMIR\",\"JHARKHAND\",\"KARNATAKA\",\"KERALA\",\"LAKSHADWEEP\",\"MADHYA PRADESH\",\"MAHARASHTRA\",\"MANIPUR\",\"MEGHALAYA\",\"MIZORAM\",\"NAGALAND\",\"ODISHA\",\"PONDICHERRY\",\"PUNJAB\",\"RAJASTHAN\",\"SIKKIM\",\"TAMIL NADU\",\"TELANGANA\",\"TRIPURA\",\"UTTAR PRADESH\",\"UTTARAKHAND\",\"WEST BENGAL\"]},\"yAxis\":[{}]});</script>"
      ],
      "text/plain": [
       "<IPython.core.display.HTML object>"
      ]
     },
     "metadata": {},
     "output_type": "display_data"
    }
   ],
   "source": [
    "swTraffic = dataTrafficing.select(1,2,3,5,6)\n",
    "swTraffict = swTraffic.relabeled(1,'Below 18 Yrs - Male').relabeled(2,'Below 18 Yrs - Female').relabeled(3,'Above 18 Yrs - Male').relabeled(4,'Above 18 Yrs - Female')\n",
    "swTrafficdf = swTraffict.to_df()\n",
    "swTrafficdfg = swTrafficdf.groupby(['STATE NAME'])[['Below 18 Yrs - Male','Below 18 Yrs - Female','Above 18 Yrs - Male','Above 18 Yrs - Female']].sum()\n",
    "display_charts(swTrafficdfg , kind=\"barh\", title=\"State wise victims trafficed\",figsize = (1000, 700))"
   ]
  },
  {
   "cell_type": "markdown",
   "metadata": {},
   "source": [
    "# State wise per of victims trafficed"
   ]
  },
  {
   "cell_type": "code",
   "execution_count": 45,
   "metadata": {},
   "outputs": [
    {
     "data": {
      "text/html": [
       "<div id=\"chart_idSzXbbUJq\"</div>\n",
       "    <script type=\"text/javascript\">new Highcharts.Chart({\"chart\":{\"renderTo\":\"chart_idSzXbbUJq\",\"type\":\"pie\"},\"legend\":{\"enabled\":true},\"series\":[{\"name\":\"Trafficed\",\"yAxis\":0,\"data\":[[\"ANDAMAN AND NICOBAR ISLANDS\",0.0325118668],[\"ANDHRA PRADESH\",2.308342545],[\"ARUNACHAL PRADESH\",0.0195071201],[\"ASSAM\",1.6190909682],[\"BIHAR\",1.5345601144],[\"CHANDIGARH\",0.0065023734],[\"CHHATTISGARH\",1.7491384355],[\"DADRA AND NAGAR HAVELI\",0.0],[\"DAMAN AND DIU\",0.0650237337],[\"DELHI\",1.7166265687],[\"GOA\",0.5592041095],[\"GUJARAT\",4.083490474],[\"HARYANA\",0.9688536316],[\"HIMACHAL PRADESH\",0.7607776839],[\"JAMMU AND KASHMIR\",0.0],[\"JHARKHAND\",1.0078678718],[\"KARNATAKA\",6.5804018467],[\"KERALA\",1.5150529943],[\"LAKSHADWEEP\",0.0],[\"MADHYA PRADESH\",0.780284804],[\"MAHARASHTRA\",7.4452175044],[\"MANIPUR\",0.1365498407],[\"MEGHALAYA\",0.0520189869],[\"MIZORAM\",0.0130047467],[\"NAGALAND\",0.0],[\"ODISHA\",3.3292151635],[\"PONDICHERRY\",0.0],[\"PUNJAB\",0.3251186683],[\"RAJASTHAN\",18.5577735874],[\"SIKKIM\",0.0065023734],[\"TAMIL NADU\",9.4219390077],[\"TELANGANA\",2.5359256128],[\"TRIPURA\",0.0650237337],[\"UTTAR PRADESH\",5.5790363483],[\"UTTARAKHAND\",0.1495545874],[\"WEST BENGAL\",27.0758826972]]}],\"title\":{\"text\":\"Per of victims trafficed in India\"},\"tooltip\":{\"pointFormat\":\"{series.name}: <b>{point.percentage:.1f}%<\\/b>\"},\"xAxis\":{\"title\":{\"text\":\"STATE NAME\"},\"categories\":[\"ANDAMAN AND NICOBAR ISLANDS\",\"ANDHRA PRADESH\",\"ARUNACHAL PRADESH\",\"ASSAM\",\"BIHAR\",\"CHANDIGARH\",\"CHHATTISGARH\",\"DADRA AND NAGAR HAVELI\",\"DAMAN AND DIU\",\"DELHI\",\"GOA\",\"GUJARAT\",\"HARYANA\",\"HIMACHAL PRADESH\",\"JAMMU AND KASHMIR\",\"JHARKHAND\",\"KARNATAKA\",\"KERALA\",\"LAKSHADWEEP\",\"MADHYA PRADESH\",\"MAHARASHTRA\",\"MANIPUR\",\"MEGHALAYA\",\"MIZORAM\",\"NAGALAND\",\"ODISHA\",\"PONDICHERRY\",\"PUNJAB\",\"RAJASTHAN\",\"SIKKIM\",\"TAMIL NADU\",\"TELANGANA\",\"TRIPURA\",\"UTTAR PRADESH\",\"UTTARAKHAND\",\"WEST BENGAL\"]},\"yAxis\":[{}]});</script>"
      ],
      "text/plain": [
       "<IPython.core.display.HTML object>"
      ]
     },
     "metadata": {},
     "output_type": "display_data"
    }
   ],
   "source": [
    "SWTPVT     = dataTrafficing.select(1,10)\n",
    "SWTPVTt    = SWTPVT.relabeled(1,'Total trafficed')\n",
    "SWTPVTdf   = SWTPVTt.to_df()\n",
    "totaltr    = SWTPVTdf['Total trafficed'].sum()\n",
    "SWTPVTdf['Trafficed'] = SWTPVTdf['Total trafficed'].div(totaltr).multiply(100)\n",
    "SWTPVTdfg  = SWTPVTdf.groupby(['STATE NAME'])[['Trafficed']].sum()\n",
    "display_charts(SWTPVTdfg, kind='pie', title='Per of victims trafficed in India', tooltip={'pointFormat': '{series.name}: <b>{point.percentage:.1f}%</b>'})"
   ]
  },
  {
   "cell_type": "markdown",
   "metadata": {},
   "source": [
    "# Purpose of human trafficing percentage in India"
   ]
  },
  {
   "cell_type": "code",
   "execution_count": 55,
   "metadata": {},
   "outputs": [
    {
     "data": {
      "text/html": [
       "<div id=\"chart_idZVwiFwZt\"</div>\n",
       "    <script type=\"text/javascript\">new Highcharts.Chart({\"chart\":{\"renderTo\":\"chart_idZVwiFwZt\",\"type\":\"pie\"},\"legend\":{\"enabled\":true},\"series\":[{\"name\":0,\"yAxis\":0,\"data\":[[\"Forced Labour\",10509],[\"Sexual Exploitation for Prostitution\",4980],[\"Domestic Servitude\",2590],[\"Forced Marriage\",349],[\"Petty Crimes\",212],[\"Child Pornography\",162],[\"Begging\",71],[\"Drug Peddling\",8],[\"Organs Removal\",2],[\"Other reasons\",3824]]}],\"title\":{\"text\":\"Human trafficing in India\"},\"tooltip\":{\"pointFormat\":\"{series.name}: <b>{point.percentage:.1f}%<\\/b>\"},\"xAxis\":{\"categories\":[\"Forced Labour\",\"Sexual Exploitation for Prostitution\",\"Domestic Servitude\",\"Forced Marriage\",\"Petty Crimes\",\"Child Pornography\",\"Begging\",\"Drug Peddling\",\"Organs Removal\",\"Other reasons\"]},\"yAxis\":[{}]});</script>"
      ],
      "text/plain": [
       "<IPython.core.display.HTML object>"
      ]
     },
     "metadata": {},
     "output_type": "display_data"
    }
   ],
   "source": [
    "POHTP   = dataTrafficing.select(1,11,12,13,15,16,17,18,19,20,21)\n",
    "POHTPt  = POHTP.relabeled(1,'Forced Labour').relabeled(2,'Sexual Exploitation for Prostitution').relabeled(3,'Domestic Servitude').relabeled(4,'Forced Marriage').relabeled(5,'Petty Crimes').relabeled(6,'Child Pornography').relabeled(7,'Begging').relabeled(8,'Drug Peddling').relabeled(9,'Organs Removal').relabeled(10,'Other reasons')\n",
    "POHTPdf = POHTPt.to_df()\n",
    "SWPHT = POHTPdf[['Forced Labour','Sexual Exploitation for Prostitution','Domestic Servitude','Forced Marriage','Petty Crimes','Child Pornography','Begging','Drug Peddling','Organs Removal','Other reasons']].sum()\n",
    "SWPHT = pd.DataFrame(SWPHT)\n",
    "display_charts(SWPHT , kind='pie', title='Human trafficing in India', tooltip={'pointFormat': '{series.name}: <b>{point.percentage:.1f}%</b>'})"
   ]
  },
  {
   "cell_type": "markdown",
   "metadata": {},
   "source": [
    "# State wise no of girls or women victims rape"
   ]
  },
  {
   "cell_type": "code",
   "execution_count": 59,
   "metadata": {},
   "outputs": [
    {
     "data": {
      "text/html": [
       "<div id=\"chart_idSxQXEFIK\"</div>\n",
       "    <script type=\"text/javascript\">new Highcharts.Chart({\"chart\":{\"renderTo\":\"chart_idSxQXEFIK\",\"width\":1000,\"height\":700,\"type\":\"column\"},\"legend\":{\"enabled\":true},\"series\":[{\"name\":\"Victims rape\",\"yAxis\":0,\"data\":[[\"ANDAMAN AND NICOBAR ISLANDS\",30],[\"ANDHRA PRADESH\",995],[\"ARUNACHAL PRADESH\",92],[\"ASSAM\",1779],[\"BIHAR\",1008],[\"CHANDIGARH\",69],[\"CHHATTISGARH\",1627],[\"DADRA AND NAGAR HAVELI\",14],[\"DAMAN AND DIU\",12],[\"DELHI\",2170],[\"GOA\",61],[\"GUJARAT\",986],[\"HARYANA\",1189],[\"HIMACHAL PRADESH\",258],[\"JAMMU AND KASHMIR\",256],[\"JHARKHAND\",1110],[\"KARNATAKA\",1671],[\"KERALA\",1661],[\"LAKSHADWEEP\",5],[\"MADHYA PRADESH\",4908],[\"MAHARASHTRA\",4216],[\"MANIPUR\",55],[\"MEGHALAYA\",194],[\"MIZORAM\",23],[\"NAGALAND\",26],[\"ODISHA\",1984],[\"PONDICHERRY\",6],[\"PUNJAB\",840],[\"RAJASTHAN\",3657],[\"SIKKIM\",98],[\"TAMIL NADU\",320],[\"TELANGANA\",1278],[\"TRIPURA\",207],[\"UTTAR PRADESH\",4817],[\"UTTARAKHAND\",336],[\"WEST BENGAL\",1110]]}],\"title\":{\"text\":\"State wise girls\\/women victims rape\"},\"xAxis\":{\"title\":{\"text\":\"STATE NAME\"},\"categories\":[\"ANDAMAN AND NICOBAR ISLANDS\",\"ANDHRA PRADESH\",\"ARUNACHAL PRADESH\",\"ASSAM\",\"BIHAR\",\"CHANDIGARH\",\"CHHATTISGARH\",\"DADRA AND NAGAR HAVELI\",\"DAMAN AND DIU\",\"DELHI\",\"GOA\",\"GUJARAT\",\"HARYANA\",\"HIMACHAL PRADESH\",\"JAMMU AND KASHMIR\",\"JHARKHAND\",\"KARNATAKA\",\"KERALA\",\"LAKSHADWEEP\",\"MADHYA PRADESH\",\"MAHARASHTRA\",\"MANIPUR\",\"MEGHALAYA\",\"MIZORAM\",\"NAGALAND\",\"ODISHA\",\"PONDICHERRY\",\"PUNJAB\",\"RAJASTHAN\",\"SIKKIM\",\"TAMIL NADU\",\"TELANGANA\",\"TRIPURA\",\"UTTAR PRADESH\",\"UTTARAKHAND\",\"WEST BENGAL\"]},\"yAxis\":[{}]});</script>"
      ],
      "text/plain": [
       "<IPython.core.display.HTML object>"
      ]
     },
     "metadata": {},
     "output_type": "display_data"
    }
   ],
   "source": [
    "SWWVR   = dataRapeVictm.select(1,13)\n",
    "SWWVRt  = SWWVR.relabeled(1,'Victims rape')\n",
    "SWWVRdf = SWWVRt.to_df()\n",
    "SWWVRdfg = SWWVRdf.groupby(['STATE NAME'])[['Victims rape']].sum()\n",
    "display_charts(SWWVRdfg , kind=\"bar\", title=\"State wise girls/women victims rape\",figsize = (1000, 700))"
   ]
  },
  {
   "cell_type": "markdown",
   "metadata": {},
   "source": [
    "# State wise per share of rape victims"
   ]
  },
  {
   "cell_type": "code",
   "execution_count": 60,
   "metadata": {},
   "outputs": [
    {
     "data": {
      "text/html": [
       "<div id=\"chart_idVxYAQMhc\"</div>\n",
       "    <script type=\"text/javascript\">new Highcharts.Chart({\"chart\":{\"renderTo\":\"chart_idVxYAQMhc\",\"type\":\"pie\"},\"legend\":{\"enabled\":true},\"series\":[{\"name\":\"Victims rape\",\"yAxis\":0,\"data\":[[\"ANDAMAN AND NICOBAR ISLANDS\",30],[\"ANDHRA PRADESH\",995],[\"ARUNACHAL PRADESH\",92],[\"ASSAM\",1779],[\"BIHAR\",1008],[\"CHANDIGARH\",69],[\"CHHATTISGARH\",1627],[\"DADRA AND NAGAR HAVELI\",14],[\"DAMAN AND DIU\",12],[\"DELHI\",2170],[\"GOA\",61],[\"GUJARAT\",986],[\"HARYANA\",1189],[\"HIMACHAL PRADESH\",258],[\"JAMMU AND KASHMIR\",256],[\"JHARKHAND\",1110],[\"KARNATAKA\",1671],[\"KERALA\",1661],[\"LAKSHADWEEP\",5],[\"MADHYA PRADESH\",4908],[\"MAHARASHTRA\",4216],[\"MANIPUR\",55],[\"MEGHALAYA\",194],[\"MIZORAM\",23],[\"NAGALAND\",26],[\"ODISHA\",1984],[\"PONDICHERRY\",6],[\"PUNJAB\",840],[\"RAJASTHAN\",3657],[\"SIKKIM\",98],[\"TAMIL NADU\",320],[\"TELANGANA\",1278],[\"TRIPURA\",207],[\"UTTAR PRADESH\",4817],[\"UTTARAKHAND\",336],[\"WEST BENGAL\",1110]]}],\"title\":{\"text\":\"Girls \\/ women victims rape\"},\"tooltip\":{\"pointFormat\":\"{series.name}: <b>{point.percentage:.1f}%<\\/b>\"},\"xAxis\":{\"title\":{\"text\":\"STATE NAME\"},\"categories\":[\"ANDAMAN AND NICOBAR ISLANDS\",\"ANDHRA PRADESH\",\"ARUNACHAL PRADESH\",\"ASSAM\",\"BIHAR\",\"CHANDIGARH\",\"CHHATTISGARH\",\"DADRA AND NAGAR HAVELI\",\"DAMAN AND DIU\",\"DELHI\",\"GOA\",\"GUJARAT\",\"HARYANA\",\"HIMACHAL PRADESH\",\"JAMMU AND KASHMIR\",\"JHARKHAND\",\"KARNATAKA\",\"KERALA\",\"LAKSHADWEEP\",\"MADHYA PRADESH\",\"MAHARASHTRA\",\"MANIPUR\",\"MEGHALAYA\",\"MIZORAM\",\"NAGALAND\",\"ODISHA\",\"PONDICHERRY\",\"PUNJAB\",\"RAJASTHAN\",\"SIKKIM\",\"TAMIL NADU\",\"TELANGANA\",\"TRIPURA\",\"UTTAR PRADESH\",\"UTTARAKHAND\",\"WEST BENGAL\"]},\"yAxis\":[{}]});</script>"
      ],
      "text/plain": [
       "<IPython.core.display.HTML object>"
      ]
     },
     "metadata": {},
     "output_type": "display_data"
    }
   ],
   "source": [
    "display_charts(SWWVRdfg , kind='pie', title='Girls / women victims rape', tooltip={'pointFormat': '{series.name}: <b>{point.percentage:.1f}%</b>'})"
   ]
  },
  {
   "cell_type": "markdown",
   "metadata": {},
   "source": [
    "# State wise kidnapping per share in India"
   ]
  },
  {
   "cell_type": "code",
   "execution_count": 70,
   "metadata": {},
   "outputs": [
    {
     "data": {
      "text/html": [
       "<div id=\"chart_idfidtVNXc\"</div>\n",
       "    <script type=\"text/javascript\">new Highcharts.Chart({\"chart\":{\"renderTo\":\"chart_idfidtVNXc\",\"type\":\"pie\"},\"legend\":{\"enabled\":true},\"series\":[{\"name\":\"Kidnap Per\",\"yAxis\":0,\"data\":[[\"ANDAMAN AND NICOBAR ISLANDS\",0.0214177276],[\"ANDHRA PRADESH\",1.3297889094],[\"ARUNACHAL PRADESH\",0.091970242],[\"ASSAM\",12.3095239595],[\"BIHAR\",8.0669240994],[\"CHANDIGARH\",0.2267759391],[\"CHHATTISGARH\",2.03468412],[\"DADRA AND NAGAR HAVELI\",0.0100789306],[\"DAMAN AND DIU\",0.0365361235],[\"DELHI\",9.5453772355],[\"GOA\",0.0963797741],[\"GUJARAT\",2.6828853459],[\"HARYANA\",4.5714249718],[\"HIMACHAL PRADESH\",0.333864577],[\"JAMMU AND KASHMIR\",1.0280509238],[\"JHARKHAND\",1.0639571142],[\"KARNATAKA\",2.8258801741],[\"KERALA\",0.2311854712],[\"LAKSHADWEEP\",0.0],[\"MADHYA PRADESH\",10.1475933403],[\"MAHARASHTRA\",8.34976409],[\"MANIPUR\",0.7313524035],[\"MEGHALAYA\",0.1196873012],[\"MIZORAM\",0.0144884628],[\"NAGALAND\",0.0907103756],[\"ODISHA\",3.1200589617],[\"PONDICHERRY\",0.0119687301],[\"PUNJAB\",2.5436701166],[\"RAJASTHAN\",6.4536652661],[\"SIKKIM\",0.0365361235],[\"TAMIL NADU\",1.2863235211],[\"TELANGANA\",1.4564054754],[\"TRIPURA\",0.1310260981],[\"UTTAR PRADESH\",12.8059112928],[\"UTTARAKHAND\",0.9530888773],[\"WEST BENGAL\",5.2410439252]]}],\"title\":{\"text\":\"State wise kidnaping per share in India\"},\"tooltip\":{\"pointFormat\":\"{series.name}: <b>{point.percentage:.1f}%<\\/b>\"},\"xAxis\":{\"title\":{\"text\":\"STATE NAME\"},\"categories\":[\"ANDAMAN AND NICOBAR ISLANDS\",\"ANDHRA PRADESH\",\"ARUNACHAL PRADESH\",\"ASSAM\",\"BIHAR\",\"CHANDIGARH\",\"CHHATTISGARH\",\"DADRA AND NAGAR HAVELI\",\"DAMAN AND DIU\",\"DELHI\",\"GOA\",\"GUJARAT\",\"HARYANA\",\"HIMACHAL PRADESH\",\"JAMMU AND KASHMIR\",\"JHARKHAND\",\"KARNATAKA\",\"KERALA\",\"LAKSHADWEEP\",\"MADHYA PRADESH\",\"MAHARASHTRA\",\"MANIPUR\",\"MEGHALAYA\",\"MIZORAM\",\"NAGALAND\",\"ODISHA\",\"PONDICHERRY\",\"PUNJAB\",\"RAJASTHAN\",\"SIKKIM\",\"TAMIL NADU\",\"TELANGANA\",\"TRIPURA\",\"UTTAR PRADESH\",\"UTTARAKHAND\",\"WEST BENGAL\"]},\"yAxis\":[{}]});</script>"
      ],
      "text/plain": [
       "<IPython.core.display.HTML object>"
      ]
     },
     "metadata": {},
     "output_type": "display_data"
    }
   ],
   "source": [
    "SWKPS    = dataKidnapping.select(1,4)\n",
    "SWKPSt   = SWKPS.relabeled(1,'Kidnapped')\n",
    "SWKPSdf  = SWKPSt.to_df()\n",
    "totkid   = SWKPSdf['Kidnapped'].sum()\n",
    "SWKPSdf['Kidnap Per'] = SWKPSdf['Kidnapped'].div(totkid).multiply(100)\n",
    "SWKPSdfg = SWKPSdf.groupby(['STATE NAME'])[['Kidnap Per']].sum()\n",
    "display_charts(SWKPSdfg , kind='pie', title='State wise kidnaping per share in India', tooltip={'pointFormat': '{series.name}: <b>{point.percentage:.1f}%</b>'})"
   ]
  },
  {
   "cell_type": "markdown",
   "metadata": {},
   "source": [
    "# State wise kidnaping recovery per in India"
   ]
  },
  {
   "cell_type": "code",
   "execution_count": 73,
   "metadata": {},
   "outputs": [
    {
     "data": {
      "text/html": [
       "<div id=\"chart_idlJlKEhIJ\"</div>\n",
       "    <script type=\"text/javascript\">new Highcharts.Chart({\"chart\":{\"renderTo\":\"chart_idlJlKEhIJ\",\"width\":1000,\"height\":700,\"type\":\"column\"},\"legend\":{\"enabled\":true},\"series\":[{\"name\":\"Kidnaping recovery\",\"yAxis\":0,\"data\":[[\"ANDAMAN AND NICOBAR ISLANDS\",79.4],[\"ANDHRA PRADESH\",15.7],[\"ARUNACHAL PRADESH\",65.1],[\"ASSAM\",1.3],[\"BIHAR\",23.0],[\"CHANDIGARH\",55.6],[\"CHHATTISGARH\",49.6],[\"DADRA AND NAGAR HAVELI\",50.0],[\"DAMAN AND DIU\",44.8],[\"DELHI\",38.9],[\"GOA\",74.5],[\"GUJARAT\",72.7],[\"HARYANA\",47.7],[\"HIMACHAL PRADESH\",57.4],[\"JAMMU AND KASHMIR\",60.4],[\"JHARKHAND\",53.4],[\"KARNATAKA\",51.9],[\"KERALA\",76.8],[\"LAKSHADWEEP\",0.0],[\"MADHYA PRADESH\",44.2],[\"MAHARASHTRA\",50.2],[\"MANIPUR\",99.1],[\"MEGHALAYA\",66.3],[\"MIZORAM\",13.0],[\"NAGALAND\",49.3],[\"ODISHA\",58.5],[\"PONDICHERRY\",42.1],[\"PUNJAB\",31.2],[\"RAJASTHAN\",61.1],[\"SIKKIM\",0.0],[\"TAMIL NADU\",81.0],[\"TELANGANA\",53.2],[\"TRIPURA\",85.1],[\"UTTAR PRADESH\",75.5],[\"UTTARAKHAND\",8.3],[\"WEST BENGAL\",32.0]]}],\"title\":{\"text\":\"State wise kidnaping recovery per\"},\"xAxis\":{\"title\":{\"text\":\"STATE NAME\"},\"categories\":[\"ANDAMAN AND NICOBAR ISLANDS\",\"ANDHRA PRADESH\",\"ARUNACHAL PRADESH\",\"ASSAM\",\"BIHAR\",\"CHANDIGARH\",\"CHHATTISGARH\",\"DADRA AND NAGAR HAVELI\",\"DAMAN AND DIU\",\"DELHI\",\"GOA\",\"GUJARAT\",\"HARYANA\",\"HIMACHAL PRADESH\",\"JAMMU AND KASHMIR\",\"JHARKHAND\",\"KARNATAKA\",\"KERALA\",\"LAKSHADWEEP\",\"MADHYA PRADESH\",\"MAHARASHTRA\",\"MANIPUR\",\"MEGHALAYA\",\"MIZORAM\",\"NAGALAND\",\"ODISHA\",\"PONDICHERRY\",\"PUNJAB\",\"RAJASTHAN\",\"SIKKIM\",\"TAMIL NADU\",\"TELANGANA\",\"TRIPURA\",\"UTTAR PRADESH\",\"UTTARAKHAND\",\"WEST BENGAL\"]},\"yAxis\":[{}]});</script>"
      ],
      "text/plain": [
       "<IPython.core.display.HTML object>"
      ]
     },
     "metadata": {},
     "output_type": "display_data"
    }
   ],
   "source": [
    "SWKRP  = dataKidnapping.select(1,16)\n",
    "SWKRPt = SWKRP.relabeled(1,'Kidnaping recovery')\n",
    "SWKRPdf = SWKRPt.to_df()\n",
    "SWKRPdfg = SWKRPdf.groupby(['STATE NAME'])[['Kidnaping recovery']].sum()\n",
    "display_charts(SWKRPdfg , kind=\"bar\", title=\"State wise kidnaping recovery per\",figsize = (1000, 700))"
   ]
  },
  {
   "cell_type": "markdown",
   "metadata": {},
   "source": [
    "# Rate of crimes done by juvenile in different states of India"
   ]
  },
  {
   "cell_type": "code",
   "execution_count": 76,
   "metadata": {},
   "outputs": [
    {
     "data": {
      "text/html": [
       "<div id=\"chart_idkwMuUcJa\"</div>\n",
       "    <script type=\"text/javascript\">new Highcharts.Chart({\"chart\":{\"renderTo\":\"chart_idkwMuUcJa\",\"width\":1000,\"height\":700,\"type\":\"bar\"},\"legend\":{\"enabled\":true},\"series\":[{\"name\":\"Juvenile crime rate\",\"yAxis\":0,\"data\":[[\"ANDAMAN AND NICOBAR ISLANDS\",8.6],[\"ANDHRA PRADESH\",5.2],[\"ARUNACHAL PRADESH\",12.1],[\"ASSAM\",3.7],[\"BIHAR\",5.2],[\"CHANDIGARH\",24.0],[\"CHHATTISGARH\",19.4],[\"DADRA AND NAGAR HAVELI\",0.0],[\"DAMAN AND DIU\",7.8],[\"DELHI\",44.6],[\"GOA\",4.0],[\"GUJARAT\",8.1],[\"HARYANA\",12.8],[\"HIMACHAL PRADESH\",9.4],[\"JAMMU AND KASHMIR\",4.4],[\"JHARKHAND\",1.1],[\"KARNATAKA\",2.3],[\"KERALA\",6.7],[\"LAKSHADWEEP\",0.0],[\"MADHYA PRADESH\",24.5],[\"MAHARASHTRA\",17.5],[\"MANIPUR\",1.0],[\"MEGHALAYA\",8.4],[\"MIZORAM\",14.3],[\"NAGALAND\",2.7],[\"ODISHA\",7.1],[\"PONDICHERRY\",15.3],[\"PUNJAB\",1.3],[\"RAJASTHAN\",8.0],[\"SIKKIM\",13.5],[\"TAMIL NADU\",11.0],[\"TELANGANA\",8.9],[\"TRIPURA\",2.0],[\"UTTAR PRADESH\",1.6],[\"UTTARAKHAND\",3.2],[\"WEST BENGAL\",2.4]]}],\"title\":{\"text\":\"State wise juvenile crime rate\"},\"xAxis\":{\"title\":{\"text\":\"STATE NAME\"},\"categories\":[\"ANDAMAN AND NICOBAR ISLANDS\",\"ANDHRA PRADESH\",\"ARUNACHAL PRADESH\",\"ASSAM\",\"BIHAR\",\"CHANDIGARH\",\"CHHATTISGARH\",\"DADRA AND NAGAR HAVELI\",\"DAMAN AND DIU\",\"DELHI\",\"GOA\",\"GUJARAT\",\"HARYANA\",\"HIMACHAL PRADESH\",\"JAMMU AND KASHMIR\",\"JHARKHAND\",\"KARNATAKA\",\"KERALA\",\"LAKSHADWEEP\",\"MADHYA PRADESH\",\"MAHARASHTRA\",\"MANIPUR\",\"MEGHALAYA\",\"MIZORAM\",\"NAGALAND\",\"ODISHA\",\"PONDICHERRY\",\"PUNJAB\",\"RAJASTHAN\",\"SIKKIM\",\"TAMIL NADU\",\"TELANGANA\",\"TRIPURA\",\"UTTAR PRADESH\",\"UTTARAKHAND\",\"WEST BENGAL\"]},\"yAxis\":[{}]});</script>"
      ],
      "text/plain": [
       "<IPython.core.display.HTML object>"
      ]
     },
     "metadata": {},
     "output_type": "display_data"
    }
   ],
   "source": [
    "ROCDBJ    = dataJuvenileCrm.select(1,6)\n",
    "ROCDBJt   = ROCDBJ.relabeled(1,'Juvenile crime rate')\n",
    "ROCDBJdf  = ROCDBJt.to_df()\n",
    "ROCDBJdfg = ROCDBJdf.groupby(['STATE NAME'])[['Juvenile crime rate']].sum()\n",
    "display_charts(ROCDBJdfg, kind=\"barh\", title=\"State wise juvenile crime rate\",figsize = (1000, 700))"
   ]
  },
  {
   "cell_type": "markdown",
   "metadata": {},
   "source": [
    "# State wise per share of murder victims"
   ]
  },
  {
   "cell_type": "code",
   "execution_count": 80,
   "metadata": {},
   "outputs": [
    {
     "data": {
      "text/html": [
       "<div id=\"chart_idYoWzCfur\"</div>\n",
       "    <script type=\"text/javascript\">new Highcharts.Chart({\"chart\":{\"renderTo\":\"chart_idYoWzCfur\",\"type\":\"pie\"},\"legend\":{\"enabled\":true},\"series\":[{\"name\":\"Victims per\",\"yAxis\":0,\"data\":[[\"ANDAMAN AND NICOBAR ISLANDS\",0.0444500889],[\"ANDHRA PRADESH\",3.7687325375],[\"ARUNACHAL PRADESH\",0.1555753112],[\"ASSAM\",3.6480822962],[\"BIHAR\",8.2327914656],[\"CHANDIGARH\",0.0825501651],[\"CHHATTISGARH\",3.1369062738],[\"DADRA AND NAGAR HAVELI\",0.0158750318],[\"DAMAN AND DIU\",0.0127000254],[\"DELHI\",1.7303784608],[\"GOA\",0.0952501905],[\"GUJARAT\",3.7338074676],[\"HARYANA\",3.4607569215],[\"HIMACHAL PRADESH\",0.3270256541],[\"JAMMU AND KASHMIR\",0.5334010668],[\"JHARKHAND\",4.816484633],[\"KARNATAKA\",5.207010414],[\"KERALA\",1.3684277369],[\"LAKSHADWEEP\",0.0],[\"MADHYA PRADESH\",6.5659131318],[\"MAHARASHTRA\",7.6041402083],[\"MANIPUR\",0.2508255017],[\"MEGHALAYA\",0.3492506985],[\"MIZORAM\",0.1047752096],[\"NAGALAND\",0.1460502921],[\"ODISHA\",4.2894335789],[\"PONDICHERRY\",0.1206502413],[\"PUNJAB\",2.5527051054],[\"RAJASTHAN\",4.9879349759],[\"SIKKIM\",0.0603251207],[\"TAMIL NADU\",5.3435356871],[\"TELANGANA\",3.3877317755],[\"TRIPURA\",0.4730759462],[\"UTTAR PRADESH\",16.0496570993],[\"UTTARAKHAND\",0.6159512319],[\"WEST BENGAL\",6.7278384557]]}],\"title\":{\"text\":\"State wise per share of murder victims\"},\"tooltip\":{\"pointFormat\":\"{series.name}: <b>{point.percentage:.1f}%<\\/b>\"},\"xAxis\":{\"title\":{\"text\":\"STATE NAME\"},\"categories\":[\"ANDAMAN AND NICOBAR ISLANDS\",\"ANDHRA PRADESH\",\"ARUNACHAL PRADESH\",\"ASSAM\",\"BIHAR\",\"CHANDIGARH\",\"CHHATTISGARH\",\"DADRA AND NAGAR HAVELI\",\"DAMAN AND DIU\",\"DELHI\",\"GOA\",\"GUJARAT\",\"HARYANA\",\"HIMACHAL PRADESH\",\"JAMMU AND KASHMIR\",\"JHARKHAND\",\"KARNATAKA\",\"KERALA\",\"LAKSHADWEEP\",\"MADHYA PRADESH\",\"MAHARASHTRA\",\"MANIPUR\",\"MEGHALAYA\",\"MIZORAM\",\"NAGALAND\",\"ODISHA\",\"PONDICHERRY\",\"PUNJAB\",\"RAJASTHAN\",\"SIKKIM\",\"TAMIL NADU\",\"TELANGANA\",\"TRIPURA\",\"UTTAR PRADESH\",\"UTTARAKHAND\",\"WEST BENGAL\"]},\"yAxis\":[{}]});</script>"
      ],
      "text/plain": [
       "<IPython.core.display.HTML object>"
      ]
     },
     "metadata": {},
     "output_type": "display_data"
    }
   ],
   "source": [
    "SWPSMV    = dataMurderVictm.select(1,10)\n",
    "SWPSMVt   = SWPSMV.relabeled(1,'Total victims')\n",
    "SWPSMVdf = SWPSMVt.to_df()\n",
    "ttlmrder = SWPSMVdf['Total victims'].sum()\n",
    "SWPSMVdf['Victims per'] = SWPSMVdf['Total victims'].div(ttlmrder).multiply(100)\n",
    "SWPSMVdfg = SWPSMVdf.groupby(['STATE NAME'])[['Victims per']].sum()\n",
    "display_charts(SWPSMVdfg , kind='pie', title='State wise per share of murder victims', tooltip={'pointFormat': '{series.name}: <b>{point.percentage:.1f}%</b>'})"
   ]
  },
  {
   "cell_type": "code",
   "execution_count": null,
   "metadata": {},
   "outputs": [],
   "source": []
  }
 ],
 "metadata": {
  "kernelspec": {
   "display_name": "Python 3",
   "language": "python",
   "name": "python3"
  },
  "language_info": {
   "codemirror_mode": {
    "name": "ipython",
    "version": 3
   },
   "file_extension": ".py",
   "mimetype": "text/x-python",
   "name": "python",
   "nbconvert_exporter": "python",
   "pygments_lexer": "ipython3",
   "version": "3.6.3"
  }
 },
 "nbformat": 4,
 "nbformat_minor": 2
}
