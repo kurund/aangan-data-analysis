{
 "cells": [
  {
   "cell_type": "code",
   "execution_count": 1,
   "metadata": {},
   "outputs": [
    {
     "data": {
      "text/html": [
       "\n",
       "<script src=\"//code.highcharts.com/stock/highstock.js\"></script>\n",
       "<script src=\"//code.highcharts.com/highcharts-more.js\"></script>\n",
       "<script src=\"//code.highcharts.com/modules/exporting.js\"></script>\n"
      ],
      "text/plain": [
       "<IPython.core.display.HTML object>"
      ]
     },
     "metadata": {},
     "output_type": "display_data"
    }
   ],
   "source": [
    "import pandas as pd\n",
    "from pandas_highcharts.core import serialize\n",
    "from pandas_highcharts.display import display_charts\n",
    "fileAll = \"data/all.csv\" \n",
    "dataAll      = pd.read_csv(fileAll, encoding='utf-8')"
   ]
  },
  {
   "cell_type": "markdown",
   "metadata": {},
   "source": [
    "<h1> Population </h1>"
   ]
  },
  {
   "cell_type": "code",
   "execution_count": 2,
   "metadata": {},
   "outputs": [
    {
     "data": {
      "text/html": [
       "<div id=\"chart_idOSqmKMNd\"</div>\n",
       "    <script type=\"text/javascript\">new Highcharts.Chart({\"chart\":{\"renderTo\":\"chart_idOSqmKMNd\",\"width\":1000,\"height\":700,\"type\":\"column\"},\"legend\":{\"enabled\":true},\"series\":[{\"name\":\"Females\",\"yAxis\":0,\"data\":[[\"AN\",163180],[\"Andhra\",35240814],[\"ArunachalPradesh\",518027],[\"Assam\",12878491],[\"Bihar\",39754714],[\"CG\",10359585],[\"Chandigarh\",393697],[\"D_D\",65692],[\"D_N_H\",98824],[\"Delhi\",6243273],[\"Goa\",660420],[\"Gujarat\",24285440],[\"HP\",2989960],[\"Haryana\",9780611],[\"JK\",4782774],[\"Jharkhand\",13060792],[\"Karnataka\",25951644],[\"Kerala\",16372760],[\"Lakshdweep\",29519],[\"MP\",28904371],[\"Maharashtra\",46478031],[\"Manipur\",994871],[\"Meghalya\",1142735],[\"Mizoram\",429464],[\"Nagaland\",942895],[\"Orrisa\",17591321],[\"Pondicherry\",487384],[\"Punjab\",11373954],[\"Rajasthan\",27087177],[\"Sikkim\",252367],[\"TN\",31004770],[\"Tripura\",1556978],[\"UP\",78632552],[\"Uttranchal\",4163425],[\"WB\",38710212]]},{\"name\":\"Growth 1991-2001\",\"yAxis\":0,\"data\":[[\"AN\",18.665],[\"Andhra\",14.5718181818],[\"ArunachalPradesh\",25.47],[\"Assam\",18.6695652174],[\"Bihar\",28.6059459459],[\"CG\",17.50625],[\"Chandigarh\",40.33],[\"D_D\",47.6],[\"D_N_H\",59.2],[\"Delhi\",37.4977777778],[\"Goa\",15.045],[\"Gujarat\",20.8248],[\"HP\",17.5308333333],[\"Haryana\",27.8168421053],[\"JK\",28.7857142857],[\"Jharkhand\",23.7966666667],[\"Karnataka\",15.5066666667],[\"Kerala\",9.355],[\"Lakshdweep\",17.19],[\"MP\",24.2093333333],[\"Maharashtra\",19.6071428571],[\"Manipur\",29.24],[\"Meghalya\",32.8142857143],[\"Mizoram\",26.37625],[\"Nagaland\",64.92375],[\"Orrisa\",15.5513793103],[\"Pondicherry\",25.635],[\"Punjab\",18.8770588235],[\"Rajasthan\",28.2525],[\"Sikkim\",31.835],[\"TN\",10.1276666667],[\"Tripura\",15.405],[\"UP\",25.7022857143],[\"Uttranchal\",17.0923076923],[\"WB\",18.425]]},{\"name\":\"Males\",\"yAxis\":0,\"data\":[[\"AN\",192972],[\"Andhra\",36067773],[\"ArunachalPradesh\",579941],[\"Assam\",13777037],[\"Bihar\",43243795],[\"CG\",10474218],[\"Chandigarh\",506938],[\"D_D\",92512],[\"D_N_H\",121666],[\"Delhi\",7607234],[\"Goa\",687248],[\"Gujarat\",26385577],[\"HP\",3087940],[\"Haryana\",11363953],[\"JK\",5360926],[\"Jharkhand\",13885037],[\"Karnataka\",26898918],[\"Kerala\",15468614],[\"Lakshdweep\",31131],[\"MP\",31443652],[\"Maharashtra\",50400596],[\"Manipur\",1015404],[\"Meghalya\",1176087],[\"Mizoram\",459109],[\"Nagaland\",1047141],[\"Orrisa\",18073336],[\"Pondicherry\",486961],[\"Punjab\",12985045],[\"Rajasthan\",29420011],[\"Sikkim\",288484],[\"TN\",31400909],[\"Tripura\",1642225],[\"UP\",87565369],[\"Uttranchal\",4325924],[\"WB\",41465985]]},{\"name\":\"Percentage...SC.to.total\",\"yAxis\":0,\"data\":[[\"AN\",0.0],[\"Andhra\",0.0],[\"ArunachalPradesh\",0.0],[\"Assam\",0.0],[\"Bihar\",0.0],[\"CG\",0.0],[\"Chandigarh\",0.0],[\"D_D\",0.0],[\"D_N_H\",0.0],[\"Delhi\",0.0],[\"Goa\",0.0],[\"Gujarat\",0.0],[\"HP\",0.0],[\"Haryana\",0.0],[\"JK\",0.0],[\"Jharkhand\",0.0],[\"Karnataka\",0.0],[\"Kerala\",0.0],[\"Lakshdweep\",0.0],[\"MP\",0.0],[\"Maharashtra\",0.0],[\"Manipur\",16.06],[\"Meghalya\",0.15],[\"Mizoram\",0.18],[\"Nagaland\",0.0],[\"Orrisa\",0.0],[\"Pondicherry\",0.0],[\"Punjab\",0.0],[\"Rajasthan\",0.0],[\"Sikkim\",0.0],[\"TN\",0.0],[\"Tripura\",0.0],[\"UP\",0.0],[\"Uttranchal\",0.0],[\"WB\",0.0]]},{\"name\":\"Persons\",\"yAxis\":0,\"data\":[[\"AN\",356152],[\"Andhra\",71308587],[\"ArunachalPradesh\",1097968],[\"Assam\",26655528],[\"Bihar\",82998509],[\"CG\",20833803],[\"Chandigarh\",900635],[\"D_D\",158204],[\"D_N_H\",220490],[\"Delhi\",13850507],[\"Goa\",1347668],[\"Gujarat\",50671017],[\"HP\",6077900],[\"Haryana\",21144564],[\"JK\",10143700],[\"Jharkhand\",26945829],[\"Karnataka\",52850562],[\"Kerala\",31841374],[\"Lakshdweep\",60650],[\"MP\",60348023],[\"Maharashtra\",96878627],[\"Manipur\",2010275],[\"Meghalya\",2318822],[\"Mizoram\",888573],[\"Nagaland\",1990036],[\"Orrisa\",35664657],[\"Pondicherry\",974345],[\"Punjab\",24358999],[\"Rajasthan\",56507188],[\"Sikkim\",540851],[\"TN\",62405679],[\"Tripura\",3199203],[\"UP\",166197921],[\"Uttranchal\",8489349],[\"WB\",80176197]]},{\"name\":\"Rural\",\"yAxis\":0,\"data\":[[\"AN\",239954.0],[\"Andhra\",51651532.0],[\"ArunachalPradesh\",870087.0],[\"Assam\",23216288.0],[\"Bihar\",74316709.0],[\"CG\",16648056.0],[\"Chandigarh\",92120.0],[\"D_D\",100856.0],[\"D_N_H\",170027.0],[\"Delhi\",944727.0],[\"Goa\",677091.0],[\"Gujarat\",31740767.0],[\"HP\",5482319.0],[\"Haryana\",15029260.0],[\"JK\",7627062.0],[\"Jharkhand\",20952088.0],[\"Karnataka\",34889033.0],[\"Kerala\",23574449.0],[\"Lakshdweep\",33683.0],[\"MP\",44380878.0],[\"Maharashtra\",55777647.0],[\"Manipur\",1434307.0],[\"Meghalya\",1864711.0],[\"Mizoram\",447567.0],[\"Nagaland\",1647249.0],[\"Orrisa\",30305835.0],[\"Pondicherry\",325726.0],[\"Punjab\",16096488.0],[\"Rajasthan\",43292813.0],[\"Sikkim\",480981.0],[\"TN\",34921681.0],[\"Tripura\",2653453.0],[\"UP\",131658339.0],[\"Uttranchal\",6310275.0],[\"WB\",57748946.0]]},{\"name\":\"Scheduled.Caste.population\",\"yAxis\":0,\"data\":[[\"AN\",0.0],[\"Andhra\",0.0],[\"ArunachalPradesh\",0.0],[\"Assam\",0.0],[\"Bihar\",0.0],[\"CG\",0.0],[\"Chandigarh\",0.0],[\"D_D\",0.0],[\"D_N_H\",0.0],[\"Delhi\",0.0],[\"Goa\",0.0],[\"Gujarat\",0.0],[\"HP\",0.0],[\"Haryana\",0.0],[\"JK\",0.0],[\"Jharkhand\",0.0],[\"Karnataka\",0.0],[\"Kerala\",0.0],[\"Lakshdweep\",0.0],[\"MP\",0.0],[\"Maharashtra\",0.0],[\"Manipur\",59799.0],[\"Meghalya\",0.0],[\"Mizoram\",272.0],[\"Nagaland\",0.0],[\"Orrisa\",0.0],[\"Pondicherry\",0.0],[\"Punjab\",0.0],[\"Rajasthan\",0.0],[\"Sikkim\",0.0],[\"TN\",0.0],[\"Tripura\",0.0],[\"UP\",0.0],[\"Uttranchal\",0.0],[\"WB\",0.0]]},{\"name\":\"Urban\",\"yAxis\":0,\"data\":[[\"AN\",116198.0],[\"Andhra\",0.0],[\"ArunachalPradesh\",227881.0],[\"Assam\",0.0],[\"Bihar\",0.0],[\"CG\",0.0],[\"Chandigarh\",0.0],[\"D_D\",0.0],[\"D_N_H\",0.0],[\"Delhi\",0.0],[\"Goa\",0.0],[\"Gujarat\",18930250.0],[\"HP\",595581.0],[\"Haryana\",0.0],[\"JK\",0.0],[\"Jharkhand\",0.0],[\"Karnataka\",0.0],[\"Kerala\",0.0],[\"Lakshdweep\",0.0],[\"MP\",0.0],[\"Maharashtra\",0.0],[\"Manipur\",575968.0],[\"Meghalya\",0.0],[\"Mizoram\",441006.0],[\"Nagaland\",0.0],[\"Orrisa\",0.0],[\"Pondicherry\",0.0],[\"Punjab\",0.0],[\"Rajasthan\",0.0],[\"Sikkim\",0.0],[\"TN\",0.0],[\"Tripura\",0.0],[\"UP\",0.0],[\"Uttranchal\",0.0],[\"WB\",0.0]]}],\"title\":{\"text\":\"Population\"},\"xAxis\":{\"title\":{\"text\":\"State\"},\"categories\":[\"AN\",\"Andhra\",\"ArunachalPradesh\",\"Assam\",\"Bihar\",\"CG\",\"Chandigarh\",\"D_D\",\"D_N_H\",\"Delhi\",\"Goa\",\"Gujarat\",\"HP\",\"Haryana\",\"JK\",\"Jharkhand\",\"Karnataka\",\"Kerala\",\"Lakshdweep\",\"MP\",\"Maharashtra\",\"Manipur\",\"Meghalya\",\"Mizoram\",\"Nagaland\",\"Orrisa\",\"Pondicherry\",\"Punjab\",\"Rajasthan\",\"Sikkim\",\"TN\",\"Tripura\",\"UP\",\"Uttranchal\",\"WB\"]},\"yAxis\":[{}]});</script>"
      ],
      "text/plain": [
       "<IPython.core.display.HTML object>"
      ]
     },
     "metadata": {},
     "output_type": "display_data"
    }
   ],
   "source": [
    "dataAll['Rural'] = pd.to_numeric(dataAll['Rural'], errors='coerce')\n",
    "dataAll['Urban'] = pd.to_numeric(dataAll['Urban'], errors='coerce')\n",
    "dataAll['Scheduled.Caste.population'] = pd.to_numeric(dataAll['Scheduled.Caste.population'], errors='coerce')\n",
    "dataAll['Percentage...SC.to.total'] = pd.to_numeric(dataAll['Percentage...SC.to.total'], errors='coerce')\n",
    "pldf = dataAll.groupby(['State'])[['Persons','Males','Females','Growth..1991...2001.','Rural','Urban','Scheduled.Caste.population','Percentage...SC.to.total']].sum()\n",
    "pldf['Growth 1991-2001'] = pldf['Growth..1991...2001.'].div(dataAll.groupby(['State'])['District'].count())\n",
    "del pldf['Growth..1991...2001.']\n",
    "display_charts(pldf , kind=\"bar\", title=\"Population\",figsize = (1000, 700))"
   ]
  },
  {
   "cell_type": "markdown",
   "metadata": {},
   "source": [
    "<h1> HouseHold </h1>"
   ]
  },
  {
   "cell_type": "code",
   "execution_count": 3,
   "metadata": {},
   "outputs": [
    {
     "data": {
      "text/html": [
       "<div id=\"chart_idnlJYLgMQ\"</div>\n",
       "    <script type=\"text/javascript\">new Highcharts.Chart({\"chart\":{\"renderTo\":\"chart_idnlJYLgMQ\",\"width\":1000,\"height\":700,\"type\":\"column\"},\"legend\":{\"enabled\":true},\"series\":[{\"name\":\"HH Size Per HouseHold\",\"yAxis\":0,\"data\":[[\"AN\",4.5],[\"Andhra\",4.4090909091],[\"ArunachalPradesh\",5.0769230769],[\"Assam\",5.5217391304],[\"Bihar\",6.1621621622],[\"CG\",5.0],[\"Chandigarh\",4.0],[\"D_D\",4.5],[\"D_N_H\",5.0],[\"Delhi\",5.1111111111],[\"Goa\",5.0],[\"Gujarat\",5.28],[\"HP\",4.9166666667],[\"Haryana\",5.9473684211],[\"JK\",6.3571428571],[\"Jharkhand\",5.6111111111],[\"Karnataka\",4.5925925926],[\"Kerala\",4.5714285714],[\"Lakshdweep\",6.0],[\"MP\",5.6],[\"Maharashtra\",4.9428571429],[\"Manipur\",6.0],[\"Meghalya\",5.7142857143],[\"Mizoram\",5.0],[\"Nagaland\",6.0],[\"Orrisa\",4.7931034483],[\"Pondicherry\",4.5],[\"Punjab\",5.7058823529],[\"Rajasthan\",6.03125],[\"Sikkim\",4.5],[\"TN\",4.1333333333],[\"Tripura\",5.0],[\"UP\",6.4857142857],[\"Uttranchal\",5.1538461538],[\"WB\",5.0555555556]]},{\"name\":\"Number.of.households\",\"yAxis\":0,\"data\":[[\"AN\",78242.0],[\"Andhra\",15801644.0],[\"ArunachalPradesh\",215574.0],[\"Assam\",4914823.0],[\"Bihar\",13744130.0],[\"CG\",4091551.0],[\"Chandigarh\",206465.0],[\"D_D\",35686.0],[\"D_N_H\",45586.0],[\"Delhi\",2733383.0],[\"Goa\",294812.0],[\"Gujarat\",9691362.0],[\"HP\",1221589.0],[\"Haryana\",3712319.0],[\"JK\",1568519.0],[\"Jharkhand\",4799081.0],[\"Karnataka\",9539473.0],[\"Kerala\",6726356.0],[\"Lakshdweep\",9993.0],[\"MP\",10912025.0],[\"Maharashtra\",19576736.0],[\"Manipur\",349245.0],[\"Meghalya\",418850.0],[\"Mizoram\",176134.0],[\"Nagaland\",328057.0],[\"Orrisa\",7507354.0],[\"Pondicherry\",215538.0],[\"Punjab\",4348580.0],[\"Rajasthan\",9317675.0],[\"Sikkim\",114223.0],[\"TN\",14665983.0],[\"Tripura\",664334.0],[\"UP\",25757640.0],[\"Uttranchal\",1603242.0],[\"WB\",15872083.0]]},{\"name\":\"Percentage to total Population ST\",\"yAxis\":0,\"data\":[[\"AN\",32.035],[\"Andhra\",7.25],[\"ArunachalPradesh\",67.7676923077],[\"Assam\",16.6330434783],[\"Bihar\",1.0578378378],[\"CG\",37.2975],[\"Chandigarh\",0.0],[\"D_D\",6.22],[\"D_N_H\",62.24],[\"Delhi\",0.0],[\"Goa\",0.045],[\"Gujarat\",20.3716],[\"HP\",14.9891666667],[\"Haryana\",0.0],[\"JK\",22.3207142857],[\"Jharkhand\",26.5288888889],[\"Karnataka\",6.5744444444],[\"Kerala\",2.165],[\"Lakshdweep\",94.51],[\"MP\",21.5177777778],[\"Maharashtra\",10.2591428571],[\"Manipur\",48.90125],[\"Meghalya\",89.6214285714],[\"Mizoram\",94.8375],[\"Nagaland\",90.38125],[\"Orrisa\",25.854137931],[\"Pondicherry\",0.0],[\"Punjab\",0.0],[\"Rajasthan\",14.408125],[\"Sikkim\",26.615],[\"TN\",0.99],[\"Tripura\",35.62],[\"UP\",0.0651428571],[\"Uttranchal\",2.0861538462],[\"WB\",6.8022222222]]},{\"name\":\"Scheduled.Tribe.population\",\"yAxis\":0,\"data\":[[\"AN\",29469.0],[\"Andhra\",4832543.0],[\"ArunachalPradesh\",705158.0],[\"Assam\",3308570.0],[\"Bihar\",758351.0],[\"CG\",6616596.0],[\"Chandigarh\",0.0],[\"D_D\",13997.0],[\"D_N_H\",137225.0],[\"Delhi\",0.0],[\"Goa\",566.0],[\"Gujarat\",7481160.0],[\"HP\",244587.0],[\"Haryana\",0.0],[\"JK\",1105979.0],[\"Jharkhand\",7087068.0],[\"Karnataka\",3233655.0],[\"Kerala\",364189.0],[\"Lakshdweep\",57321.0],[\"MP\",12233474.0],[\"Maharashtra\",8577276.0],[\"Manipur\",618350.0],[\"Meghalya\",1992862.0],[\"Mizoram\",839310.0],[\"Nagaland\",1774026.0],[\"Orrisa\",8012087.0],[\"Pondicherry\",0.0],[\"Punjab\",0.0],[\"Rajasthan\",7097706.0],[\"Sikkim\",111405.0],[\"TN\",651321.0],[\"Tripura\",993426.0],[\"UP\",107963.0],[\"Uttranchal\",256129.0],[\"WB\",4406794.0]]},{\"name\":\"Sex Ratio (Females) Per 1000 Males\",\"yAxis\":0,\"data\":[[\"AN\",850.5],[\"Andhra\",978.9090909091],[\"ArunachalPradesh\",889.5384615385],[\"Assam\",934.7391304348],[\"Bihar\",918.4054054054],[\"CG\",992.8125],[\"Chandigarh\",777.0],[\"D_D\",854.5],[\"D_N_H\",812.0],[\"Delhi\",820.5555555556],[\"Goa\",962.5],[\"Gujarat\",933.76],[\"HP\",943.1666666667],[\"Haryana\",861.8947368421],[\"JK\",889.0],[\"Jharkhand\",946.7222222222],[\"Karnataka\",862.5185185185],[\"Kerala\",1053.7142857143],[\"Lakshdweep\",948.0],[\"MP\",921.6888888889],[\"Maharashtra\",946.7142857143],[\"Manipur\",968.625],[\"Meghalya\",966.0],[\"Mizoram\",930.25],[\"Nagaland\",906.875],[\"Orrisa\",978.0],[\"Pondicherry\",1033.5],[\"Punjab\",880.8235294118],[\"Rajasthan\",920.625],[\"Sikkim\",863.0],[\"TN\",995.6],[\"Tripura\",945.5],[\"UP\",895.1285714286],[\"Uttranchal\",1006.9230769231],[\"WB\",935.6111111111]]},{\"name\":\"Sex Ratio 0-6 Years\",\"yAxis\":0,\"data\":[[\"AN\",947.5],[\"Andhra\",959.7272727273],[\"ArunachalPradesh\",968.6153846154],[\"Assam\",963.1304347826],[\"Bihar\",941.5405405405],[\"CG\",976.4375],[\"Chandigarh\",844.0],[\"D_D\",932.5],[\"D_N_H\",979.0],[\"Delhi\",874.5555555556],[\"Goa\",937.0],[\"Gujarat\",891.68],[\"HP\",911.4166666667],[\"Haryana\",812.8947368421],[\"JK\",949.7857142857],[\"Jharkhand\",965.0555555556],[\"Karnataka\",843.1851851852],[\"Kerala\",960.3571428571],[\"Lakshdweep\",958.0],[\"MP\",933.7111111111],[\"Maharashtra\",917.4571428571],[\"Manipur\",954.25],[\"Meghalya\",973.0],[\"Mizoram\",961.25],[\"Nagaland\",963.375],[\"Orrisa\",954.4482758621],[\"Pondicherry\",954.5],[\"Punjab\",797.1764705882],[\"Rajasthan\",908.75],[\"Sikkim\",969.5],[\"TN\",943.0333333333],[\"Tripura\",965.0],[\"UP\",914.8142857143],[\"Uttranchal\",920.0769230769],[\"WB\",959.3333333333]]}],\"title\":{\"text\":\"HouseHold\"},\"xAxis\":{\"title\":{\"text\":\"State\"},\"categories\":[\"AN\",\"Andhra\",\"ArunachalPradesh\",\"Assam\",\"Bihar\",\"CG\",\"Chandigarh\",\"D_D\",\"D_N_H\",\"Delhi\",\"Goa\",\"Gujarat\",\"HP\",\"Haryana\",\"JK\",\"Jharkhand\",\"Karnataka\",\"Kerala\",\"Lakshdweep\",\"MP\",\"Maharashtra\",\"Manipur\",\"Meghalya\",\"Mizoram\",\"Nagaland\",\"Orrisa\",\"Pondicherry\",\"Punjab\",\"Rajasthan\",\"Sikkim\",\"TN\",\"Tripura\",\"UP\",\"Uttranchal\",\"WB\"]},\"yAxis\":[{}]});</script>"
      ],
      "text/plain": [
       "<IPython.core.display.HTML object>"
      ]
     },
     "metadata": {},
     "output_type": "display_data"
    }
   ],
   "source": [
    "dataAll['Scheduled.Tribe.population'] =  pd.to_numeric(dataAll['Scheduled.Tribe.population'], errors='coerce')\n",
    "dataAll['Percentage.to.total.population..ST.'] = pd.to_numeric(dataAll['Percentage.to.total.population..ST.'], errors='coerce')\n",
    "dataAll['Number.of.households'] = pd.to_numeric(dataAll['Number.of.households'], errors='coerce')\n",
    "dataAll['Household.size..per.household.'] = pd.to_numeric(dataAll['Household.size..per.household.'], errors='coerce')\n",
    "dataAll['Sex.ratio..females.per.1000.males.'] = pd.to_numeric(dataAll['Sex.ratio..females.per.1000.males.'], errors='coerce')\n",
    "dataAll['Sex.ratio..0.6.years.'] = pd.to_numeric(dataAll['Sex.ratio..0.6.years.'], errors='coerce')\n",
    "dataAll['Scheduled.Tribe.population'] = pd.to_numeric(dataAll['Scheduled.Tribe.population'], errors='coerce')\n",
    "dataAll['Percentage.to.total.population..ST.'] = pd.to_numeric(dataAll['Percentage.to.total.population..ST.'], errors='coerce')\n",
    "\n",
    "HHdf = dataAll.groupby(['State'])[['Number.of.households','Household.size..per.household.','Sex.ratio..females.per.1000.males.','Sex.ratio..0.6.years.','Scheduled.Tribe.population','Percentage.to.total.population..ST.']].sum()\n",
    "HHdf['HH Size Per HouseHold'] = HHdf['Household.size..per.household.'].div(dataAll.groupby(['State'])['District'].count())\n",
    "HHdf['Sex Ratio (Females) Per 1000 Males'] = HHdf['Sex.ratio..females.per.1000.males.'].div(dataAll.groupby(['State'])['District'].count())\n",
    "HHdf['Sex Ratio 0-6 Years'] = HHdf['Sex.ratio..0.6.years.'].div(dataAll.groupby(['State'])['District'].count())\n",
    "HHdf['Percentage to total Population ST'] = HHdf['Percentage.to.total.population..ST.'].div(dataAll.groupby(['State'])['District'].count())\n",
    "\n",
    "HHdf.drop(['Household.size..per.household.','Sex.ratio..females.per.1000.males.','Sex.ratio..0.6.years.','Percentage.to.total.population..ST.'], axis = 1, inplace = True)\n",
    "display_charts(HHdf , kind=\"bar\", title=\"HouseHold\",figsize = (1000, 700))"
   ]
  },
  {
   "cell_type": "markdown",
   "metadata": {},
   "source": [
    "<h1> Literate </h1>"
   ]
  },
  {
   "cell_type": "code",
   "execution_count": 4,
   "metadata": {},
   "outputs": [
    {
     "data": {
      "text/html": [
       "<div id=\"chart_idHnhqFdqy\"</div>\n",
       "    <script type=\"text/javascript\">new Highcharts.Chart({\"chart\":{\"renderTo\":\"chart_idHnhqFdqy\",\"width\":1000,\"height\":700,\"type\":\"column\"},\"legend\":{\"enabled\":true},\"series\":[{\"name\":\"Females..Literate\",\"yAxis\":0,\"data\":[[\"AN\",106304],[\"Andhra\",15186483],[\"ArunachalPradesh\",181504],[\"Assam\",5826657],[\"Bihar\",10465201],[\"CG\",4461754],[\"Chandigarh\",260559],[\"D_D\",36608],[\"D_N_H\",31755],[\"Delhi\",3963917],[\"Goa\",444530],[\"Gujarat\",11994477],[\"HP\",1763235],[\"Haryana\",4613468],[\"JK\",1746658],[\"Jharkhand\",4130344],[\"Karnataka\",12773751],[\"Kerala\",12732086],[\"Lakshdweep\",20172],[\"MP\",11920289],[\"Maharashtra\",26780980],[\"Manipur\",523483],[\"Meghalya\",543603],[\"Mizoram\",311340],[\"Nagaland\",492122],[\"Orrisa\",7582549],[\"Pondicherry\",317609],[\"Punjab\",6314677],[\"Rajasthan\",9654853],[\"Sikkim\",129275],[\"TN\",17714883],[\"Tripura\",871392],[\"UP\",26817871],[\"Uttranchal\",2096907],[\"WB\",19743975]]},{\"name\":\"Males..Literate\",\"yAxis\":0,\"data\":[[\"AN\",146831],[\"Andhra\",21940112],[\"ArunachalPradesh\",303281],[\"Assam\",8188697],[\"Bihar\",20644376],[\"CG\",6711395],[\"Chandigarh\",382686],[\"D_D\",70992],[\"D_N_H\",72149],[\"Delhi\",5700847],[\"Goa\",541032],[\"Gujarat\",17833273],[\"HP\",2278386],[\"Haryana\",7480209],[\"JK\",3060628],[\"Jharkhand\",7646857],[\"Karnataka\",17661211],[\"Kerala\",12753602],[\"Lakshdweep\",24511],[\"MP\",19672274],[\"Maharashtra\",37184963],[\"Manipur\",706544],[\"Meghalya\",614272],[\"Mizoram\",350105],[\"Nagaland\",640201],[\"Orrisa\",11583073],[\"Pondicherry\",378758],[\"Punjab\",8442293],[\"Rajasthan\",18047157],[\"Sikkim\",189060],[\"TN\",22809662],[\"Tripura\",1150707],[\"UP\",48901413],[\"Uttranchal\",3008875],[\"WB\",27452426]]},{\"name\":\"Persons..literate\",\"yAxis\":0,\"data\":[[\"AN\",253135],[\"Andhra\",37126595],[\"ArunachalPradesh\",484785],[\"Assam\",14015354],[\"Bihar\",31109577],[\"CG\",11173149],[\"Chandigarh\",643245],[\"D_D\",107600],[\"D_N_H\",103904],[\"Delhi\",9664764],[\"Goa\",985562],[\"Gujarat\",29827750],[\"HP\",4041621],[\"Haryana\",12093677],[\"JK\",4807286],[\"Jharkhand\",11777201],[\"Karnataka\",30434962],[\"Kerala\",25485688],[\"Lakshdweep\",44683],[\"MP\",31592563],[\"Maharashtra\",63965943],[\"Manipur\",1230027],[\"Meghalya\",1157875],[\"Mizoram\",661445],[\"Nagaland\",1132323],[\"Orrisa\",19165622],[\"Pondicherry\",696367],[\"Punjab\",14756970],[\"Rajasthan\",27702010],[\"Sikkim\",318335],[\"TN\",40524545],[\"Tripura\",2022099],[\"UP\",75719284],[\"Uttranchal\",5105782],[\"WB\",47196401]]}],\"title\":{\"text\":\"Literate\"},\"xAxis\":{\"title\":{\"text\":\"State\"},\"categories\":[\"AN\",\"Andhra\",\"ArunachalPradesh\",\"Assam\",\"Bihar\",\"CG\",\"Chandigarh\",\"D_D\",\"D_N_H\",\"Delhi\",\"Goa\",\"Gujarat\",\"HP\",\"Haryana\",\"JK\",\"Jharkhand\",\"Karnataka\",\"Kerala\",\"Lakshdweep\",\"MP\",\"Maharashtra\",\"Manipur\",\"Meghalya\",\"Mizoram\",\"Nagaland\",\"Orrisa\",\"Pondicherry\",\"Punjab\",\"Rajasthan\",\"Sikkim\",\"TN\",\"Tripura\",\"UP\",\"Uttranchal\",\"WB\"]},\"yAxis\":[{}]});</script>"
      ],
      "text/plain": [
       "<IPython.core.display.HTML object>"
      ]
     },
     "metadata": {},
     "output_type": "display_data"
    }
   ],
   "source": [
    "litdf = dataAll.groupby(['State'])[['Persons..literate','Males..Literate','Females..Literate']].sum()\n",
    "display_charts(litdf , kind=\"bar\", title=\"Literate\",figsize = (1000, 700))"
   ]
  },
  {
   "cell_type": "markdown",
   "metadata": {},
   "source": [
    "<h1> Literacy Rate </h1>"
   ]
  },
  {
   "cell_type": "code",
   "execution_count": 5,
   "metadata": {},
   "outputs": [
    {
     "data": {
      "text/html": [
       "<div id=\"chart_idVVhkBdTb\"</div>\n",
       "    <script type=\"text/javascript\">new Highcharts.Chart({\"chart\":{\"renderTo\":\"chart_idVVhkBdTb\",\"width\":1000,\"height\":700,\"type\":\"area\"},\"legend\":{\"enabled\":true},\"series\":[{\"name\":\"Females..Literacy.Rate\",\"yAxis\":0,\"data\":[[\"AN\",70.815],[\"Andhra\",48.6390909091],[\"ArunachalPradesh\",42.0915384615],[\"Assam\",54.3504347826],[\"Bihar\",32.4586486486],[\"CG\",50.34125],[\"Chandigarh\",76.47],[\"D_D\",64.345],[\"D_N_H\",40.23],[\"Delhi\",75.0755555556],[\"Goa\",75.185],[\"Gujarat\",55.4052],[\"HP\",65.7016666667],[\"Haryana\",56.3821052632],[\"JK\",41.5242857143],[\"Jharkhand\",35.9305555556],[\"Karnataka\",55.7403703704],[\"Kerala\",87.285],[\"Lakshdweep\",80.47],[\"MP\",49.3257777778],[\"Maharashtra\",64.0802857143],[\"Manipur\",58.775],[\"Meghalya\",57.3742857143],[\"Mizoram\",82.61875],[\"Nagaland\",63.2],[\"Orrisa\",47.2006896552],[\"Pondicherry\",77.5],[\"Punjab\",62.1717647059],[\"Rajasthan\",42.06375],[\"Sikkim\",58.005],[\"TN\",63.569],[\"Tripura\",61.6175],[\"UP\",41.675],[\"Uttranchal\",58.7323076923],[\"WB\",56.5955555556]],\"stacking\":\"normal\"},{\"name\":\"Males..Literatacy.Rate\",\"yAxis\":0,\"data\":[[\"AN\",82.955],[\"Andhra\",69.7677272727],[\"ArunachalPradesh\",62.72],[\"Assam\",71.2582608696],[\"Bihar\",59.1891891892],[\"CG\",75.639375],[\"Chandigarh\",86.14],[\"D_D\",85.885],[\"D_N_H\",71.18],[\"Delhi\",87.0066666667],[\"Goa\",88.165],[\"Gujarat\",78.0784],[\"HP\",84.6841666667],[\"Haryana\",78.5968421053],[\"JK\",66.5657142857],[\"Jharkhand\",64.2572222222],[\"Karnataka\",75.472962963],[\"Kerala\",93.9628571429],[\"Lakshdweep\",92.53],[\"MP\",75.4982222222],[\"Maharashtra\",84.5748571429],[\"Manipur\",78.2025],[\"Meghalya\",63.9085714286],[\"Mizoram\",88.23125],[\"Nagaland\",73.315],[\"Orrisa\",72.5565517241],[\"Pondicherry\",88.575],[\"Punjab\",74.3735294118],[\"Rajasthan\",74.4875],[\"Sikkim\",74.5],[\"TN\",82.3426666667],[\"Tripura\",78.4125],[\"UP\",68.8041428571],[\"Uttranchal\",85.7484615385],[\"WB\",74.9533333333]],\"stacking\":\"normal\"},{\"name\":\"Persons..literacy.rate\",\"yAxis\":0,\"data\":[[\"AN\",77.42],[\"Andhra\",59.2936363636],[\"ArunachalPradesh\",53.1669230769],[\"Assam\",63.1169565217],[\"Bihar\",46.4213513514],[\"CG\",63.023125],[\"Chandigarh\",81.94],[\"D_D\",76.015],[\"D_N_H\",57.63],[\"Delhi\",81.6666666667],[\"Goa\",81.79],[\"Gujarat\",67.0748],[\"HP\",75.5083333333],[\"Haryana\",68.2447368421],[\"JK\",54.8671428571],[\"Jharkhand\",50.5116666667],[\"Karnataka\",65.7266666667],[\"Kerala\",90.5228571429],[\"Lakshdweep\",86.66],[\"MP\",62.9806666667],[\"Maharashtra\",74.5534285714],[\"Manipur\",68.6125],[\"Meghalya\",60.7228571429],[\"Mizoram\",85.55375],[\"Nagaland\",68.52875],[\"Orrisa\",59.9796551724],[\"Pondicherry\",82.995],[\"Punjab\",68.6117647059],[\"Rajasthan\",58.931875],[\"Sikkim\",66.9975],[\"TN\",72.9426666667],[\"Tripura\",70.27],[\"UP\",56.0105714286],[\"Uttranchal\",72.0176923077],[\"WB\",66.07]],\"stacking\":\"normal\"}],\"title\":{\"text\":\"Literacy Rate\"},\"xAxis\":{\"title\":{\"text\":\"State\"},\"categories\":[\"AN\",\"Andhra\",\"ArunachalPradesh\",\"Assam\",\"Bihar\",\"CG\",\"Chandigarh\",\"D_D\",\"D_N_H\",\"Delhi\",\"Goa\",\"Gujarat\",\"HP\",\"Haryana\",\"JK\",\"Jharkhand\",\"Karnataka\",\"Kerala\",\"Lakshdweep\",\"MP\",\"Maharashtra\",\"Manipur\",\"Meghalya\",\"Mizoram\",\"Nagaland\",\"Orrisa\",\"Pondicherry\",\"Punjab\",\"Rajasthan\",\"Sikkim\",\"TN\",\"Tripura\",\"UP\",\"Uttranchal\",\"WB\"]},\"yAxis\":[{}]});</script>"
      ],
      "text/plain": [
       "<IPython.core.display.HTML object>"
      ]
     },
     "metadata": {},
     "output_type": "display_data"
    }
   ],
   "source": [
    "literacydf = dataAll.groupby(['State'])[['Persons..literacy.rate','Males..Literatacy.Rate','Females..Literacy.Rate']].sum().div(dataAll.groupby(['State'])[['Persons..literacy.rate','Males..Literatacy.Rate','Females..Literacy.Rate']].count())\n",
    "display_charts(literacydf , kind=\"area\", title=\"Literacy Rate\",figsize = (1000, 700))"
   ]
  },
  {
   "cell_type": "markdown",
   "metadata": {},
   "source": [
    "<h1> Education Level Attended</h1>"
   ]
  },
  {
   "cell_type": "code",
   "execution_count": 6,
   "metadata": {},
   "outputs": [
    {
     "data": {
      "text/html": [
       "<div id=\"chart_idHmAhbiSy\"</div>\n",
       "    <script type=\"text/javascript\">new Highcharts.Chart({\"chart\":{\"renderTo\":\"chart_idHmAhbiSy\",\"width\":1000,\"height\":700,\"type\":\"line\"},\"legend\":{\"enabled\":true},\"series\":[{\"name\":\"Below.Primary\",\"yAxis\":0,\"data\":[[\"AN\",53401.0],[\"Andhra\",9058484.0],[\"ArunachalPradesh\",148737.0],[\"Assam\",4106789.0],[\"Bihar\",7890329.0],[\"CG\",3797072.0],[\"Chandigarh\",88518.0],[\"D_D\",21565.0],[\"D_N_H\",26108.0],[\"Delhi\",1534913.0],[\"Goa\",188906.0],[\"Gujarat\",8084263.0],[\"HP\",816877.0],[\"Haryana\",2687232.0],[\"JK\",860480.0],[\"Jharkhand\",3147802.0],[\"Karnataka\",6909742.0],[\"Kerala\",4931086.0],[\"Lakshdweep\",12358.0],[\"MP\",10199261.0],[\"Maharashtra\",16071905.0],[\"Manipur\",192572.0],[\"Meghalya\",466756.0],[\"Mizoram\",239221.0],[\"Nagaland\",229652.0],[\"Orrisa\",5549546.0],[\"Pondicherry\",96631.0],[\"Punjab\",2705535.0],[\"Rajasthan\",8994262.0],[\"Sikkim\",109121.0],[\"TN\",6492687.0],[\"Tripura\",648085.0],[\"UP\",19226939.0],[\"Uttranchal\",1156890.0],[\"WB\",16347698.0]]},{\"name\":\"Data.without.level\",\"yAxis\":0,\"data\":[[\"AN\",1969.0],[\"Andhra\",1424989.0],[\"ArunachalPradesh\",9346.0],[\"Assam\",302290.0],[\"Bihar\",1715049.0],[\"CG\",689424.0],[\"Chandigarh\",5945.0],[\"D_D\",443.0],[\"D_N_H\",1228.0],[\"Delhi\",96319.0],[\"Goa\",18010.0],[\"Gujarat\",286886.0],[\"HP\",59560.0],[\"Haryana\",169982.0],[\"JK\",246932.0],[\"Jharkhand\",317100.0],[\"Karnataka\",493012.0],[\"Kerala\",285154.0],[\"Lakshdweep\",2488.0],[\"MP\",1470687.0],[\"Maharashtra\",1261736.0],[\"Manipur\",35171.0],[\"Meghalya\",44773.0],[\"Mizoram\",14841.0],[\"Nagaland\",32467.0],[\"Orrisa\",414024.0],[\"Pondicherry\",10668.0],[\"Punjab\",245444.0],[\"Rajasthan\",1745915.0],[\"Sikkim\",7680.0],[\"TN\",4184273.0],[\"Tripura\",27812.0],[\"UP\",3272335.0],[\"Uttranchal\",109432.0],[\"WB\",892580.0]]},{\"name\":\"Graduate.and.Above\",\"yAxis\":0,\"data\":[[\"AN\",14903.0],[\"Andhra\",2672346.0],[\"ArunachalPradesh\",26047.0],[\"Assam\",678887.0],[\"Bihar\",2109415.0],[\"CG\",576721.0],[\"Chandigarh\",138441.0],[\"D_D\",6209.0],[\"D_N_H\",7896.0],[\"Delhi\",1761915.0],[\"Goa\",98297.0],[\"Gujarat\",1875741.0],[\"HP\",220770.0],[\"Haryana\",798689.0],[\"JK\",331548.0],[\"Jharkhand\",808678.0],[\"Karnataka\",2098294.0],[\"Kerala\",1443049.0],[\"Lakshdweep\",959.0],[\"MP\",1931049.0],[\"Maharashtra\",4886347.0],[\"Manipur\",142798.0],[\"Meghalya\",51642.0],[\"Mizoram\",26419.0],[\"Nagaland\",57511.0],[\"Orrisa\",1147895.0],[\"Pondicherry\",68364.0],[\"Punjab\",966747.0],[\"Rajasthan\",1471813.0],[\"Sikkim\",14348.0],[\"TN\",2196698.0],[\"Tripura\",99850.0],[\"UP\",4969397.0],[\"Uttranchal\",460155.0],[\"WB\",3186374.0]]},{\"name\":\"Matric.Higher.Secondary.Diploma\",\"yAxis\":0,\"data\":[[\"AN\",55898.0],[\"Andhra\",8839434.0],[\"ArunachalPradesh\",96513.0],[\"Assam\",3159772.0],[\"Bihar\",6651174.0],[\"CG\",1612748.0],[\"Chandigarh\",204402.0],[\"D_D\",31495.0],[\"D_N_H\",28169.0],[\"Delhi\",2770614.0],[\"Goa\",327415.0],[\"Gujarat\",7069504.0],[\"HP\",1143195.0],[\"Haryana\",3191018.0],[\"JK\",1261793.0],[\"Jharkhand\",2508782.0],[\"Karnataka\",7115643.0],[\"Kerala\",6735444.0],[\"Lakshdweep\",6718.0],[\"MP\",4825190.0],[\"Maharashtra\",15931653.0],[\"Manipur\",332979.0],[\"Meghalya\",184395.0],[\"Mizoram\",83614.0],[\"Nagaland\",272172.0],[\"Orrisa\",3666351.0],[\"Pondicherry\",196048.0],[\"Punjab\",4552509.0],[\"Rajasthan\",4111715.0],[\"Sikkim\",54694.0],[\"TN\",9030387.0],[\"Tripura\",215693.0],[\"UP\",15208830.0],[\"Uttranchal\",1124639.0],[\"WB\",7247795.0]]},{\"name\":\"Middle\",\"yAxis\":0,\"data\":[[\"AN\",56170.0],[\"Andhra\",3791532.0],[\"ArunachalPradesh\",80469.0],[\"Assam\",2575642.0],[\"Bihar\",4390226.0],[\"CG\",1559439.0],[\"Chandigarh\",90111.0],[\"D_D\",20664.0],[\"D_N_H\",15408.0],[\"Delhi\",1531690.0],[\"Goa\",159258.0],[\"Gujarat\",4423384.0],[\"HP\",690693.0],[\"Haryana\",2018523.0],[\"JK\",1074049.0],[\"Jharkhand\",1906603.0],[\"Karnataka\",3467285.0],[\"Kerala\",6034912.0],[\"Lakshdweep\",9162.0],[\"MP\",4733325.0],[\"Maharashtra\",9535895.0],[\"Manipur\",288806.0],[\"Meghalya\",150587.0],[\"Mizoram\",123034.0],[\"Nagaland\",229783.0],[\"Orrisa\",2786065.0],[\"Pondicherry\",141966.0],[\"Punjab\",2498421.0],[\"Rajasthan\",4330343.0],[\"Sikkim\",47836.0],[\"TN\",6967676.0],[\"Tripura\",388737.0],[\"UP\",14329834.0],[\"Uttranchal\",977893.0],[\"WB\",8050643.0]]},{\"name\":\"Primary\",\"yAxis\":0,\"data\":[[\"AN\",70777.0],[\"Andhra\",11336222.0],[\"ArunachalPradesh\",123639.0],[\"Assam\",3189339.0],[\"Bihar\",8334709.0],[\"CG\",2936720.0],[\"Chandigarh\",115349.0],[\"D_D\",27208.0],[\"D_N_H\",25077.0],[\"Delhi\",1967466.0],[\"Goa\",193669.0],[\"Gujarat\",8076854.0],[\"HP\",1109971.0],[\"Haryana\",3226643.0],[\"JK\",1031707.0],[\"Jharkhand\",3087105.0],[\"Karnataka\",7631531.0],[\"Kerala\",6055241.0],[\"Lakshdweep\",12994.0],[\"MP\",8426081.0],[\"Maharashtra\",16278061.0],[\"Manipur\",237357.0],[\"Meghalya\",259627.0],[\"Mizoram\",174269.0],[\"Nagaland\",310520.0],[\"Orrisa\",5600843.0],[\"Pondicherry\",182684.0],[\"Punjab\",3785055.0],[\"Rajasthan\",7047927.0],[\"Sikkim\",84475.0],[\"TN\",11652060.0],[\"Tripura\",641795.0],[\"UP\",18694554.0],[\"Uttranchal\",1275501.0],[\"WB\",11449999.0]]},{\"name\":\"Total.Educated\",\"yAxis\":0,\"data\":[[\"AN\",253135.0],[\"Andhra\",37126595.0],[\"ArunachalPradesh\",484785.0],[\"Assam\",14015354.0],[\"Bihar\",31109577.0],[\"CG\",11173149.0],[\"Chandigarh\",643245.0],[\"D_D\",107600.0],[\"D_N_H\",103904.0],[\"Delhi\",9664764.0],[\"Goa\",985562.0],[\"Gujarat\",29827750.0],[\"HP\",4041621.0],[\"Haryana\",12093677.0],[\"JK\",4807286.0],[\"Jharkhand\",11777201.0],[\"Karnataka\",27715542.0],[\"Kerala\",25485688.0],[\"Lakshdweep\",44683.0],[\"MP\",31592563.0],[\"Maharashtra\",63965943.0],[\"Manipur\",1230027.0],[\"Meghalya\",1157875.0],[\"Mizoram\",661445.0],[\"Nagaland\",1132323.0],[\"Orrisa\",19165622.0],[\"Pondicherry\",696367.0],[\"Punjab\",14756970.0],[\"Rajasthan\",27702010.0],[\"Sikkim\",318335.0],[\"TN\",40524545.0],[\"Tripura\",2022099.0],[\"UP\",75719284.0],[\"Uttranchal\",5105782.0],[\"WB\",47196401.0]]}],\"title\":{\"text\":\"Education Level Attended\"},\"xAxis\":{\"title\":{\"text\":\"State\"},\"categories\":[\"AN\",\"Andhra\",\"ArunachalPradesh\",\"Assam\",\"Bihar\",\"CG\",\"Chandigarh\",\"D_D\",\"D_N_H\",\"Delhi\",\"Goa\",\"Gujarat\",\"HP\",\"Haryana\",\"JK\",\"Jharkhand\",\"Karnataka\",\"Kerala\",\"Lakshdweep\",\"MP\",\"Maharashtra\",\"Manipur\",\"Meghalya\",\"Mizoram\",\"Nagaland\",\"Orrisa\",\"Pondicherry\",\"Punjab\",\"Rajasthan\",\"Sikkim\",\"TN\",\"Tripura\",\"UP\",\"Uttranchal\",\"WB\"]},\"yAxis\":[{}]});</script>"
      ],
      "text/plain": [
       "<IPython.core.display.HTML object>"
      ]
     },
     "metadata": {},
     "output_type": "display_data"
    }
   ],
   "source": [
    "edulvldf = dataAll.groupby(['State'])[['Total.Educated','Data.without.level','Below.Primary','Primary','Middle','Matric.Higher.Secondary.Diploma','Graduate.and.Above']].sum()\n",
    "display_charts(edulvldf , kind=\"line\", title=\"Education Level Attended\",figsize = (1000, 700))"
   ]
  },
  {
   "cell_type": "markdown",
   "metadata": {},
   "source": [
    "<h1>Different Age Groups In India </h1>"
   ]
  },
  {
   "cell_type": "code",
   "execution_count": 7,
   "metadata": {},
   "outputs": [
    {
     "data": {
      "text/html": [
       "<div id=\"chart_idaFbTQnvl\"</div>\n",
       "    <script type=\"text/javascript\">new Highcharts.Chart({\"chart\":{\"renderTo\":\"chart_idaFbTQnvl\",\"width\":1000,\"height\":700,\"type\":\"column\"},\"legend\":{\"enabled\":true},\"series\":[{\"name\":\"0-4 Years\",\"yAxis\":0,\"data\":[[\"AN\",31241.0],[\"Andhra\",6271257.0],[\"ArunachalPradesh\",137843.0],[\"Assam\",3033998.0],[\"Bihar\",11006072.0],[\"CG\",2452954.0],[\"Chandigarh\",79225.0],[\"D_D\",14957.0],[\"D_N_H\",29421.0],[\"Delhi\",1377861.0],[\"Goa\",103823.0],[\"Gujarat\",5268670.0],[\"HP\",560187.0],[\"Haryana\",2273739.0],[\"JK\",963603.0],[\"Jharkhand\",3269645.0],[\"Karnataka\",4564348.0],[\"Kerala\",2765164.0],[\"Lakshdweep\",6468.0],[\"MP\",7368736.0],[\"Maharashtra\",9532843.0],[\"Manipur\",191077.0],[\"Meghalya\",324566.0],[\"Mizoram\",100812.0],[\"Nagaland\",187660.0],[\"Orrisa\",3463528.0],[\"Pondicherry\",84617.0],[\"Punjab\",2128738.0],[\"Rajasthan\",7233220.0],[\"Sikkim\",52269.0],[\"TN\",5098462.0],[\"Tripura\",294460.0],[\"UP\",20721672.0],[\"Uttranchal\",922085.0],[\"WB\",7616261.0]]},{\"name\":\"15-59 Years\",\"yAxis\":0,\"data\":[[\"AN\",232463.0],[\"Andhra\",42854403.0],[\"ArunachalPradesh\",604117.0],[\"Assam\",15095846.0],[\"Bihar\",42445259.0],[\"CG\",11608684.0],[\"Chandigarh\",593235.0],[\"D_D\",106897.0],[\"D_N_H\",133814.0],[\"Delhi\",8616742.0],[\"Goa\",897157.0],[\"Gujarat\",30500549.0],[\"HP\",3631230.0],[\"Haryana\",11899996.0],[\"JK\",5805636.0],[\"Jharkhand\",14625165.0],[\"Karnataka\",29182187.0],[\"Kerala\",20182700.0],[\"Lakshdweep\",36134.0],[\"MP\",32655160.0],[\"Maharashtra\",57205509.0],[\"Manipur\",1215673.0],[\"Meghalya\",1229059.0],[\"Mizoram\",525038.0],[\"Nagaland\",1166560.0],[\"Orrisa\",20822124.0],[\"Pondicherry\",629830.0],[\"Punjab\",14455528.0],[\"Rajasthan\",29866101.0],[\"Sikkim\",320966.0],[\"TN\",39758463.0],[\"Tripura\",1886297.0],[\"UP\",85888210.0],[\"Uttranchal\",4730247.0],[\"WB\",47718976.0]]},{\"name\":\"5-14 Years\",\"yAxis\":0,\"data\":[[\"AN\",72803.0],[\"Andhra\",16617271.0],[\"ArunachalPradesh\",304982.0],[\"Assam\",6936344.0],[\"Bihar\",23868079.0],[\"CG\",5239700.0],[\"Chandigarh\",181963.0],[\"D_D\",28237.0],[\"D_N_H\",48337.0],[\"Delhi\",3115078.0],[\"Goa\",227403.0],[\"Gujarat\",11355498.0],[\"HP\",1324203.0],[\"Haryana\",5306241.0],[\"JK\",2653422.0],[\"Jharkhand\",7439049.0],[\"Karnataka\",10947649.0],[\"Kerala\",5531381.0],[\"Lakshdweep\",14266.0],[\"MP\",15883680.0],[\"Maharashtra\",21567532.0],[\"Manipur\",462153.0],[\"Meghalya\",656311.0],[\"Mizoram\",212924.0],[\"Nagaland\",540749.0],[\"Orrisa\",8365317.0],[\"Pondicherry\",178069.0],[\"Punjab\",5489138.0],[\"Rajasthan\",15310011.0],[\"Sikkim\",136638.0],[\"TN\",11612412.0],[\"Tripura\",781092.0],[\"UP\",47201660.0],[\"Uttranchal\",2164891.0],[\"WB\",19029144.0]]},{\"name\":\"60 Years & Above\",\"yAxis\":0,\"data\":[[\"AN\",19645.0],[\"Andhra\",5565656.0],[\"ArunachalPradesh\",51026.0],[\"Assam\",1589340.0],[\"Bihar\",5679099.0],[\"CG\",1532465.0],[\"Chandigarh\",46212.0],[\"D_D\",8113.0],[\"D_N_H\",8918.0],[\"Delhi\",740826.0],[\"Goa\",119285.0],[\"Gujarat\",3546300.0],[\"HP\",562280.0],[\"Haryana\",1664588.0],[\"JK\",721039.0],[\"Jharkhand\",1611970.0],[\"Karnataka\",3723505.0],[\"Kerala\",3362129.0],[\"Lakshdweep\",3782.0],[\"MP\",4440447.0],[\"Maharashtra\",8572743.0],[\"Manipur\",141372.0],[\"Meghalya\",108886.0],[\"Mizoram\",49799.0],[\"Nagaland\",95067.0],[\"Orrisa\",3013688.0],[\"Pondicherry\",81829.0],[\"Punjab\",2285595.0],[\"Rajasthan\",4097856.0],[\"Sikkim\",30978.0],[\"TN\",5936342.0],[\"Tripura\",237354.0],[\"UP\",12386379.0],[\"Uttranchal\",672126.0],[\"WB\",5811816.0]]}],\"title\":{\"text\":\"Diiferent Age Groups In India\"},\"xAxis\":{\"title\":{\"text\":\"State\"},\"categories\":[\"AN\",\"Andhra\",\"ArunachalPradesh\",\"Assam\",\"Bihar\",\"CG\",\"Chandigarh\",\"D_D\",\"D_N_H\",\"Delhi\",\"Goa\",\"Gujarat\",\"HP\",\"Haryana\",\"JK\",\"Jharkhand\",\"Karnataka\",\"Kerala\",\"Lakshdweep\",\"MP\",\"Maharashtra\",\"Manipur\",\"Meghalya\",\"Mizoram\",\"Nagaland\",\"Orrisa\",\"Pondicherry\",\"Punjab\",\"Rajasthan\",\"Sikkim\",\"TN\",\"Tripura\",\"UP\",\"Uttranchal\",\"WB\"]},\"yAxis\":[{}]});</script>"
      ],
      "text/plain": [
       "<IPython.core.display.HTML object>"
      ]
     },
     "metadata": {},
     "output_type": "display_data"
    }
   ],
   "source": [
    "ageGrpdf = dataAll.groupby(['State'])[['X0...4.years','X5...14.years','X15...59.years','X60.years.and.above..Incl..A.N.S..']].sum().rename(columns={'X0...4.years':'0-4 Years','X5...14.years':'5-14 Years','X15...59.years':'15-59 Years','X60.years.and.above..Incl..A.N.S..':'60 Years & Above'})\n",
    "display_charts(ageGrpdf , kind=\"bar\", title=\"Diiferent Age Groups In India\",figsize = (1000, 700))\n"
   ]
  },
  {
   "cell_type": "markdown",
   "metadata": {},
   "source": [
    "<h1> Workers In India </h1>"
   ]
  },
  {
   "cell_type": "code",
   "execution_count": 8,
   "metadata": {},
   "outputs": [
    {
     "data": {
      "text/html": [
       "<div id=\"chart_idiyKKNctD\"</div>\n",
       "    <script type=\"text/javascript\">new Highcharts.Chart({\"chart\":{\"renderTo\":\"chart_idiyKKNctD\",\"width\":1000,\"height\":700,\"type\":\"area\"},\"legend\":{\"enabled\":true},\"series\":[{\"name\":\"Main.workers\",\"yAxis\":0,\"data\":[[\"AN\",113607],[\"Andhra\",27426074],[\"ArunachalPradesh\",415007],[\"Assam\",7114097],[\"Bihar\",21052875],[\"CG\",7054595],[\"Chandigarh\",328989],[\"D_D\",67522],[\"D_N_H\",96184],[\"Delhi\",4317516],[\"Goa\",425305],[\"Gujarat\",17025074],[\"HP\",1963882],[\"Haryana\",6241324],[\"JK\",2608668],[\"Jharkhand\",6446782],[\"Karnataka\",19364759],[\"Kerala\",8236973],[\"Lakshdweep\",11710],[\"MP\",19102572],[\"Maharashtra\",34748053],[\"Manipur\",609491],[\"Meghalya\",757011],[\"Mizoram\",362450],[\"Nagaland\",703977],[\"Orrisa\",9290217],[\"Pondicherry\",317367],[\"Punjab\",7835732],[\"Rajasthan\",17436888],[\"Sikkim\",212904],[\"TN\",23757783],[\"Tripura\",912292],[\"UP\",39337649],[\"Uttranchal\",2322347],[\"WB\",23023583]],\"stacking\":\"normal\"},{\"name\":\"Marginal.workers\",\"yAxis\":0,\"data\":[[\"AN\",22647],[\"Andhra\",5527571],[\"ArunachalPradesh\",67895],[\"Assam\",2424494],[\"Bihar\",6921731],[\"CG\",2625276],[\"Chandigarh\",11433],[\"D_D\",5269],[\"D_N_H\",17938],[\"Delhi\",227718],[\"Goa\",97550],[\"Gujarat\",4230447],[\"HP\",1028579],[\"Haryana\",2136142],[\"JK\",1145147],[\"Jharkhand\",3662248],[\"Karnataka\",4170032],[\"Kerala\",2046914],[\"Lakshdweep\",3644],[\"MP\",6690947],[\"Maharashtra\",6425298],[\"Manipur\",263834],[\"Meghalya\",213135],[\"Mizoram\",104709],[\"Nagaland\",143819],[\"Orrisa\",4532701],[\"Pondicherry\",25288],[\"Punjab\",1291742],[\"Rajasthan\",6329767],[\"Sikkim\",50139],[\"TN\",4120499],[\"Tripura\",247269],[\"UP\",14646175],[\"Uttranchal\",811689],[\"WB\",6458107]],\"stacking\":\"normal\"},{\"name\":\"Non.workers\",\"yAxis\":0,\"data\":[[\"AN\",219898],[\"Andhra\",38354942],[\"ArunachalPradesh\",615066],[\"Assam\",17116937],[\"Bihar\",55023903],[\"CG\",11153932],[\"Chandigarh\",560213],[\"D_D\",85413],[\"D_N_H\",106368],[\"Delhi\",9305273],[\"Goa\",824813],[\"Gujarat\",29415496],[\"HP\",3085439],[\"Haryana\",12767098],[\"JK\",6389885],[\"Jharkhand\",16836799],[\"Karnataka\",29315771],[\"Kerala\",21557487],[\"Lakshdweep\",45296],[\"MP\",34554504],[\"Maharashtra\",55705276],[\"Manipur\",1136950],[\"Meghalya\",1348676],[\"Mizoram\",421414],[\"Nagaland\",1142240],[\"Orrisa\",21841739],[\"Pondicherry\",631690],[\"Punjab\",15231525],[\"Rajasthan\",32740533],[\"Sikkim\",277808],[\"TN\",34527397],[\"Tripura\",2039642],[\"UP\",112214097],[\"Uttranchal\",5355313],[\"WB\",50694507]],\"stacking\":\"normal\"},{\"name\":\"Total.workers\",\"yAxis\":0,\"data\":[[\"AN\",136254],[\"Andhra\",32953645],[\"ArunachalPradesh\",482902],[\"Assam\",9538591],[\"Bihar\",27974606],[\"CG\",9679871],[\"Chandigarh\",340422],[\"D_D\",72791],[\"D_N_H\",114122],[\"Delhi\",4545234],[\"Goa\",522855],[\"Gujarat\",21255521],[\"HP\",2992461],[\"Haryana\",8377466],[\"JK\",3753815],[\"Jharkhand\",10109030],[\"Karnataka\",23534791],[\"Kerala\",10283887],[\"Lakshdweep\",15354],[\"MP\",25793519],[\"Maharashtra\",41173351],[\"Manipur\",873325],[\"Meghalya\",970146],[\"Mizoram\",467159],[\"Nagaland\",847796],[\"Orrisa\",13822918],[\"Pondicherry\",342655],[\"Punjab\",9127474],[\"Rajasthan\",23766655],[\"Sikkim\",263043],[\"TN\",27878282],[\"Tripura\",1159561],[\"UP\",53983824],[\"Uttranchal\",3134036],[\"WB\",29481690]],\"stacking\":\"normal\"}],\"title\":{\"text\":\"Workers In India\"},\"xAxis\":{\"title\":{\"text\":\"State\"},\"categories\":[\"AN\",\"Andhra\",\"ArunachalPradesh\",\"Assam\",\"Bihar\",\"CG\",\"Chandigarh\",\"D_D\",\"D_N_H\",\"Delhi\",\"Goa\",\"Gujarat\",\"HP\",\"Haryana\",\"JK\",\"Jharkhand\",\"Karnataka\",\"Kerala\",\"Lakshdweep\",\"MP\",\"Maharashtra\",\"Manipur\",\"Meghalya\",\"Mizoram\",\"Nagaland\",\"Orrisa\",\"Pondicherry\",\"Punjab\",\"Rajasthan\",\"Sikkim\",\"TN\",\"Tripura\",\"UP\",\"Uttranchal\",\"WB\"]},\"yAxis\":[{}]});</script>"
      ],
      "text/plain": [
       "<IPython.core.display.HTML object>"
      ]
     },
     "metadata": {},
     "output_type": "display_data"
    }
   ],
   "source": [
    "workdf = dataAll.groupby(['State'])[['Total.workers','Main.workers','Marginal.workers','Non.workers']].sum()\n",
    "display_charts(workdf , kind=\"area\", title=\"Workers In India\",figsize = (1000, 700))"
   ]
  },
  {
   "cell_type": "markdown",
   "metadata": {},
   "source": [
    "<h1> Scheduled Castes </h1>"
   ]
  },
  {
   "cell_type": "code",
   "execution_count": 9,
   "metadata": {},
   "outputs": [
    {
     "data": {
      "text/html": [
       "<div id=\"chart_idDHWDUMCN\"</div>\n",
       "    <script type=\"text/javascript\">new Highcharts.Chart({\"chart\":{\"renderTo\":\"chart_idDHWDUMCN\",\"width\":1000,\"height\":700,\"type\":\"column\"},\"legend\":{\"enabled\":true},\"series\":[{\"name\":\"SC.1.Population\",\"yAxis\":0,\"data\":[[\"1.Ad Dharmi\",956804.0],[\"1.Adi Andhra\",3678.0],[\"1.Adi Dravida\",5120239.0],[\"1.Adi Karnataka\",1924820.0],[\"1.Arunthathiyar\",147388.0],[\"1.Bagdi etc.\",2097438.0],[\"1.Bairwa etc.\",532880.0],[\"1.Balahi etc.\",823359.0],[\"1.Balai\",207449.0],[\"1.Balmiki etc.\",159867.0],[\"1.Banjara etc.\",208534.0],[\"1.Bansphor\",77.0],[\"1.Basith\",18357.0],[\"1.Bauri\",893760.0],[\"1.Baurri\",75949.0],[\"1.Bhambi etc.\",651184.0],[\"1.Bhangi etc.\",11783.0],[\"1.Bhovi\",76230.0],[\"1.Bhuiya\",932056.0],[\"1.Brittial-Bania etc.\",172.0],[\"1.Chakkiliyan\",162650.0],[\"1.Chamar\",1554.0],[\"1.Chamar etc.\",31581303.0],[\"1.Chanal\",1286.0],[\"1.Chikwa etc.\",9071.0],[\"1.Chuhra (Balmiki)\",20846.0],[\"1.Dewar\",62037.0],[\"1.Dhobi\",19160.0],[\"1.Dhupi etc.\",203.0],[\"1.Dom etc.\",511384.0],[\"1.Dumna etc.\",146514.0],[\"1.Dusadh etc.\",1959010.0],[\"1.Ganda\",529152.0],[\"1.Ganda etc.\",81809.0],[\"1.Generic Castes etc.\",2943.0],[\"1.Ghasi\",52920.0],[\"1.Hali\",32698.0],[\"1.Hari etc.\",29233.0],[\"1.Holaya etc.\",349372.0],[\"1.Jalia Kaibarta\",19162.0],[\"1.Jhalo etc.\",74.0],[\"1.Kaibartta etc.\",13716.0],[\"1.Kami (Nepali) etc.\",17950.0],[\"1.Kandra etc.\",193697.0],[\"1.Kori\",288445.0],[\"1.Kori etc.\",304938.0],[\"1.Lois\",51663.0],[\"1.Madari\",148699.0],[\"1.Madiga\",5324933.0],[\"1.Mahar etc.\",6054567.0],[\"1.Mahisyadas\",31022.0],[\"1.Mahyavanshi etc.\",2693.0],[\"1.Mahyavansi etc.\",1346400.0],[\"1.Mala\",1784791.0],[\"1.Mazhabi\",1522747.0],[\"1.Megh etc.\",1849412.0],[\"1.Meghval etc.\",129621.0],[\"1.Mehtar etc.\",47.0],[\"1.Moger\",57629.0],[\"1.Muchi etc.\",2.0],[\"1.Musahar\",993426.0],[\"1.Namasudra\",2134560.0],[\"1.Pallan\",1422631.0],[\"1.Pan Pano\",483034.0],[\"1.Paraiyan etc.\",781828.0],[\"1.Parayan etc.\",23693.0],[\"1.Pasi etc.\",2576913.0],[\"1.Patial etc.\",36626.0],[\"1.Patni\",10.0],[\"1.Pulayan etc.\",199732.0],[\"1.Rajbanshi\",2688560.0],[\"1.Shilpkar\",512882.0],[\"1.Sutradhar\",21.0],[\"1.Thori etc.\",174532.0],[\"No Scheduled Castes in this area\",0.0],[\"etc.\",150867.0]]}],\"title\":{\"text\":\"Scheduled Caste In India\"},\"xAxis\":{\"title\":{\"text\":\"SC.1.Name\"},\"categories\":[\"1.Ad Dharmi\",\"1.Adi Andhra\",\"1.Adi Dravida\",\"1.Adi Karnataka\",\"1.Arunthathiyar\",\"1.Bagdi etc.\",\"1.Bairwa etc.\",\"1.Balahi etc.\",\"1.Balai\",\"1.Balmiki etc.\",\"1.Banjara etc.\",\"1.Bansphor\",\"1.Basith\",\"1.Bauri\",\"1.Baurri\",\"1.Bhambi etc.\",\"1.Bhangi etc.\",\"1.Bhovi\",\"1.Bhuiya\",\"1.Brittial-Bania etc.\",\"1.Chakkiliyan\",\"1.Chamar\",\"1.Chamar etc.\",\"1.Chanal\",\"1.Chikwa etc.\",\"1.Chuhra (Balmiki)\",\"1.Dewar\",\"1.Dhobi\",\"1.Dhupi etc.\",\"1.Dom etc.\",\"1.Dumna etc.\",\"1.Dusadh etc.\",\"1.Ganda\",\"1.Ganda etc.\",\"1.Generic Castes etc.\",\"1.Ghasi\",\"1.Hali\",\"1.Hari etc.\",\"1.Holaya etc.\",\"1.Jalia Kaibarta\",\"1.Jhalo etc.\",\"1.Kaibartta etc.\",\"1.Kami (Nepali) etc.\",\"1.Kandra etc.\",\"1.Kori\",\"1.Kori etc.\",\"1.Lois\",\"1.Madari\",\"1.Madiga\",\"1.Mahar etc.\",\"1.Mahisyadas\",\"1.Mahyavanshi etc.\",\"1.Mahyavansi etc.\",\"1.Mala\",\"1.Mazhabi\",\"1.Megh etc.\",\"1.Meghval etc.\",\"1.Mehtar etc.\",\"1.Moger\",\"1.Muchi etc.\",\"1.Musahar\",\"1.Namasudra\",\"1.Pallan\",\"1.Pan Pano\",\"1.Paraiyan etc.\",\"1.Parayan etc.\",\"1.Pasi etc.\",\"1.Patial etc.\",\"1.Patni\",\"1.Pulayan etc.\",\"1.Rajbanshi\",\"1.Shilpkar\",\"1.Sutradhar\",\"1.Thori etc.\",\"No Scheduled Castes in this area\",\"etc.\"]},\"yAxis\":[{}]});</script>"
      ],
      "text/plain": [
       "<IPython.core.display.HTML object>"
      ]
     },
     "metadata": {},
     "output_type": "display_data"
    }
   ],
   "source": [
    "dataAll['SC.1.Population'] = pd.to_numeric(dataAll['SC.1.Population'], errors='coerce')\n",
    "dataAll['SC.1.Population'] = pd.to_numeric(dataAll['SC.1.Population'], errors='coerce')\n",
    "sc1df = dataAll.groupby(['SC.1.Name'])[['SC.1.Population']].sum()\n",
    "display_charts(sc1df , kind=\"bar\", title=\"Scheduled Caste In India\",figsize = (1000, 700))"
   ]
  },
  {
   "cell_type": "markdown",
   "metadata": {},
   "source": [
    "<h1> Religion </h1>"
   ]
  },
  {
   "cell_type": "code",
   "execution_count": 26,
   "metadata": {},
   "outputs": [
    {
     "data": {
      "text/html": [
       "<div id=\"chart_idDaAWBLJn\"</div>\n",
       "    <script type=\"text/javascript\">new Highcharts.Chart({\"chart\":{\"renderTo\":\"chart_idDaAWBLJn\",\"width\":1000,\"height\":700,\"type\":\"column\"},\"legend\":{\"enabled\":true},\"series\":[{\"name\":\"Religeon.1.Population\",\"yAxis\":0,\"data\":[[\"1.Buddhists\",233353],[\"1.Christians\",4799682],[\"1.Hindus\",749439622],[\"1.Muslims\",13065735],[\"1.Others\",1479706],[\"1.Sikhs\",10844267]]}],\"title\":{\"text\":\"Scheduled Caste In India\"},\"xAxis\":{\"title\":{\"text\":\"Religeon.1.Name\"},\"categories\":[\"1.Buddhists\",\"1.Christians\",\"1.Hindus\",\"1.Muslims\",\"1.Others\",\"1.Sikhs\"]},\"yAxis\":[{}]});</script>"
      ],
      "text/plain": [
       "<IPython.core.display.HTML object>"
      ]
     },
     "metadata": {},
     "output_type": "display_data"
    }
   ],
   "source": [
    "reldf = dataAll.groupby(['Religeon.1.Name'])[['Religeon.1.Population']].sum()\n",
    "display_charts(reldf , kind=\"bar\", title=\"Scheduled Caste In India\",figsize = (1000, 700))\n"
   ]
  },
  {
   "cell_type": "markdown",
   "metadata": {},
   "source": [
    "<h1> Scheduled Tribes In India </h1>"
   ]
  },
  {
   "cell_type": "code",
   "execution_count": 17,
   "metadata": {},
   "outputs": [
    {
     "data": {
      "text/html": [
       "<div id=\"chart_idLQqKQQZW\"</div>\n",
       "    <script type=\"text/javascript\">new Highcharts.Chart({\"chart\":{\"renderTo\":\"chart_idLQqKQQZW\",\"width\":1000,\"height\":700,\"type\":\"column\"},\"legend\":{\"enabled\":true},\"series\":[{\"name\":\"ST.1.Population\",\"yAxis\":0,\"data\":[[\"1.Adi\",9707.0],[\"1.Adi Gallong\",39758.0],[\"1.Adi Minyong\",21544.0],[\"1.Andh\",209726.0],[\"1.Any Mizo (Lushai) tribes etc.\",638040.0],[\"1.Baiga\",18.0],[\"1.Barmans in Cachar\",13479.0],[\"1.Bedia\",998.0],[\"1.Bhil etc.\",10671664.0],[\"1.Bhot etc.\",23980.0],[\"1.Bhotia\",34596.0],[\"1.Bhottada etc.\",275004.0],[\"1.Bhutia etc.\",62078.0],[\"1.Boro etc.\",1193976.0],[\"1.Bot etc.\",77662.0],[\"1.Buksa\",10243.0],[\"1.Chakma\",38054.0],[\"1.Dafla\",16644.0],[\"1.Dhanka etc.\",17503.0],[\"1.Dhodia\",472134.0],[\"1.Dimasa etc.\",64881.0],[\"1.Dubla etc.\",10477.0],[\"1.Gaddi\",91789.0],[\"1.Gamit etc.\",325461.0],[\"1.Garasia (excluding Rajput Garasia)\",104851.0],[\"1.Garo\",627946.0],[\"1.Generic Tribes etc.\",14047.0],[\"1.Gond\",32224.0],[\"1.Gond Rajgond etc.\",1367036.0],[\"1.Gond etc.\",8014390.0],[\"1.Gujjar\",790795.0],[\"1.Ho\",671093.0],[\"1.Idu\\/Chulikata Mishmi\",9076.0],[\"1.Inhabitants of the Lakshadweep\",57321.0],[\"1.Irular\",83703.0],[\"1.Irular etc.\",23766.0],[\"1.Jannsari\",82147.0],[\"1.Jatapus\",93519.0],[\"1.Kabui\",69935.0],[\"1.Kachari etc.\",103771.0],[\"1.Kanaura etc.\",59022.0],[\"1.Kanikaran etc.\",24305.0],[\"1.Kathodi etc.\",103244.0],[\"1.Kattunayakan\",21443.0],[\"1.Kawar etc.\",160525.0],[\"1.Khairwar etc.\",17684.0],[\"1.Kharwar\",130627.0],[\"1.Khasi etc.\",1123127.0],[\"1.Khond etc.\",936898.0],[\"1.Kisan\",162358.0],[\"1.Kokna etc.\",48917.0],[\"1.Kol\",510302.0],[\"1.Kolha\",183262.0],[\"1.Koli\",95655.0],[\"1.Koli Mahadev etc.\",809438.0],[\"1.Kom\",2229.0],[\"1.Konda Dhoras\",134109.0],[\"1.Kondadora\",924.0],[\"1.Kora\",4276.0],[\"1.Korku etc.\",269254.0],[\"1.Koya\",120911.0],[\"1.Koya etc.\",409110.0],[\"1.Kurumans\",2035.0],[\"1.Lakher\",35058.0],[\"1.Lalung\",158317.0],[\"1.Lepcha\",13539.0],[\"1.Lohara etc.\",1374.0],[\"1.Malai Arayan\",28110.0],[\"1.Malayali\",309794.0],[\"1.Malayan\",2415.0],[\"1.Marati\",64128.0],[\"1.Mikir\",345540.0],[\"1.Mina\",3203368.0],[\"1.Miri\",515195.0],[\"1.Mishmi\",22944.0],[\"1.Monpa\",40843.0],[\"1.Munda\",620961.0],[\"1.Munda etc.\",35685.0],[\"1.Naga etc.\",1741692.0],[\"1.Naikda\",0.0],[\"1.Naikda etc.\",2715076.0],[\"1.Nicobarese\",28653.0],[\"1.Nissi\",67457.0],[\"1.Oraon\",1528323.0],[\"1.Oraon etc.\",249136.0],[\"1.Padhar\",10916.0],[\"1.Palliyar\",443.0],[\"1.Paniyan\",81152.0],[\"1.Paroja\",180446.0],[\"1.Purigpa\",37642.0],[\"1.Rabari\",15417.0],[\"1.Rabha\",93912.0],[\"1.Raji\",1.0],[\"1.Rathawa\",424195.0],[\"1.Riang\",80279.0],[\"1.Sahariya etc.\",428668.0],[\"1.Santal\",3202516.0],[\"1.Santhal\",2274660.0],[\"1.Saora etc.\",140622.0],[\"1.Saur\",43224.0],[\"1.Savaras etc.\",92165.0],[\"1.Shabar\",199624.0],[\"1.Siddi etc.\",108.0],[\"1.Sugalis etc.\",1637286.0],[\"1.Tagin\",36459.0],[\"1.Tangkhul\",132931.0],[\"1.Tangsa\",20431.0],[\"1.Thadou\",91169.0],[\"1.Thakur etc.\",2112.0],[\"1.Tharu\",166307.0],[\"1.Tripura etc.\",525219.0],[\"1.Ulladan\",8908.0],[\"1.Uraly\",7856.0],[\"1.Varli\",649635.0],[\"1.Wancho\",47066.0],[\"1.Yenadis\",379541.0],[\"1.Yerava\",19480.0],[\"No Scheduled Tribes in this area\",0.0]]}],\"title\":{\"text\":\"Scheduled Tribes In India\"},\"xAxis\":{\"title\":{\"text\":\"ST.1.Name\"},\"categories\":[\"1.Adi\",\"1.Adi Gallong\",\"1.Adi Minyong\",\"1.Andh\",\"1.Any Mizo (Lushai) tribes etc.\",\"1.Baiga\",\"1.Barmans in Cachar\",\"1.Bedia\",\"1.Bhil etc.\",\"1.Bhot etc.\",\"1.Bhotia\",\"1.Bhottada etc.\",\"1.Bhutia etc.\",\"1.Boro etc.\",\"1.Bot etc.\",\"1.Buksa\",\"1.Chakma\",\"1.Dafla\",\"1.Dhanka etc.\",\"1.Dhodia\",\"1.Dimasa etc.\",\"1.Dubla etc.\",\"1.Gaddi\",\"1.Gamit etc.\",\"1.Garasia (excluding Rajput Garasia)\",\"1.Garo\",\"1.Generic Tribes etc.\",\"1.Gond\",\"1.Gond Rajgond etc.\",\"1.Gond etc.\",\"1.Gujjar\",\"1.Ho\",\"1.Idu\\/Chulikata Mishmi\",\"1.Inhabitants of the Lakshadweep\",\"1.Irular\",\"1.Irular etc.\",\"1.Jannsari\",\"1.Jatapus\",\"1.Kabui\",\"1.Kachari etc.\",\"1.Kanaura etc.\",\"1.Kanikaran etc.\",\"1.Kathodi etc.\",\"1.Kattunayakan\",\"1.Kawar etc.\",\"1.Khairwar etc.\",\"1.Kharwar\",\"1.Khasi etc.\",\"1.Khond etc.\",\"1.Kisan\",\"1.Kokna etc.\",\"1.Kol\",\"1.Kolha\",\"1.Koli\",\"1.Koli Mahadev etc.\",\"1.Kom\",\"1.Konda Dhoras\",\"1.Kondadora\",\"1.Kora\",\"1.Korku etc.\",\"1.Koya\",\"1.Koya etc.\",\"1.Kurumans\",\"1.Lakher\",\"1.Lalung\",\"1.Lepcha\",\"1.Lohara etc.\",\"1.Malai Arayan\",\"1.Malayali\",\"1.Malayan\",\"1.Marati\",\"1.Mikir\",\"1.Mina\",\"1.Miri\",\"1.Mishmi\",\"1.Monpa\",\"1.Munda\",\"1.Munda etc.\",\"1.Naga etc.\",\"1.Naikda\",\"1.Naikda etc.\",\"1.Nicobarese\",\"1.Nissi\",\"1.Oraon\",\"1.Oraon etc.\",\"1.Padhar\",\"1.Palliyar\",\"1.Paniyan\",\"1.Paroja\",\"1.Purigpa\",\"1.Rabari\",\"1.Rabha\",\"1.Raji\",\"1.Rathawa\",\"1.Riang\",\"1.Sahariya etc.\",\"1.Santal\",\"1.Santhal\",\"1.Saora etc.\",\"1.Saur\",\"1.Savaras etc.\",\"1.Shabar\",\"1.Siddi etc.\",\"1.Sugalis etc.\",\"1.Tagin\",\"1.Tangkhul\",\"1.Tangsa\",\"1.Thadou\",\"1.Thakur etc.\",\"1.Tharu\",\"1.Tripura etc.\",\"1.Ulladan\",\"1.Uraly\",\"1.Varli\",\"1.Wancho\",\"1.Yenadis\",\"1.Yerava\",\"No Scheduled Tribes in this area\"]},\"yAxis\":[{}]});</script>"
      ],
      "text/plain": [
       "<IPython.core.display.HTML object>"
      ]
     },
     "metadata": {},
     "output_type": "display_data"
    }
   ],
   "source": [
    "dataAll['ST.1.Population'] = pd.to_numeric(dataAll['ST.1.Population'], errors='coerce') \n",
    "scdf = dataAll.groupby(['ST.1.Name'])[['ST.1.Population']].sum()\n",
    "display_charts(scdf , kind=\"bar\", title=\"Scheduled Tribes In India\",figsize = (1000, 700))"
   ]
  },
  {
   "cell_type": "markdown",
   "metadata": {},
   "source": [
    "<h1> Town Wise India Population </h1>"
   ]
  },
  {
   "cell_type": "code",
   "execution_count": 20,
   "metadata": {},
   "outputs": [
    {
     "data": {
      "text/html": [
       "<div id=\"chart_idabshlGyI\"</div>\n",
       "    <script type=\"text/javascript\">new Highcharts.Chart({\"chart\":{\"renderTo\":\"chart_idabshlGyI\",\"width\":1000,\"height\":700,\"type\":\"line\"},\"legend\":{\"enabled\":true},\"series\":[{\"name\":\"ST.1.Population\",\"yAxis\":0,\"data\":[[\"1.Adi\",9707.0],[\"1.Adi Gallong\",39758.0],[\"1.Adi Minyong\",21544.0],[\"1.Andh\",209726.0],[\"1.Any Mizo (Lushai) tribes etc.\",638040.0],[\"1.Baiga\",18.0],[\"1.Barmans in Cachar\",13479.0],[\"1.Bedia\",998.0],[\"1.Bhil etc.\",10671664.0],[\"1.Bhot etc.\",23980.0],[\"1.Bhotia\",34596.0],[\"1.Bhottada etc.\",275004.0],[\"1.Bhutia etc.\",62078.0],[\"1.Boro etc.\",1193976.0],[\"1.Bot etc.\",77662.0],[\"1.Buksa\",10243.0],[\"1.Chakma\",38054.0],[\"1.Dafla\",16644.0],[\"1.Dhanka etc.\",17503.0],[\"1.Dhodia\",472134.0],[\"1.Dimasa etc.\",64881.0],[\"1.Dubla etc.\",10477.0],[\"1.Gaddi\",91789.0],[\"1.Gamit etc.\",325461.0],[\"1.Garasia (excluding Rajput Garasia)\",104851.0],[\"1.Garo\",627946.0],[\"1.Generic Tribes etc.\",14047.0],[\"1.Gond\",32224.0],[\"1.Gond Rajgond etc.\",1367036.0],[\"1.Gond etc.\",8014390.0],[\"1.Gujjar\",790795.0],[\"1.Ho\",671093.0],[\"1.Idu\\/Chulikata Mishmi\",9076.0],[\"1.Inhabitants of the Lakshadweep\",57321.0],[\"1.Irular\",83703.0],[\"1.Irular etc.\",23766.0],[\"1.Jannsari\",82147.0],[\"1.Jatapus\",93519.0],[\"1.Kabui\",69935.0],[\"1.Kachari etc.\",103771.0],[\"1.Kanaura etc.\",59022.0],[\"1.Kanikaran etc.\",24305.0],[\"1.Kathodi etc.\",103244.0],[\"1.Kattunayakan\",21443.0],[\"1.Kawar etc.\",160525.0],[\"1.Khairwar etc.\",17684.0],[\"1.Kharwar\",130627.0],[\"1.Khasi etc.\",1123127.0],[\"1.Khond etc.\",936898.0],[\"1.Kisan\",162358.0],[\"1.Kokna etc.\",48917.0],[\"1.Kol\",510302.0],[\"1.Kolha\",183262.0],[\"1.Koli\",95655.0],[\"1.Koli Mahadev etc.\",809438.0],[\"1.Kom\",2229.0],[\"1.Konda Dhoras\",134109.0],[\"1.Kondadora\",924.0],[\"1.Kora\",4276.0],[\"1.Korku etc.\",269254.0],[\"1.Koya\",120911.0],[\"1.Koya etc.\",409110.0],[\"1.Kurumans\",2035.0],[\"1.Lakher\",35058.0],[\"1.Lalung\",158317.0],[\"1.Lepcha\",13539.0],[\"1.Lohara etc.\",1374.0],[\"1.Malai Arayan\",28110.0],[\"1.Malayali\",309794.0],[\"1.Malayan\",2415.0],[\"1.Marati\",64128.0],[\"1.Mikir\",345540.0],[\"1.Mina\",3203368.0],[\"1.Miri\",515195.0],[\"1.Mishmi\",22944.0],[\"1.Monpa\",40843.0],[\"1.Munda\",620961.0],[\"1.Munda etc.\",35685.0],[\"1.Naga etc.\",1741692.0],[\"1.Naikda\",0.0],[\"1.Naikda etc.\",2715076.0],[\"1.Nicobarese\",28653.0],[\"1.Nissi\",67457.0],[\"1.Oraon\",1528323.0],[\"1.Oraon etc.\",249136.0],[\"1.Padhar\",10916.0],[\"1.Palliyar\",443.0],[\"1.Paniyan\",81152.0],[\"1.Paroja\",180446.0],[\"1.Purigpa\",37642.0],[\"1.Rabari\",15417.0],[\"1.Rabha\",93912.0],[\"1.Raji\",1.0],[\"1.Rathawa\",424195.0],[\"1.Riang\",80279.0],[\"1.Sahariya etc.\",428668.0],[\"1.Santal\",3202516.0],[\"1.Santhal\",2274660.0],[\"1.Saora etc.\",140622.0],[\"1.Saur\",43224.0],[\"1.Savaras etc.\",92165.0],[\"1.Shabar\",199624.0],[\"1.Siddi etc.\",108.0],[\"1.Sugalis etc.\",1637286.0],[\"1.Tagin\",36459.0],[\"1.Tangkhul\",132931.0],[\"1.Tangsa\",20431.0],[\"1.Thadou\",91169.0],[\"1.Thakur etc.\",2112.0],[\"1.Tharu\",166307.0],[\"1.Tripura etc.\",525219.0],[\"1.Ulladan\",8908.0],[\"1.Uraly\",7856.0],[\"1.Varli\",649635.0],[\"1.Wancho\",47066.0],[\"1.Yenadis\",379541.0],[\"1.Yerava\",19480.0],[\"No Scheduled Tribes in this area\",0.0]]}],\"title\":{\"text\":\"Town Wise Populations In India\"},\"xAxis\":{\"title\":{\"text\":\"ST.1.Name\"},\"categories\":[\"1.Adi\",\"1.Adi Gallong\",\"1.Adi Minyong\",\"1.Andh\",\"1.Any Mizo (Lushai) tribes etc.\",\"1.Baiga\",\"1.Barmans in Cachar\",\"1.Bedia\",\"1.Bhil etc.\",\"1.Bhot etc.\",\"1.Bhotia\",\"1.Bhottada etc.\",\"1.Bhutia etc.\",\"1.Boro etc.\",\"1.Bot etc.\",\"1.Buksa\",\"1.Chakma\",\"1.Dafla\",\"1.Dhanka etc.\",\"1.Dhodia\",\"1.Dimasa etc.\",\"1.Dubla etc.\",\"1.Gaddi\",\"1.Gamit etc.\",\"1.Garasia (excluding Rajput Garasia)\",\"1.Garo\",\"1.Generic Tribes etc.\",\"1.Gond\",\"1.Gond Rajgond etc.\",\"1.Gond etc.\",\"1.Gujjar\",\"1.Ho\",\"1.Idu\\/Chulikata Mishmi\",\"1.Inhabitants of the Lakshadweep\",\"1.Irular\",\"1.Irular etc.\",\"1.Jannsari\",\"1.Jatapus\",\"1.Kabui\",\"1.Kachari etc.\",\"1.Kanaura etc.\",\"1.Kanikaran etc.\",\"1.Kathodi etc.\",\"1.Kattunayakan\",\"1.Kawar etc.\",\"1.Khairwar etc.\",\"1.Kharwar\",\"1.Khasi etc.\",\"1.Khond etc.\",\"1.Kisan\",\"1.Kokna etc.\",\"1.Kol\",\"1.Kolha\",\"1.Koli\",\"1.Koli Mahadev etc.\",\"1.Kom\",\"1.Konda Dhoras\",\"1.Kondadora\",\"1.Kora\",\"1.Korku etc.\",\"1.Koya\",\"1.Koya etc.\",\"1.Kurumans\",\"1.Lakher\",\"1.Lalung\",\"1.Lepcha\",\"1.Lohara etc.\",\"1.Malai Arayan\",\"1.Malayali\",\"1.Malayan\",\"1.Marati\",\"1.Mikir\",\"1.Mina\",\"1.Miri\",\"1.Mishmi\",\"1.Monpa\",\"1.Munda\",\"1.Munda etc.\",\"1.Naga etc.\",\"1.Naikda\",\"1.Naikda etc.\",\"1.Nicobarese\",\"1.Nissi\",\"1.Oraon\",\"1.Oraon etc.\",\"1.Padhar\",\"1.Palliyar\",\"1.Paniyan\",\"1.Paroja\",\"1.Purigpa\",\"1.Rabari\",\"1.Rabha\",\"1.Raji\",\"1.Rathawa\",\"1.Riang\",\"1.Sahariya etc.\",\"1.Santal\",\"1.Santhal\",\"1.Saora etc.\",\"1.Saur\",\"1.Savaras etc.\",\"1.Shabar\",\"1.Siddi etc.\",\"1.Sugalis etc.\",\"1.Tagin\",\"1.Tangkhul\",\"1.Tangsa\",\"1.Thadou\",\"1.Thakur etc.\",\"1.Tharu\",\"1.Tripura etc.\",\"1.Ulladan\",\"1.Uraly\",\"1.Varli\",\"1.Wancho\",\"1.Yenadis\",\"1.Yerava\",\"No Scheduled Tribes in this area\"]},\"yAxis\":[{}]});</script>"
      ],
      "text/plain": [
       "<IPython.core.display.HTML object>"
      ]
     },
     "metadata": {},
     "output_type": "display_data"
    }
   ],
   "source": [
    "dataAll['Imp.Town.1.Population'] = pd.to_numeric(dataAll['Imp.Town.1.Population'], errors='coerce') \n",
    "twdf = dataAll.groupby(['Imp.Town.1.Name'])[['Imp.Town.1.Population']].sum()\n",
    "display_charts(scdf , kind=\"line\", title=\"Town Wise Populations In India\",figsize = (1000, 700))"
   ]
  },
  {
   "cell_type": "markdown",
   "metadata": {},
   "source": [
    "<h1> Total Inhabited Village </h1>"
   ]
  },
  {
   "cell_type": "code",
   "execution_count": 21,
   "metadata": {},
   "outputs": [
    {
     "data": {
      "text/html": [
       "<div id=\"chart_idVGjuLQvn\"</div>\n",
       "    <script type=\"text/javascript\">new Highcharts.Chart({\"chart\":{\"renderTo\":\"chart_idVGjuLQvn\",\"width\":1000,\"height\":700,\"type\":\"column\"},\"legend\":{\"enabled\":true},\"series\":[{\"name\":\"Total.Inhabited.Villages\",\"yAxis\":0,\"data\":[[\"AN\",501.0],[\"Andhra\",25290.0],[\"ArunachalPradesh\",3863.0],[\"Assam\",25124.0],[\"Bihar\",39032.0],[\"CG\",19744.0],[\"Chandigarh\",23.0],[\"D_D\",23.0],[\"D_N_H\",70.0],[\"Delhi\",158.0],[\"Goa\",347.0],[\"Gujarat\",18066.0],[\"HP\",17495.0],[\"Haryana\",6764.0],[\"JK\",6417.0],[\"Jharkhand\",29354.0],[\"Karnataka\",24823.0],[\"Kerala\",1364.0],[\"Lakshdweep\",8.0],[\"MP\",52117.0],[\"Maharashtra\",41095.0],[\"Manipur\",1708.0],[\"Meghalya\",5782.0],[\"Mizoram\",707.0],[\"Nagaland\",1278.0],[\"Orrisa\",45868.0],[\"Pondicherry\",92.0],[\"Punjab\",12278.0],[\"Rajasthan\",39752.0],[\"Sikkim\",450.0],[\"TN\",15400.0],[\"Tripura\",858.0],[\"UP\",97942.0],[\"Uttranchal\",15761.0],[\"WB\",37955.0]]}],\"title\":{\"text\":\"Total Inhabited Village In India\"},\"xAxis\":{\"title\":{\"text\":\"State\"},\"categories\":[\"AN\",\"Andhra\",\"ArunachalPradesh\",\"Assam\",\"Bihar\",\"CG\",\"Chandigarh\",\"D_D\",\"D_N_H\",\"Delhi\",\"Goa\",\"Gujarat\",\"HP\",\"Haryana\",\"JK\",\"Jharkhand\",\"Karnataka\",\"Kerala\",\"Lakshdweep\",\"MP\",\"Maharashtra\",\"Manipur\",\"Meghalya\",\"Mizoram\",\"Nagaland\",\"Orrisa\",\"Pondicherry\",\"Punjab\",\"Rajasthan\",\"Sikkim\",\"TN\",\"Tripura\",\"UP\",\"Uttranchal\",\"WB\"]},\"yAxis\":[{}]});</script>"
      ],
      "text/plain": [
       "<IPython.core.display.HTML object>"
      ]
     },
     "metadata": {},
     "output_type": "display_data"
    }
   ],
   "source": [
    "dataAll['Total.Inhabited.Villages'] = pd.to_numeric(dataAll['Total.Inhabited.Villages'], errors='coerce') \n",
    "tivdf = dataAll.groupby(['State'])[['Total.Inhabited.Villages']].sum()\n",
    "display_charts(tivdf , kind=\"bar\", title=\"Total Inhabited Village In India\",figsize = (1000, 700))"
   ]
  },
  {
   "cell_type": "markdown",
   "metadata": {},
   "source": [
    "<h1> Drinking Water Facilities In India </h1>"
   ]
  },
  {
   "cell_type": "code",
   "execution_count": 23,
   "metadata": {},
   "outputs": [
    {
     "data": {
      "text/html": [
       "<div id=\"chart_idXpmuHPbR\"</div>\n",
       "    <script type=\"text/javascript\">new Highcharts.Chart({\"chart\":{\"renderTo\":\"chart_idXpmuHPbR\",\"width\":1000,\"height\":700,\"type\":\"area\"},\"legend\":{\"enabled\":true},\"series\":[{\"name\":\"Drinking.water.facilities\",\"yAxis\":0,\"data\":[[\"AN\",500.0],[\"Andhra\",25264.0],[\"ArunachalPradesh\",3862.0],[\"Assam\",25123.0],[\"Bihar\",39032.0],[\"CG\",19468.0],[\"Chandigarh\",23.0],[\"D_D\",23.0],[\"D_N_H\",69.0],[\"Delhi\",158.0],[\"Goa\",347.0],[\"Gujarat\",18055.0],[\"HP\",17454.0],[\"Haryana\",6757.0],[\"JK\",6406.0],[\"Jharkhand\",29354.0],[\"Karnataka\",24270.0],[\"Kerala\",1364.0],[\"Lakshdweep\",8.0],[\"MP\",51678.0],[\"Maharashtra\",40918.0],[\"Manipur\",1679.0],[\"Meghalya\",5770.0],[\"Mizoram\",706.0],[\"Nagaland\",1274.0],[\"Orrisa\",45765.0],[\"Pondicherry\",92.0],[\"Punjab\",12227.0],[\"Rajasthan\",39646.0],[\"Sikkim\",450.0],[\"TN\",15310.0],[\"Tripura\",857.0],[\"UP\",96498.0],[\"Uttranchal\",15447.0],[\"WB\",37736.0]],\"stacking\":\"normal\"},{\"name\":\"Safe.Drinking.water\",\"yAxis\":0,\"data\":[[\"AN\",456.0],[\"Andhra\",23794.0],[\"ArunachalPradesh\",3185.0],[\"Assam\",24067.0],[\"Bihar\",38935.0],[\"CG\",19379.0],[\"Chandigarh\",23.0],[\"D_D\",23.0],[\"D_N_H\",69.0],[\"Delhi\",153.0],[\"Goa\",343.0],[\"Gujarat\",18009.0],[\"HP\",17314.0],[\"Haryana\",6757.0],[\"JK\",5985.0],[\"Jharkhand\",29028.0],[\"Karnataka\",24146.0],[\"Kerala\",1364.0],[\"Lakshdweep\",8.0],[\"MP\",51505.0],[\"Maharashtra\",40810.0],[\"Manipur\",874.0],[\"Meghalya\",4804.0],[\"Mizoram\",280.0],[\"Nagaland\",1179.0],[\"Orrisa\",45071.0],[\"Pondicherry\",92.0],[\"Punjab\",12201.0],[\"Rajasthan\",38394.0],[\"Sikkim\",444.0],[\"TN\",15299.0],[\"Tripura\",844.0],[\"UP\",96444.0],[\"Uttranchal\",14518.0],[\"WB\",37605.0]],\"stacking\":\"normal\"}],\"title\":{\"text\":\"Drinking Water Facility In India\"},\"xAxis\":{\"title\":{\"text\":\"State\"},\"categories\":[\"AN\",\"Andhra\",\"ArunachalPradesh\",\"Assam\",\"Bihar\",\"CG\",\"Chandigarh\",\"D_D\",\"D_N_H\",\"Delhi\",\"Goa\",\"Gujarat\",\"HP\",\"Haryana\",\"JK\",\"Jharkhand\",\"Karnataka\",\"Kerala\",\"Lakshdweep\",\"MP\",\"Maharashtra\",\"Manipur\",\"Meghalya\",\"Mizoram\",\"Nagaland\",\"Orrisa\",\"Pondicherry\",\"Punjab\",\"Rajasthan\",\"Sikkim\",\"TN\",\"Tripura\",\"UP\",\"Uttranchal\",\"WB\"]},\"yAxis\":[{}]});</script>"
      ],
      "text/plain": [
       "<IPython.core.display.HTML object>"
      ]
     },
     "metadata": {},
     "output_type": "display_data"
    }
   ],
   "source": [
    "dataAll['Drinking.water.facilities'] = pd.to_numeric(dataAll['Drinking.water.facilities'], errors='coerce')\n",
    "dataAll['Safe.Drinking.water'] = pd.to_numeric(dataAll['Safe.Drinking.water'], errors='coerce') \n",
    "dwfdf = dataAll.groupby(['State'])[['Drinking.water.facilities','Safe.Drinking.water']].sum()\n",
    "display_charts(dwfdf , kind=\"area\", title=\"Drinking Water Facility In India\",figsize = (1000, 700))"
   ]
  },
  {
   "cell_type": "markdown",
   "metadata": {},
   "source": [
    "<h1> Electric Power Supply In India </h1>"
   ]
  },
  {
   "cell_type": "code",
   "execution_count": 25,
   "metadata": {},
   "outputs": [
    {
     "data": {
      "text/html": [
       "<div id=\"chart_iddNaLgltw\"</div>\n",
       "    <script type=\"text/javascript\">new Highcharts.Chart({\"chart\":{\"renderTo\":\"chart_iddNaLgltw\",\"width\":1000,\"height\":700,\"type\":\"column\"},\"legend\":{\"enabled\":true},\"series\":[{\"name\":\"Electricity..Agriculture.\",\"yAxis\":0,\"data\":[[\"AN\",16.0],[\"Andhra\",0.0],[\"ArunachalPradesh\",15.0],[\"Assam\",600.0],[\"Bihar\",2889.0],[\"CG\",115.0],[\"Chandigarh\",1.0],[\"D_D\",0.0],[\"D_N_H\",0.0],[\"Delhi\",25.0],[\"Goa\",9.0],[\"Gujarat\",1200.0],[\"HP\",446.0],[\"Haryana\",207.0],[\"JK\",43.0],[\"Jharkhand\",366.0],[\"Karnataka\",0.0],[\"Kerala\",9.0],[\"Lakshdweep\",0.0],[\"MP\",252.0],[\"Maharashtra\",4337.0],[\"Manipur\",0.0],[\"Meghalya\",26.0],[\"Mizoram\",0.0],[\"Nagaland\",9.0],[\"Orrisa\",668.0],[\"Pondicherry\",0.0],[\"Punjab\",47.0],[\"Rajasthan\",572.0],[\"Sikkim\",0.0],[\"TN\",2360.0],[\"Tripura\",42.0],[\"UP\",981.0],[\"Uttranchal\",220.0],[\"WB\",308.0]]},{\"name\":\"Electricity..Power.Supply.\",\"yAxis\":0,\"data\":[[\"AN\",329.0],[\"Andhra\",25275.0],[\"ArunachalPradesh\",1652.0],[\"Assam\",17037.0],[\"Bihar\",14135.0],[\"CG\",16884.0],[\"Chandigarh\",23.0],[\"D_D\",23.0],[\"D_N_H\",69.0],[\"Delhi\",152.0],[\"Goa\",343.0],[\"Gujarat\",17861.0],[\"HP\",17386.0],[\"Haryana\",6747.0],[\"JK\",6108.0],[\"Jharkhand\",4569.0],[\"Karnataka\",24328.0],[\"Kerala\",1364.0],[\"Lakshdweep\",8.0],[\"MP\",49471.0],[\"Maharashtra\",40343.0],[\"Manipur\",1160.0],[\"Meghalya\",2598.0],[\"Mizoram\",426.0],[\"Nagaland\",1157.0],[\"Orrisa\",30300.0],[\"Pondicherry\",92.0],[\"Punjab\",12278.0],[\"Rajasthan\",32223.0],[\"Sikkim\",428.0],[\"TN\",15218.0],[\"Tripura\",758.0],[\"UP\",70260.0],[\"Uttranchal\",12200.0],[\"WB\",24606.0]]},{\"name\":\"Electricity..domestic.\",\"yAxis\":0,\"data\":[[\"AN\",241.0],[\"Andhra\",0.0],[\"ArunachalPradesh\",1601.0],[\"Assam\",16409.0],[\"Bihar\",9503.0],[\"CG\",10850.0],[\"Chandigarh\",1.0],[\"D_D\",0.0],[\"D_N_H\",0.0],[\"Delhi\",31.0],[\"Goa\",13.0],[\"Gujarat\",2244.0],[\"HP\",9327.0],[\"Haryana\",2200.0],[\"JK\",1672.0],[\"Jharkhand\",3931.0],[\"Karnataka\",0.0],[\"Kerala\",17.0],[\"Lakshdweep\",0.0],[\"MP\",19119.0],[\"Maharashtra\",9436.0],[\"Manipur\",1160.0],[\"Meghalya\",2468.0],[\"Mizoram\",419.0],[\"Nagaland\",1145.0],[\"Orrisa\",22872.0],[\"Pondicherry\",0.0],[\"Punjab\",47.0],[\"Rajasthan\",12544.0],[\"Sikkim\",364.0],[\"TN\",3008.0],[\"Tripura\",435.0],[\"UP\",34833.0],[\"Uttranchal\",10610.0],[\"WB\",20245.0]]}],\"title\":{\"text\":\"Electric Power Supply In India\"},\"xAxis\":{\"title\":{\"text\":\"State\"},\"categories\":[\"AN\",\"Andhra\",\"ArunachalPradesh\",\"Assam\",\"Bihar\",\"CG\",\"Chandigarh\",\"D_D\",\"D_N_H\",\"Delhi\",\"Goa\",\"Gujarat\",\"HP\",\"Haryana\",\"JK\",\"Jharkhand\",\"Karnataka\",\"Kerala\",\"Lakshdweep\",\"MP\",\"Maharashtra\",\"Manipur\",\"Meghalya\",\"Mizoram\",\"Nagaland\",\"Orrisa\",\"Pondicherry\",\"Punjab\",\"Rajasthan\",\"Sikkim\",\"TN\",\"Tripura\",\"UP\",\"Uttranchal\",\"WB\"]},\"yAxis\":[{}]});</script>"
      ],
      "text/plain": [
       "<IPython.core.display.HTML object>"
      ]
     },
     "metadata": {},
     "output_type": "display_data"
    }
   ],
   "source": [
    "dataAll['Electricity..Power.Supply.'] = pd.to_numeric(dataAll['Electricity..Power.Supply.'], errors='coerce')\n",
    "dataAll['Electricity..domestic.'] = pd.to_numeric(dataAll['Electricity..domestic.'], errors='coerce')\n",
    "dataAll['Electricity..Agriculture.'] = pd.to_numeric(dataAll['Electricity..Agriculture.'], errors='coerce')\n",
    "epsdf = dataAll.groupby(['State'])[['Electricity..Power.Supply.','Electricity..domestic.','Electricity..Agriculture.']].sum()\n",
    "display_charts(epsdf , kind=\"bar\", title=\"Electric Power Supply In India\",figsize = (1000, 700))"
   ]
  }
 ],
 "metadata": {
  "kernelspec": {
   "display_name": "Python 3",
   "language": "python",
   "name": "python3"
  },
  "language_info": {
   "codemirror_mode": {
    "name": "ipython",
    "version": 3
   },
   "file_extension": ".py",
   "mimetype": "text/x-python",
   "name": "python",
   "nbconvert_exporter": "python",
   "pygments_lexer": "ipython3",
   "version": "3.6.3"
  }
 },
 "nbformat": 4,
 "nbformat_minor": 2
}
