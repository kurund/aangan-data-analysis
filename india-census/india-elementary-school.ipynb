{
 "cells": [
  {
   "cell_type": "code",
   "execution_count": 1,
   "metadata": {},
   "outputs": [
    {
     "data": {
      "text/html": [
       "\n",
       "<script src=\"//code.highcharts.com/stock/highstock.js\"></script>\n",
       "<script src=\"//code.highcharts.com/highcharts-more.js\"></script>\n",
       "<script src=\"//code.highcharts.com/modules/exporting.js\"></script>\n"
      ],
      "text/plain": [
       "<IPython.core.display.HTML object>"
      ]
     },
     "metadata": {},
     "output_type": "display_data"
    }
   ],
   "source": [
    "import pandas as pd\n",
    "from pandas_highcharts.core import serialize\n",
    "from pandas_highcharts.display import display_charts\n",
    "from IPython.display import display\n",
    "pd.options.display.max_columns = None\n",
    "import numpy as np\n",
    "from functools import reduce\n",
    "# Reading csv data\n",
    "dataEl_2005_06 = pd.read_csv('data/elementary_2005_06.csv', encoding='utf-8')\n",
    "dataEl_2006_07 = pd.read_csv('data/elementary_2006_07.csv', encoding='utf-8')\n",
    "dataEl_2007_08 = pd.read_csv('data/elementary_2007_08.csv', encoding='utf-8')\n",
    "dataEl_2008_09 = pd.read_csv('data/elementary_2008_09.csv', encoding='utf-8')\n",
    "dataEl_2009_10 = pd.read_csv('data/elementary_2009_10.csv', encoding='utf-8')\n",
    "dataEl_2010_11 = pd.read_csv('data/elementary_2010_11.csv', encoding='utf-8')\n",
    "dataEl_2011_12 = pd.read_csv('data/elementary_2011_12.csv', encoding='utf-8')"
   ]
  },
  {
   "cell_type": "markdown",
   "metadata": {},
   "source": [
    "# Year wise student enrolment in pvt and govt school"
   ]
  },
  {
   "cell_type": "code",
   "execution_count": 2,
   "metadata": {},
   "outputs": [
    {
     "data": {
      "text/html": [
       "<div id=\"chart_idLrhLqrAV\"</div>\n",
       "    <script type=\"text/javascript\">new Highcharts.Chart({\"chart\":{\"renderTo\":\"chart_idLrhLqrAV\",\"width\":1000,\"height\":700,\"type\":\"column\"},\"legend\":{\"enabled\":true},\"series\":[{\"name\":\"ENROLMENT GOV\",\"yAxis\":0,\"data\":[[\"2005-06\",125651778],[\"2006-07\",129433656],[\"2007-08\",133689758],[\"2008-09\",133271517],[\"2009-10\",130810642],[\"2010-11\",123125807],[\"2011-12\",130034478]]},{\"name\":\"ENROLMENT PVT\",\"yAxis\":0,\"data\":[[\"2005-06\",42385165],[\"2006-07\",49933127],[\"2007-08\",50938184],[\"2008-09\",54454777],[\"2009-10\",57227728],[\"2010-11\",56055794],[\"2011-12\",64431391]]}],\"title\":{\"text\":\"Student's enrolment for differenr year\"},\"xAxis\":{\"title\":{\"text\":\"YEAR\"},\"categories\":[\"2005-06\",\"2006-07\",\"2007-08\",\"2008-09\",\"2009-10\",\"2010-11\",\"2011-12\"]},\"yAxis\":[{}]});</script>"
      ],
      "text/plain": [
       "<IPython.core.display.HTML object>"
      ]
     },
     "metadata": {},
     "output_type": "display_data"
    }
   ],
   "source": [
    "# Appending elementary data from 2005-2012\n",
    "dataEl = dataEl_2005_06 .append([dataEl_2006_07 , dataEl_2007_08, dataEl_2008_09,dataEl_2009_10,dataEl_2010_11,dataEl_2011_12])\n",
    "dataEl['ENROLMENT GOV'] = dataEl['PRIMARY (ENR GOVT1)'] + dataEl['PRIMARY WITH UPPER PRIMARY (ENR GOVT2)'] + dataEl['PRIMARY WITH UPPER PRIMARY SEC/HIGHER SEC. (ENR GOVT3)']+ dataEl['UPPER PRIMARY ONLY (ENR GOVT4)']+ dataEl['UPPER PRIMARY WITH SEC./HIGHER SEC. (ENR GOVT5)']\n",
    "dataEl['ENROLMENT PVT'] = dataEl['PRIMARY (ENR PVT1)'] + dataEl['PRIMARY WITH UPPER PRIMARY (ENR PVT2)'] + dataEl['PRIMARY WITH UPPER PRIMARY SEC/HIGHER SEC. (ENR PVT3)'] + dataEl['UPPER PRIMARY ONLY (ENR PVT4)'] + dataEl['UPPER PRIMARY WITH SEC./HIGHER SEC. (ENR PVT5)']\n",
    "datEnrGovSc = dataEl.groupby(['YEAR'])[['ENROLMENT GOV','ENROLMENT PVT']].sum()\n",
    "display_charts(datEnrGovSc, title=\"Student's enrolment for differenr year\", kind=\"bar\",figsize = (1000, 700))"
   ]
  },
  {
   "cell_type": "code",
   "execution_count": null,
   "metadata": {},
   "outputs": [],
   "source": []
  }
 ],
 "metadata": {
  "kernelspec": {
   "display_name": "Python 3",
   "language": "python",
   "name": "python3"
  },
  "language_info": {
   "codemirror_mode": {
    "name": "ipython",
    "version": 3
   },
   "file_extension": ".py",
   "mimetype": "text/x-python",
   "name": "python",
   "nbconvert_exporter": "python",
   "pygments_lexer": "ipython3",
   "version": "3.6.3"
  }
 },
 "nbformat": 4,
 "nbformat_minor": 2
}
